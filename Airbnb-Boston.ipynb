{
 "cells": [
  {
   "cell_type": "code",
   "execution_count": 1,
   "metadata": {
    "collapsed": true
   },
   "outputs": [],
   "source": [
    "%matplotlib inline\n",
    "\n",
    "import matplotlib\n",
    "import matplotlib.pyplot as plt\n",
    "import pandas as pd\n",
    "from datetime import datetime,timedelta\n",
    "import seaborn as sns\n",
    "from sklearn.model_selection import train_test_split, GridSearchCV,KFold\n",
    "from sklearn.linear_model import LinearRegression, Lasso, ElasticNet\n",
    "from sklearn.metrics import mean_squared_error, mean_absolute_error, r2_score\n",
    "from sklearn.preprocessing import StandardScaler, LabelEncoder\n",
    "from sklearn.ensemble import RandomForestRegressor\n",
    "from sklearn.decomposition import PCA\n",
    "import numpy as np\n",
    "from sklearn.svm import SVR\n",
    "import xgboost as xgb\n",
    "\n",
    "\n",
    "tableau20 = [(31, 119, 180), (174, 199, 232), (255, 127, 14), (255, 187, 120),    \n",
    "             (44, 160, 44), (152, 223, 138), (214, 39, 40), (255, 152, 150),    \n",
    "             (148, 103, 189), (197, 176, 213), (140, 86, 75), (196, 156, 148),    \n",
    "             (227, 119, 194), (247, 182, 210), (127, 127, 127), (199, 199, 199),    \n",
    "             (188, 189, 34), (219, 219, 141), (23, 190, 207), (158, 218, 229)]    \n",
    "  \n",
    "# Scale the RGB values to the [0, 1] range, which is the format matplotlib accepts.    \n",
    "for i in range(len(tableau20)):    \n",
    "    r, g, b = tableau20[i]    \n",
    "    tableau20[i] = (r / 255., g / 255., b / 255.)  "
   ]
  },
  {
   "cell_type": "markdown",
   "metadata": {},
   "source": [
    "# Import Data"
   ]
  },
  {
   "cell_type": "code",
   "execution_count": 2,
   "metadata": {
    "collapsed": false
   },
   "outputs": [],
   "source": [
    "calendar_df = pd.read_csv('calendar.csv')\n",
    "listings_df = pd.read_csv('listings.csv')\n",
    "reviews_df = pd.read_csv('reviews.csv')"
   ]
  },
  {
   "cell_type": "markdown",
   "metadata": {},
   "source": [
    "# Missing elements"
   ]
  },
  {
   "cell_type": "code",
   "execution_count": 3,
   "metadata": {
    "collapsed": false
   },
   "outputs": [
    {
     "name": "stdout",
     "output_type": "stream",
     "text": [
      "Number of elements 3585\n"
     ]
    },
    {
     "data": {
      "text/plain": [
       "neighbourhood_group_cleansed        3585\n",
       "jurisdiction_names                  3585\n",
       "license                             3585\n",
       "has_availability                    3585\n",
       "square_feet                         3529\n",
       "monthly_price                       2697\n",
       "weekly_price                        2693\n",
       "security_deposit                    2243\n",
       "notes                               1975\n",
       "interaction                         1554\n",
       "access                              1489\n",
       "neighborhood_overview               1415\n",
       "host_about                          1309\n",
       "transit                             1290\n",
       "house_rules                         1192\n",
       "cleaning_fee                        1107\n",
       "space                               1057\n",
       "review_scores_accuracy               823\n",
       "review_scores_location               822\n",
       "review_scores_value                  821\n",
       "review_scores_checkin                820\n",
       "review_scores_cleanliness            818\n",
       "review_scores_communication          818\n",
       "review_scores_rating                 813\n",
       "reviews_per_month                    756\n",
       "first_review                         756\n",
       "last_review                          756\n",
       "thumbnail_url                        599\n",
       "medium_url                           599\n",
       "xl_picture_url                       599\n",
       "                                    ... \n",
       "calendar_updated                       0\n",
       "availability_30                        0\n",
       "availability_60                        0\n",
       "availability_90                        0\n",
       "calendar_last_scraped                  0\n",
       "host_has_profile_pic                   0\n",
       "number_of_reviews                      0\n",
       "requires_license                       0\n",
       "instant_bookable                       0\n",
       "cancellation_policy                    0\n",
       "require_guest_profile_picture          0\n",
       "require_guest_phone_verification       0\n",
       "extra_people                           0\n",
       "guests_included                        0\n",
       "price                                  0\n",
       "amenities                              0\n",
       "bed_type                               0\n",
       "accommodates                           0\n",
       "room_type                              0\n",
       "is_location_exact                      0\n",
       "longitude                              0\n",
       "latitude                               0\n",
       "calculated_host_listings_count         0\n",
       "country_code                           0\n",
       "smart_location                         0\n",
       "state                                  0\n",
       "neighbourhood_cleansed                 0\n",
       "street                                 0\n",
       "host_identity_verified                 0\n",
       "id                                     0\n",
       "Length: 95, dtype: int64"
      ]
     },
     "execution_count": 3,
     "metadata": {},
     "output_type": "execute_result"
    }
   ],
   "source": [
    "print(\"Number of elements\",listings_df.shape[0])\n",
    "listings_df.isnull().sum(axis = 0).sort_values(ascending=False)\n"
   ]
  },
  {
   "cell_type": "markdown",
   "metadata": {},
   "source": [
    "# Description of the data"
   ]
  },
  {
   "cell_type": "code",
   "execution_count": 25,
   "metadata": {
    "collapsed": false
   },
   "outputs": [
    {
     "data": {
      "text/html": [
       "<div>\n",
       "<style scoped>\n",
       "    .dataframe tbody tr th:only-of-type {\n",
       "        vertical-align: middle;\n",
       "    }\n",
       "\n",
       "    .dataframe tbody tr th {\n",
       "        vertical-align: top;\n",
       "    }\n",
       "\n",
       "    .dataframe thead th {\n",
       "        text-align: right;\n",
       "    }\n",
       "</style>\n",
       "<table border=\"1\" class=\"dataframe\">\n",
       "  <thead>\n",
       "    <tr style=\"text-align: right;\">\n",
       "      <th></th>\n",
       "      <th>count</th>\n",
       "      <th>mean</th>\n",
       "      <th>std</th>\n",
       "      <th>min</th>\n",
       "      <th>25%</th>\n",
       "      <th>50%</th>\n",
       "      <th>75%</th>\n",
       "      <th>max</th>\n",
       "    </tr>\n",
       "  </thead>\n",
       "  <tbody>\n",
       "    <tr>\n",
       "      <th>id</th>\n",
       "      <td>3585.0</td>\n",
       "      <td>8.440875e+06</td>\n",
       "      <td>4.500787e+06</td>\n",
       "      <td>3.353000e+03</td>\n",
       "      <td>4.679319e+06</td>\n",
       "      <td>8.577620e+06</td>\n",
       "      <td>1.278953e+07</td>\n",
       "      <td>1.493346e+07</td>\n",
       "    </tr>\n",
       "    <tr>\n",
       "      <th>scrape_id</th>\n",
       "      <td>3585.0</td>\n",
       "      <td>2.016091e+13</td>\n",
       "      <td>0.000000e+00</td>\n",
       "      <td>2.016091e+13</td>\n",
       "      <td>2.016091e+13</td>\n",
       "      <td>2.016091e+13</td>\n",
       "      <td>2.016091e+13</td>\n",
       "      <td>2.016091e+13</td>\n",
       "    </tr>\n",
       "    <tr>\n",
       "      <th>host_id</th>\n",
       "      <td>3585.0</td>\n",
       "      <td>2.492311e+07</td>\n",
       "      <td>2.292781e+07</td>\n",
       "      <td>4.240000e+03</td>\n",
       "      <td>6.103425e+06</td>\n",
       "      <td>1.928100e+07</td>\n",
       "      <td>3.622147e+07</td>\n",
       "      <td>9.385411e+07</td>\n",
       "    </tr>\n",
       "    <tr>\n",
       "      <th>host_listings_count</th>\n",
       "      <td>3585.0</td>\n",
       "      <td>5.890237e+01</td>\n",
       "      <td>1.711197e+02</td>\n",
       "      <td>0.000000e+00</td>\n",
       "      <td>1.000000e+00</td>\n",
       "      <td>2.000000e+00</td>\n",
       "      <td>7.000000e+00</td>\n",
       "      <td>7.490000e+02</td>\n",
       "    </tr>\n",
       "    <tr>\n",
       "      <th>host_total_listings_count</th>\n",
       "      <td>3585.0</td>\n",
       "      <td>5.890237e+01</td>\n",
       "      <td>1.711197e+02</td>\n",
       "      <td>0.000000e+00</td>\n",
       "      <td>1.000000e+00</td>\n",
       "      <td>2.000000e+00</td>\n",
       "      <td>7.000000e+00</td>\n",
       "      <td>7.490000e+02</td>\n",
       "    </tr>\n",
       "    <tr>\n",
       "      <th>neighbourhood_group_cleansed</th>\n",
       "      <td>0.0</td>\n",
       "      <td>NaN</td>\n",
       "      <td>NaN</td>\n",
       "      <td>NaN</td>\n",
       "      <td>NaN</td>\n",
       "      <td>NaN</td>\n",
       "      <td>NaN</td>\n",
       "      <td>NaN</td>\n",
       "    </tr>\n",
       "    <tr>\n",
       "      <th>latitude</th>\n",
       "      <td>3585.0</td>\n",
       "      <td>4.234003e+01</td>\n",
       "      <td>2.440255e-02</td>\n",
       "      <td>4.223594e+01</td>\n",
       "      <td>4.232999e+01</td>\n",
       "      <td>4.234520e+01</td>\n",
       "      <td>4.235469e+01</td>\n",
       "      <td>4.238998e+01</td>\n",
       "    </tr>\n",
       "    <tr>\n",
       "      <th>longitude</th>\n",
       "      <td>3585.0</td>\n",
       "      <td>-7.108482e+01</td>\n",
       "      <td>3.156464e-02</td>\n",
       "      <td>-7.117179e+01</td>\n",
       "      <td>-7.110508e+01</td>\n",
       "      <td>-7.107843e+01</td>\n",
       "      <td>-7.106215e+01</td>\n",
       "      <td>-7.100010e+01</td>\n",
       "    </tr>\n",
       "    <tr>\n",
       "      <th>accommodates</th>\n",
       "      <td>3585.0</td>\n",
       "      <td>3.041283e+00</td>\n",
       "      <td>1.778929e+00</td>\n",
       "      <td>1.000000e+00</td>\n",
       "      <td>2.000000e+00</td>\n",
       "      <td>2.000000e+00</td>\n",
       "      <td>4.000000e+00</td>\n",
       "      <td>1.600000e+01</td>\n",
       "    </tr>\n",
       "    <tr>\n",
       "      <th>bathrooms</th>\n",
       "      <td>3571.0</td>\n",
       "      <td>1.221647e+00</td>\n",
       "      <td>5.014871e-01</td>\n",
       "      <td>0.000000e+00</td>\n",
       "      <td>1.000000e+00</td>\n",
       "      <td>1.000000e+00</td>\n",
       "      <td>1.000000e+00</td>\n",
       "      <td>6.000000e+00</td>\n",
       "    </tr>\n",
       "    <tr>\n",
       "      <th>bedrooms</th>\n",
       "      <td>3575.0</td>\n",
       "      <td>1.255944e+00</td>\n",
       "      <td>7.530596e-01</td>\n",
       "      <td>0.000000e+00</td>\n",
       "      <td>1.000000e+00</td>\n",
       "      <td>1.000000e+00</td>\n",
       "      <td>2.000000e+00</td>\n",
       "      <td>5.000000e+00</td>\n",
       "    </tr>\n",
       "    <tr>\n",
       "      <th>beds</th>\n",
       "      <td>3576.0</td>\n",
       "      <td>1.609060e+00</td>\n",
       "      <td>1.011745e+00</td>\n",
       "      <td>0.000000e+00</td>\n",
       "      <td>1.000000e+00</td>\n",
       "      <td>1.000000e+00</td>\n",
       "      <td>2.000000e+00</td>\n",
       "      <td>1.600000e+01</td>\n",
       "    </tr>\n",
       "    <tr>\n",
       "      <th>square_feet</th>\n",
       "      <td>56.0</td>\n",
       "      <td>8.584643e+02</td>\n",
       "      <td>6.088743e+02</td>\n",
       "      <td>0.000000e+00</td>\n",
       "      <td>4.150000e+02</td>\n",
       "      <td>8.250000e+02</td>\n",
       "      <td>1.200000e+03</td>\n",
       "      <td>2.400000e+03</td>\n",
       "    </tr>\n",
       "    <tr>\n",
       "      <th>guests_included</th>\n",
       "      <td>3585.0</td>\n",
       "      <td>1.429847e+00</td>\n",
       "      <td>1.056787e+00</td>\n",
       "      <td>0.000000e+00</td>\n",
       "      <td>1.000000e+00</td>\n",
       "      <td>1.000000e+00</td>\n",
       "      <td>1.000000e+00</td>\n",
       "      <td>1.400000e+01</td>\n",
       "    </tr>\n",
       "    <tr>\n",
       "      <th>minimum_nights</th>\n",
       "      <td>3585.0</td>\n",
       "      <td>3.171269e+00</td>\n",
       "      <td>8.874133e+00</td>\n",
       "      <td>1.000000e+00</td>\n",
       "      <td>1.000000e+00</td>\n",
       "      <td>2.000000e+00</td>\n",
       "      <td>3.000000e+00</td>\n",
       "      <td>3.000000e+02</td>\n",
       "    </tr>\n",
       "    <tr>\n",
       "      <th>maximum_nights</th>\n",
       "      <td>3585.0</td>\n",
       "      <td>2.872584e+04</td>\n",
       "      <td>1.670136e+06</td>\n",
       "      <td>1.000000e+00</td>\n",
       "      <td>3.650000e+02</td>\n",
       "      <td>1.125000e+03</td>\n",
       "      <td>1.125000e+03</td>\n",
       "      <td>1.000000e+08</td>\n",
       "    </tr>\n",
       "    <tr>\n",
       "      <th>has_availability</th>\n",
       "      <td>0.0</td>\n",
       "      <td>NaN</td>\n",
       "      <td>NaN</td>\n",
       "      <td>NaN</td>\n",
       "      <td>NaN</td>\n",
       "      <td>NaN</td>\n",
       "      <td>NaN</td>\n",
       "      <td>NaN</td>\n",
       "    </tr>\n",
       "    <tr>\n",
       "      <th>availability_30</th>\n",
       "      <td>3585.0</td>\n",
       "      <td>8.649930e+00</td>\n",
       "      <td>1.043533e+01</td>\n",
       "      <td>0.000000e+00</td>\n",
       "      <td>0.000000e+00</td>\n",
       "      <td>4.000000e+00</td>\n",
       "      <td>1.500000e+01</td>\n",
       "      <td>3.000000e+01</td>\n",
       "    </tr>\n",
       "    <tr>\n",
       "      <th>availability_60</th>\n",
       "      <td>3585.0</td>\n",
       "      <td>2.183319e+01</td>\n",
       "      <td>2.186097e+01</td>\n",
       "      <td>0.000000e+00</td>\n",
       "      <td>0.000000e+00</td>\n",
       "      <td>1.600000e+01</td>\n",
       "      <td>4.000000e+01</td>\n",
       "      <td>6.000000e+01</td>\n",
       "    </tr>\n",
       "    <tr>\n",
       "      <th>availability_90</th>\n",
       "      <td>3585.0</td>\n",
       "      <td>3.855816e+01</td>\n",
       "      <td>3.315827e+01</td>\n",
       "      <td>0.000000e+00</td>\n",
       "      <td>0.000000e+00</td>\n",
       "      <td>3.700000e+01</td>\n",
       "      <td>6.800000e+01</td>\n",
       "      <td>9.000000e+01</td>\n",
       "    </tr>\n",
       "    <tr>\n",
       "      <th>availability_365</th>\n",
       "      <td>3585.0</td>\n",
       "      <td>1.793464e+02</td>\n",
       "      <td>1.421362e+02</td>\n",
       "      <td>0.000000e+00</td>\n",
       "      <td>1.900000e+01</td>\n",
       "      <td>1.790000e+02</td>\n",
       "      <td>3.250000e+02</td>\n",
       "      <td>3.650000e+02</td>\n",
       "    </tr>\n",
       "    <tr>\n",
       "      <th>number_of_reviews</th>\n",
       "      <td>3585.0</td>\n",
       "      <td>1.904463e+01</td>\n",
       "      <td>3.557166e+01</td>\n",
       "      <td>0.000000e+00</td>\n",
       "      <td>1.000000e+00</td>\n",
       "      <td>5.000000e+00</td>\n",
       "      <td>2.100000e+01</td>\n",
       "      <td>4.040000e+02</td>\n",
       "    </tr>\n",
       "    <tr>\n",
       "      <th>review_scores_rating</th>\n",
       "      <td>2772.0</td>\n",
       "      <td>9.191667e+01</td>\n",
       "      <td>9.531686e+00</td>\n",
       "      <td>2.000000e+01</td>\n",
       "      <td>8.900000e+01</td>\n",
       "      <td>9.400000e+01</td>\n",
       "      <td>9.825000e+01</td>\n",
       "      <td>1.000000e+02</td>\n",
       "    </tr>\n",
       "    <tr>\n",
       "      <th>review_scores_accuracy</th>\n",
       "      <td>2762.0</td>\n",
       "      <td>9.431571e+00</td>\n",
       "      <td>9.318632e-01</td>\n",
       "      <td>2.000000e+00</td>\n",
       "      <td>9.000000e+00</td>\n",
       "      <td>1.000000e+01</td>\n",
       "      <td>1.000000e+01</td>\n",
       "      <td>1.000000e+01</td>\n",
       "    </tr>\n",
       "    <tr>\n",
       "      <th>review_scores_cleanliness</th>\n",
       "      <td>2767.0</td>\n",
       "      <td>9.258041e+00</td>\n",
       "      <td>1.168977e+00</td>\n",
       "      <td>2.000000e+00</td>\n",
       "      <td>9.000000e+00</td>\n",
       "      <td>1.000000e+01</td>\n",
       "      <td>1.000000e+01</td>\n",
       "      <td>1.000000e+01</td>\n",
       "    </tr>\n",
       "    <tr>\n",
       "      <th>review_scores_checkin</th>\n",
       "      <td>2765.0</td>\n",
       "      <td>9.646293e+00</td>\n",
       "      <td>7.627532e-01</td>\n",
       "      <td>2.000000e+00</td>\n",
       "      <td>9.000000e+00</td>\n",
       "      <td>1.000000e+01</td>\n",
       "      <td>1.000000e+01</td>\n",
       "      <td>1.000000e+01</td>\n",
       "    </tr>\n",
       "    <tr>\n",
       "      <th>review_scores_communication</th>\n",
       "      <td>2767.0</td>\n",
       "      <td>9.646549e+00</td>\n",
       "      <td>7.355070e-01</td>\n",
       "      <td>4.000000e+00</td>\n",
       "      <td>9.000000e+00</td>\n",
       "      <td>1.000000e+01</td>\n",
       "      <td>1.000000e+01</td>\n",
       "      <td>1.000000e+01</td>\n",
       "    </tr>\n",
       "    <tr>\n",
       "      <th>review_scores_location</th>\n",
       "      <td>2763.0</td>\n",
       "      <td>9.414043e+00</td>\n",
       "      <td>9.034360e-01</td>\n",
       "      <td>2.000000e+00</td>\n",
       "      <td>9.000000e+00</td>\n",
       "      <td>1.000000e+01</td>\n",
       "      <td>1.000000e+01</td>\n",
       "      <td>1.000000e+01</td>\n",
       "    </tr>\n",
       "    <tr>\n",
       "      <th>review_scores_value</th>\n",
       "      <td>2764.0</td>\n",
       "      <td>9.168234e+00</td>\n",
       "      <td>1.011116e+00</td>\n",
       "      <td>2.000000e+00</td>\n",
       "      <td>9.000000e+00</td>\n",
       "      <td>9.000000e+00</td>\n",
       "      <td>1.000000e+01</td>\n",
       "      <td>1.000000e+01</td>\n",
       "    </tr>\n",
       "    <tr>\n",
       "      <th>license</th>\n",
       "      <td>0.0</td>\n",
       "      <td>NaN</td>\n",
       "      <td>NaN</td>\n",
       "      <td>NaN</td>\n",
       "      <td>NaN</td>\n",
       "      <td>NaN</td>\n",
       "      <td>NaN</td>\n",
       "      <td>NaN</td>\n",
       "    </tr>\n",
       "    <tr>\n",
       "      <th>jurisdiction_names</th>\n",
       "      <td>0.0</td>\n",
       "      <td>NaN</td>\n",
       "      <td>NaN</td>\n",
       "      <td>NaN</td>\n",
       "      <td>NaN</td>\n",
       "      <td>NaN</td>\n",
       "      <td>NaN</td>\n",
       "      <td>NaN</td>\n",
       "    </tr>\n",
       "    <tr>\n",
       "      <th>calculated_host_listings_count</th>\n",
       "      <td>3585.0</td>\n",
       "      <td>1.273389e+01</td>\n",
       "      <td>2.941508e+01</td>\n",
       "      <td>1.000000e+00</td>\n",
       "      <td>1.000000e+00</td>\n",
       "      <td>2.000000e+00</td>\n",
       "      <td>6.000000e+00</td>\n",
       "      <td>1.360000e+02</td>\n",
       "    </tr>\n",
       "    <tr>\n",
       "      <th>reviews_per_month</th>\n",
       "      <td>2829.0</td>\n",
       "      <td>1.970908e+00</td>\n",
       "      <td>2.120561e+00</td>\n",
       "      <td>1.000000e-02</td>\n",
       "      <td>4.800000e-01</td>\n",
       "      <td>1.170000e+00</td>\n",
       "      <td>2.720000e+00</td>\n",
       "      <td>1.915000e+01</td>\n",
       "    </tr>\n",
       "  </tbody>\n",
       "</table>\n",
       "</div>"
      ],
      "text/plain": [
       "                                 count          mean           std  \\\n",
       "id                              3585.0  8.440875e+06  4.500787e+06   \n",
       "scrape_id                       3585.0  2.016091e+13  0.000000e+00   \n",
       "host_id                         3585.0  2.492311e+07  2.292781e+07   \n",
       "host_listings_count             3585.0  5.890237e+01  1.711197e+02   \n",
       "host_total_listings_count       3585.0  5.890237e+01  1.711197e+02   \n",
       "neighbourhood_group_cleansed       0.0           NaN           NaN   \n",
       "latitude                        3585.0  4.234003e+01  2.440255e-02   \n",
       "longitude                       3585.0 -7.108482e+01  3.156464e-02   \n",
       "accommodates                    3585.0  3.041283e+00  1.778929e+00   \n",
       "bathrooms                       3571.0  1.221647e+00  5.014871e-01   \n",
       "bedrooms                        3575.0  1.255944e+00  7.530596e-01   \n",
       "beds                            3576.0  1.609060e+00  1.011745e+00   \n",
       "square_feet                       56.0  8.584643e+02  6.088743e+02   \n",
       "guests_included                 3585.0  1.429847e+00  1.056787e+00   \n",
       "minimum_nights                  3585.0  3.171269e+00  8.874133e+00   \n",
       "maximum_nights                  3585.0  2.872584e+04  1.670136e+06   \n",
       "has_availability                   0.0           NaN           NaN   \n",
       "availability_30                 3585.0  8.649930e+00  1.043533e+01   \n",
       "availability_60                 3585.0  2.183319e+01  2.186097e+01   \n",
       "availability_90                 3585.0  3.855816e+01  3.315827e+01   \n",
       "availability_365                3585.0  1.793464e+02  1.421362e+02   \n",
       "number_of_reviews               3585.0  1.904463e+01  3.557166e+01   \n",
       "review_scores_rating            2772.0  9.191667e+01  9.531686e+00   \n",
       "review_scores_accuracy          2762.0  9.431571e+00  9.318632e-01   \n",
       "review_scores_cleanliness       2767.0  9.258041e+00  1.168977e+00   \n",
       "review_scores_checkin           2765.0  9.646293e+00  7.627532e-01   \n",
       "review_scores_communication     2767.0  9.646549e+00  7.355070e-01   \n",
       "review_scores_location          2763.0  9.414043e+00  9.034360e-01   \n",
       "review_scores_value             2764.0  9.168234e+00  1.011116e+00   \n",
       "license                            0.0           NaN           NaN   \n",
       "jurisdiction_names                 0.0           NaN           NaN   \n",
       "calculated_host_listings_count  3585.0  1.273389e+01  2.941508e+01   \n",
       "reviews_per_month               2829.0  1.970908e+00  2.120561e+00   \n",
       "\n",
       "                                         min           25%           50%  \\\n",
       "id                              3.353000e+03  4.679319e+06  8.577620e+06   \n",
       "scrape_id                       2.016091e+13  2.016091e+13  2.016091e+13   \n",
       "host_id                         4.240000e+03  6.103425e+06  1.928100e+07   \n",
       "host_listings_count             0.000000e+00  1.000000e+00  2.000000e+00   \n",
       "host_total_listings_count       0.000000e+00  1.000000e+00  2.000000e+00   \n",
       "neighbourhood_group_cleansed             NaN           NaN           NaN   \n",
       "latitude                        4.223594e+01  4.232999e+01  4.234520e+01   \n",
       "longitude                      -7.117179e+01 -7.110508e+01 -7.107843e+01   \n",
       "accommodates                    1.000000e+00  2.000000e+00  2.000000e+00   \n",
       "bathrooms                       0.000000e+00  1.000000e+00  1.000000e+00   \n",
       "bedrooms                        0.000000e+00  1.000000e+00  1.000000e+00   \n",
       "beds                            0.000000e+00  1.000000e+00  1.000000e+00   \n",
       "square_feet                     0.000000e+00  4.150000e+02  8.250000e+02   \n",
       "guests_included                 0.000000e+00  1.000000e+00  1.000000e+00   \n",
       "minimum_nights                  1.000000e+00  1.000000e+00  2.000000e+00   \n",
       "maximum_nights                  1.000000e+00  3.650000e+02  1.125000e+03   \n",
       "has_availability                         NaN           NaN           NaN   \n",
       "availability_30                 0.000000e+00  0.000000e+00  4.000000e+00   \n",
       "availability_60                 0.000000e+00  0.000000e+00  1.600000e+01   \n",
       "availability_90                 0.000000e+00  0.000000e+00  3.700000e+01   \n",
       "availability_365                0.000000e+00  1.900000e+01  1.790000e+02   \n",
       "number_of_reviews               0.000000e+00  1.000000e+00  5.000000e+00   \n",
       "review_scores_rating            2.000000e+01  8.900000e+01  9.400000e+01   \n",
       "review_scores_accuracy          2.000000e+00  9.000000e+00  1.000000e+01   \n",
       "review_scores_cleanliness       2.000000e+00  9.000000e+00  1.000000e+01   \n",
       "review_scores_checkin           2.000000e+00  9.000000e+00  1.000000e+01   \n",
       "review_scores_communication     4.000000e+00  9.000000e+00  1.000000e+01   \n",
       "review_scores_location          2.000000e+00  9.000000e+00  1.000000e+01   \n",
       "review_scores_value             2.000000e+00  9.000000e+00  9.000000e+00   \n",
       "license                                  NaN           NaN           NaN   \n",
       "jurisdiction_names                       NaN           NaN           NaN   \n",
       "calculated_host_listings_count  1.000000e+00  1.000000e+00  2.000000e+00   \n",
       "reviews_per_month               1.000000e-02  4.800000e-01  1.170000e+00   \n",
       "\n",
       "                                         75%           max  \n",
       "id                              1.278953e+07  1.493346e+07  \n",
       "scrape_id                       2.016091e+13  2.016091e+13  \n",
       "host_id                         3.622147e+07  9.385411e+07  \n",
       "host_listings_count             7.000000e+00  7.490000e+02  \n",
       "host_total_listings_count       7.000000e+00  7.490000e+02  \n",
       "neighbourhood_group_cleansed             NaN           NaN  \n",
       "latitude                        4.235469e+01  4.238998e+01  \n",
       "longitude                      -7.106215e+01 -7.100010e+01  \n",
       "accommodates                    4.000000e+00  1.600000e+01  \n",
       "bathrooms                       1.000000e+00  6.000000e+00  \n",
       "bedrooms                        2.000000e+00  5.000000e+00  \n",
       "beds                            2.000000e+00  1.600000e+01  \n",
       "square_feet                     1.200000e+03  2.400000e+03  \n",
       "guests_included                 1.000000e+00  1.400000e+01  \n",
       "minimum_nights                  3.000000e+00  3.000000e+02  \n",
       "maximum_nights                  1.125000e+03  1.000000e+08  \n",
       "has_availability                         NaN           NaN  \n",
       "availability_30                 1.500000e+01  3.000000e+01  \n",
       "availability_60                 4.000000e+01  6.000000e+01  \n",
       "availability_90                 6.800000e+01  9.000000e+01  \n",
       "availability_365                3.250000e+02  3.650000e+02  \n",
       "number_of_reviews               2.100000e+01  4.040000e+02  \n",
       "review_scores_rating            9.825000e+01  1.000000e+02  \n",
       "review_scores_accuracy          1.000000e+01  1.000000e+01  \n",
       "review_scores_cleanliness       1.000000e+01  1.000000e+01  \n",
       "review_scores_checkin           1.000000e+01  1.000000e+01  \n",
       "review_scores_communication     1.000000e+01  1.000000e+01  \n",
       "review_scores_location          1.000000e+01  1.000000e+01  \n",
       "review_scores_value             1.000000e+01  1.000000e+01  \n",
       "license                                  NaN           NaN  \n",
       "jurisdiction_names                       NaN           NaN  \n",
       "calculated_host_listings_count  6.000000e+00  1.360000e+02  \n",
       "reviews_per_month               2.720000e+00  1.915000e+01  "
      ]
     },
     "execution_count": 25,
     "metadata": {},
     "output_type": "execute_result"
    }
   ],
   "source": [
    "listings_df.describe().transpose()"
   ]
  },
  {
   "cell_type": "code",
   "execution_count": 5,
   "metadata": {
    "collapsed": false
   },
   "outputs": [
    {
     "data": {
      "text/plain": [
       "strict             1582\n",
       "flexible            999\n",
       "moderate            919\n",
       "super_strict_30      85\n",
       "Name: cancellation_policy, dtype: int64"
      ]
     },
     "execution_count": 5,
     "metadata": {},
     "output_type": "execute_result"
    }
   ],
   "source": [
    "listings_df.cancellation_policy.value_counts()\n"
   ]
  },
  {
   "cell_type": "code",
   "execution_count": 7,
   "metadata": {
    "collapsed": false
   },
   "outputs": [],
   "source": [
    "#listings_df.hist(figsize=(20,20));"
   ]
  },
  {
   "cell_type": "markdown",
   "metadata": {},
   "source": [
    "# Analyze extremes"
   ]
  },
  {
   "cell_type": "markdown",
   "metadata": {},
   "source": [
    "In listings_df we can find extremes with prices, minimum nights, maximum nights. As they seem to be really special cases I have removed them for the rest of the analyses. "
   ]
  },
  {
   "cell_type": "code",
   "execution_count": 3,
   "metadata": {
    "collapsed": false
   },
   "outputs": [
    {
     "data": {
      "text/html": [
       "<div>\n",
       "<style scoped>\n",
       "    .dataframe tbody tr th:only-of-type {\n",
       "        vertical-align: middle;\n",
       "    }\n",
       "\n",
       "    .dataframe tbody tr th {\n",
       "        vertical-align: top;\n",
       "    }\n",
       "\n",
       "    .dataframe thead th {\n",
       "        text-align: right;\n",
       "    }\n",
       "</style>\n",
       "<table border=\"1\" class=\"dataframe\">\n",
       "  <thead>\n",
       "    <tr style=\"text-align: right;\">\n",
       "      <th></th>\n",
       "      <th>697</th>\n",
       "      <th>1649</th>\n",
       "    </tr>\n",
       "  </thead>\n",
       "  <tbody>\n",
       "    <tr>\n",
       "      <th>id</th>\n",
       "      <td>3129309</td>\n",
       "      <td>4315439</td>\n",
       "    </tr>\n",
       "    <tr>\n",
       "      <th>listing_url</th>\n",
       "      <td>https://www.airbnb.com/rooms/3129309</td>\n",
       "      <td>https://www.airbnb.com/rooms/4315439</td>\n",
       "    </tr>\n",
       "    <tr>\n",
       "      <th>scrape_id</th>\n",
       "      <td>20160906204935</td>\n",
       "      <td>20160906204935</td>\n",
       "    </tr>\n",
       "    <tr>\n",
       "      <th>last_scraped</th>\n",
       "      <td>2016-09-07</td>\n",
       "      <td>2016-09-07</td>\n",
       "    </tr>\n",
       "    <tr>\n",
       "      <th>name</th>\n",
       "      <td>Charming freedom trail apartment</td>\n",
       "      <td>Private Room Logan Airport</td>\n",
       "    </tr>\n",
       "    <tr>\n",
       "      <th>summary</th>\n",
       "      <td>Great charming/cozy apartment right on the His...</td>\n",
       "      <td>3 min walk to the T Blue Line Orient Heights 3...</td>\n",
       "    </tr>\n",
       "    <tr>\n",
       "      <th>space</th>\n",
       "      <td>All to yourself a light filled and spacious on...</td>\n",
       "      <td>Gorgeous Big House that has  Private Room 1 pe...</td>\n",
       "    </tr>\n",
       "    <tr>\n",
       "      <th>description</th>\n",
       "      <td>Great charming/cozy apartment right on the His...</td>\n",
       "      <td>3 min walk to the T Blue Line Orient Heights 3...</td>\n",
       "    </tr>\n",
       "    <tr>\n",
       "      <th>experiences_offered</th>\n",
       "      <td>none</td>\n",
       "      <td>none</td>\n",
       "    </tr>\n",
       "    <tr>\n",
       "      <th>neighborhood_overview</th>\n",
       "      <td>You will love all the Great Restaurants around...</td>\n",
       "      <td>Safe; no Crime; Great professional families</td>\n",
       "    </tr>\n",
       "    <tr>\n",
       "      <th>notes</th>\n",
       "      <td>this might fit 3 with proper advance notice. A...</td>\n",
       "      <td>You will share the house with 3 busy professional</td>\n",
       "    </tr>\n",
       "    <tr>\n",
       "      <th>transit</th>\n",
       "      <td>You can get to the apartment by car,cab or pub...</td>\n",
       "      <td>10 minutes to Downtown Boston by blue Line T</td>\n",
       "    </tr>\n",
       "    <tr>\n",
       "      <th>access</th>\n",
       "      <td>We provide Covered Garage ( off street ) PARKI...</td>\n",
       "      <td>Living room  kitchen; wi fi</td>\n",
       "    </tr>\n",
       "    <tr>\n",
       "      <th>interaction</th>\n",
       "      <td>I will be a phone call/text/message away! I do...</td>\n",
       "      <td>minimal</td>\n",
       "    </tr>\n",
       "    <tr>\n",
       "      <th>house_rules</th>\n",
       "      <td>No Smoking on the apartment.  No Ilegal Drugs ...</td>\n",
       "      <td>Keep clean; quiet; no parties or excessive dri...</td>\n",
       "    </tr>\n",
       "    <tr>\n",
       "      <th>thumbnail_url</th>\n",
       "      <td>https://a1.muscache.com/im/pictures/39915530/e...</td>\n",
       "      <td>https://a2.muscache.com/im/pictures/8ab16e45-8...</td>\n",
       "    </tr>\n",
       "    <tr>\n",
       "      <th>medium_url</th>\n",
       "      <td>https://a1.muscache.com/im/pictures/39915530/e...</td>\n",
       "      <td>https://a2.muscache.com/im/pictures/8ab16e45-8...</td>\n",
       "    </tr>\n",
       "    <tr>\n",
       "      <th>picture_url</th>\n",
       "      <td>https://a1.muscache.com/im/pictures/39915530/e...</td>\n",
       "      <td>https://a2.muscache.com/im/pictures/8ab16e45-8...</td>\n",
       "    </tr>\n",
       "    <tr>\n",
       "      <th>xl_picture_url</th>\n",
       "      <td>https://a1.muscache.com/im/pictures/39915530/e...</td>\n",
       "      <td>https://a2.muscache.com/im/pictures/8ab16e45-8...</td>\n",
       "    </tr>\n",
       "    <tr>\n",
       "      <th>host_id</th>\n",
       "      <td>3637081</td>\n",
       "      <td>22402141</td>\n",
       "    </tr>\n",
       "    <tr>\n",
       "      <th>host_url</th>\n",
       "      <td>https://www.airbnb.com/users/show/3637081</td>\n",
       "      <td>https://www.airbnb.com/users/show/22402141</td>\n",
       "    </tr>\n",
       "    <tr>\n",
       "      <th>host_name</th>\n",
       "      <td>Jose/Jason</td>\n",
       "      <td>Mirian</td>\n",
       "    </tr>\n",
       "    <tr>\n",
       "      <th>host_since</th>\n",
       "      <td>2012-09-21</td>\n",
       "      <td>2014-10-11</td>\n",
       "    </tr>\n",
       "    <tr>\n",
       "      <th>host_location</th>\n",
       "      <td>Boston, Massachusetts, United States</td>\n",
       "      <td>Boston, Massachusetts, United States</td>\n",
       "    </tr>\n",
       "    <tr>\n",
       "      <th>host_about</th>\n",
       "      <td>Hello there, my name is Jason.  I look foward ...</td>\n",
       "      <td>Busy professional  who loves her beautiful hou...</td>\n",
       "    </tr>\n",
       "    <tr>\n",
       "      <th>host_response_time</th>\n",
       "      <td>within an hour</td>\n",
       "      <td>within an hour</td>\n",
       "    </tr>\n",
       "    <tr>\n",
       "      <th>host_response_rate</th>\n",
       "      <td>100%</td>\n",
       "      <td>100%</td>\n",
       "    </tr>\n",
       "    <tr>\n",
       "      <th>host_acceptance_rate</th>\n",
       "      <td>100%</td>\n",
       "      <td>100%</td>\n",
       "    </tr>\n",
       "    <tr>\n",
       "      <th>host_is_superhost</th>\n",
       "      <td>f</td>\n",
       "      <td>f</td>\n",
       "    </tr>\n",
       "    <tr>\n",
       "      <th>host_thumbnail_url</th>\n",
       "      <td>https://a0.muscache.com/im/users/3637081/profi...</td>\n",
       "      <td>https://a2.muscache.com/im/users/22402141/prof...</td>\n",
       "    </tr>\n",
       "    <tr>\n",
       "      <th>...</th>\n",
       "      <td>...</td>\n",
       "      <td>...</td>\n",
       "    </tr>\n",
       "    <tr>\n",
       "      <th>guests_included</th>\n",
       "      <td>1</td>\n",
       "      <td>1</td>\n",
       "    </tr>\n",
       "    <tr>\n",
       "      <th>extra_people</th>\n",
       "      <td>$0.00</td>\n",
       "      <td>$0.00</td>\n",
       "    </tr>\n",
       "    <tr>\n",
       "      <th>minimum_nights</th>\n",
       "      <td>1</td>\n",
       "      <td>7</td>\n",
       "    </tr>\n",
       "    <tr>\n",
       "      <th>maximum_nights</th>\n",
       "      <td>99999999</td>\n",
       "      <td>9999</td>\n",
       "    </tr>\n",
       "    <tr>\n",
       "      <th>calendar_updated</th>\n",
       "      <td>today</td>\n",
       "      <td>yesterday</td>\n",
       "    </tr>\n",
       "    <tr>\n",
       "      <th>has_availability</th>\n",
       "      <td>NaN</td>\n",
       "      <td>NaN</td>\n",
       "    </tr>\n",
       "    <tr>\n",
       "      <th>availability_30</th>\n",
       "      <td>3</td>\n",
       "      <td>29</td>\n",
       "    </tr>\n",
       "    <tr>\n",
       "      <th>availability_60</th>\n",
       "      <td>10</td>\n",
       "      <td>59</td>\n",
       "    </tr>\n",
       "    <tr>\n",
       "      <th>availability_90</th>\n",
       "      <td>35</td>\n",
       "      <td>89</td>\n",
       "    </tr>\n",
       "    <tr>\n",
       "      <th>availability_365</th>\n",
       "      <td>310</td>\n",
       "      <td>364</td>\n",
       "    </tr>\n",
       "    <tr>\n",
       "      <th>calendar_last_scraped</th>\n",
       "      <td>2016-09-06</td>\n",
       "      <td>2016-09-06</td>\n",
       "    </tr>\n",
       "    <tr>\n",
       "      <th>number_of_reviews</th>\n",
       "      <td>171</td>\n",
       "      <td>1</td>\n",
       "    </tr>\n",
       "    <tr>\n",
       "      <th>first_review</th>\n",
       "      <td>2014-06-07</td>\n",
       "      <td>2015-11-20</td>\n",
       "    </tr>\n",
       "    <tr>\n",
       "      <th>last_review</th>\n",
       "      <td>2016-08-29</td>\n",
       "      <td>2015-11-20</td>\n",
       "    </tr>\n",
       "    <tr>\n",
       "      <th>review_scores_rating</th>\n",
       "      <td>92</td>\n",
       "      <td>80</td>\n",
       "    </tr>\n",
       "    <tr>\n",
       "      <th>review_scores_accuracy</th>\n",
       "      <td>9</td>\n",
       "      <td>10</td>\n",
       "    </tr>\n",
       "    <tr>\n",
       "      <th>review_scores_cleanliness</th>\n",
       "      <td>9</td>\n",
       "      <td>6</td>\n",
       "    </tr>\n",
       "    <tr>\n",
       "      <th>review_scores_checkin</th>\n",
       "      <td>10</td>\n",
       "      <td>10</td>\n",
       "    </tr>\n",
       "    <tr>\n",
       "      <th>review_scores_communication</th>\n",
       "      <td>10</td>\n",
       "      <td>10</td>\n",
       "    </tr>\n",
       "    <tr>\n",
       "      <th>review_scores_location</th>\n",
       "      <td>10</td>\n",
       "      <td>6</td>\n",
       "    </tr>\n",
       "    <tr>\n",
       "      <th>review_scores_value</th>\n",
       "      <td>9</td>\n",
       "      <td>6</td>\n",
       "    </tr>\n",
       "    <tr>\n",
       "      <th>requires_license</th>\n",
       "      <td>f</td>\n",
       "      <td>f</td>\n",
       "    </tr>\n",
       "    <tr>\n",
       "      <th>license</th>\n",
       "      <td>NaN</td>\n",
       "      <td>NaN</td>\n",
       "    </tr>\n",
       "    <tr>\n",
       "      <th>jurisdiction_names</th>\n",
       "      <td>NaN</td>\n",
       "      <td>NaN</td>\n",
       "    </tr>\n",
       "    <tr>\n",
       "      <th>instant_bookable</th>\n",
       "      <td>t</td>\n",
       "      <td>t</td>\n",
       "    </tr>\n",
       "    <tr>\n",
       "      <th>cancellation_policy</th>\n",
       "      <td>strict</td>\n",
       "      <td>flexible</td>\n",
       "    </tr>\n",
       "    <tr>\n",
       "      <th>require_guest_profile_picture</th>\n",
       "      <td>f</td>\n",
       "      <td>f</td>\n",
       "    </tr>\n",
       "    <tr>\n",
       "      <th>require_guest_phone_verification</th>\n",
       "      <td>f</td>\n",
       "      <td>f</td>\n",
       "    </tr>\n",
       "    <tr>\n",
       "      <th>calculated_host_listings_count</th>\n",
       "      <td>6</td>\n",
       "      <td>1</td>\n",
       "    </tr>\n",
       "    <tr>\n",
       "      <th>reviews_per_month</th>\n",
       "      <td>6.23</td>\n",
       "      <td>0.1</td>\n",
       "    </tr>\n",
       "  </tbody>\n",
       "</table>\n",
       "<p>95 rows × 2 columns</p>\n",
       "</div>"
      ],
      "text/plain": [
       "                                                                               697   \\\n",
       "id                                                                          3129309   \n",
       "listing_url                                    https://www.airbnb.com/rooms/3129309   \n",
       "scrape_id                                                            20160906204935   \n",
       "last_scraped                                                             2016-09-07   \n",
       "name                                               Charming freedom trail apartment   \n",
       "summary                           Great charming/cozy apartment right on the His...   \n",
       "space                             All to yourself a light filled and spacious on...   \n",
       "description                       Great charming/cozy apartment right on the His...   \n",
       "experiences_offered                                                            none   \n",
       "neighborhood_overview             You will love all the Great Restaurants around...   \n",
       "notes                             this might fit 3 with proper advance notice. A...   \n",
       "transit                           You can get to the apartment by car,cab or pub...   \n",
       "access                            We provide Covered Garage ( off street ) PARKI...   \n",
       "interaction                       I will be a phone call/text/message away! I do...   \n",
       "house_rules                       No Smoking on the apartment.  No Ilegal Drugs ...   \n",
       "thumbnail_url                     https://a1.muscache.com/im/pictures/39915530/e...   \n",
       "medium_url                        https://a1.muscache.com/im/pictures/39915530/e...   \n",
       "picture_url                       https://a1.muscache.com/im/pictures/39915530/e...   \n",
       "xl_picture_url                    https://a1.muscache.com/im/pictures/39915530/e...   \n",
       "host_id                                                                     3637081   \n",
       "host_url                                  https://www.airbnb.com/users/show/3637081   \n",
       "host_name                                                                Jose/Jason   \n",
       "host_since                                                               2012-09-21   \n",
       "host_location                                  Boston, Massachusetts, United States   \n",
       "host_about                        Hello there, my name is Jason.  I look foward ...   \n",
       "host_response_time                                                   within an hour   \n",
       "host_response_rate                                                             100%   \n",
       "host_acceptance_rate                                                           100%   \n",
       "host_is_superhost                                                                 f   \n",
       "host_thumbnail_url                https://a0.muscache.com/im/users/3637081/profi...   \n",
       "...                                                                             ...   \n",
       "guests_included                                                                   1   \n",
       "extra_people                                                                  $0.00   \n",
       "minimum_nights                                                                    1   \n",
       "maximum_nights                                                             99999999   \n",
       "calendar_updated                                                              today   \n",
       "has_availability                                                                NaN   \n",
       "availability_30                                                                   3   \n",
       "availability_60                                                                  10   \n",
       "availability_90                                                                  35   \n",
       "availability_365                                                                310   \n",
       "calendar_last_scraped                                                    2016-09-06   \n",
       "number_of_reviews                                                               171   \n",
       "first_review                                                             2014-06-07   \n",
       "last_review                                                              2016-08-29   \n",
       "review_scores_rating                                                             92   \n",
       "review_scores_accuracy                                                            9   \n",
       "review_scores_cleanliness                                                         9   \n",
       "review_scores_checkin                                                            10   \n",
       "review_scores_communication                                                      10   \n",
       "review_scores_location                                                           10   \n",
       "review_scores_value                                                               9   \n",
       "requires_license                                                                  f   \n",
       "license                                                                         NaN   \n",
       "jurisdiction_names                                                              NaN   \n",
       "instant_bookable                                                                  t   \n",
       "cancellation_policy                                                          strict   \n",
       "require_guest_profile_picture                                                     f   \n",
       "require_guest_phone_verification                                                  f   \n",
       "calculated_host_listings_count                                                    6   \n",
       "reviews_per_month                                                              6.23   \n",
       "\n",
       "                                                                               1649  \n",
       "id                                                                          4315439  \n",
       "listing_url                                    https://www.airbnb.com/rooms/4315439  \n",
       "scrape_id                                                            20160906204935  \n",
       "last_scraped                                                             2016-09-07  \n",
       "name                                                     Private Room Logan Airport  \n",
       "summary                           3 min walk to the T Blue Line Orient Heights 3...  \n",
       "space                             Gorgeous Big House that has  Private Room 1 pe...  \n",
       "description                       3 min walk to the T Blue Line Orient Heights 3...  \n",
       "experiences_offered                                                            none  \n",
       "neighborhood_overview                  Safe; no Crime; Great professional families   \n",
       "notes                             You will share the house with 3 busy professional  \n",
       "transit                                10 minutes to Downtown Boston by blue Line T  \n",
       "access                                                  Living room  kitchen; wi fi  \n",
       "interaction                                                                 minimal  \n",
       "house_rules                       Keep clean; quiet; no parties or excessive dri...  \n",
       "thumbnail_url                     https://a2.muscache.com/im/pictures/8ab16e45-8...  \n",
       "medium_url                        https://a2.muscache.com/im/pictures/8ab16e45-8...  \n",
       "picture_url                       https://a2.muscache.com/im/pictures/8ab16e45-8...  \n",
       "xl_picture_url                    https://a2.muscache.com/im/pictures/8ab16e45-8...  \n",
       "host_id                                                                    22402141  \n",
       "host_url                                 https://www.airbnb.com/users/show/22402141  \n",
       "host_name                                                                    Mirian  \n",
       "host_since                                                               2014-10-11  \n",
       "host_location                                  Boston, Massachusetts, United States  \n",
       "host_about                        Busy professional  who loves her beautiful hou...  \n",
       "host_response_time                                                   within an hour  \n",
       "host_response_rate                                                             100%  \n",
       "host_acceptance_rate                                                           100%  \n",
       "host_is_superhost                                                                 f  \n",
       "host_thumbnail_url                https://a2.muscache.com/im/users/22402141/prof...  \n",
       "...                                                                             ...  \n",
       "guests_included                                                                   1  \n",
       "extra_people                                                                  $0.00  \n",
       "minimum_nights                                                                    7  \n",
       "maximum_nights                                                                 9999  \n",
       "calendar_updated                                                          yesterday  \n",
       "has_availability                                                                NaN  \n",
       "availability_30                                                                  29  \n",
       "availability_60                                                                  59  \n",
       "availability_90                                                                  89  \n",
       "availability_365                                                                364  \n",
       "calendar_last_scraped                                                    2016-09-06  \n",
       "number_of_reviews                                                                 1  \n",
       "first_review                                                             2015-11-20  \n",
       "last_review                                                              2015-11-20  \n",
       "review_scores_rating                                                             80  \n",
       "review_scores_accuracy                                                           10  \n",
       "review_scores_cleanliness                                                         6  \n",
       "review_scores_checkin                                                            10  \n",
       "review_scores_communication                                                      10  \n",
       "review_scores_location                                                            6  \n",
       "review_scores_value                                                               6  \n",
       "requires_license                                                                  f  \n",
       "license                                                                         NaN  \n",
       "jurisdiction_names                                                              NaN  \n",
       "instant_bookable                                                                  t  \n",
       "cancellation_policy                                                        flexible  \n",
       "require_guest_profile_picture                                                     f  \n",
       "require_guest_phone_verification                                                  f  \n",
       "calculated_host_listings_count                                                    1  \n",
       "reviews_per_month                                                               0.1  \n",
       "\n",
       "[95 rows x 2 columns]"
      ]
     },
     "execution_count": 3,
     "metadata": {},
     "output_type": "execute_result"
    }
   ],
   "source": [
    "#remove extremes: price, ninimum nights, maximum nights\n",
    "#1125, 59, 3475, 1764, 697,1649, 2285, 3055\n",
    "listings_df.minimum_nights.sort_values(ascending=False)\n",
    "listings_df[listings_df.index.isin([59,3475,1764])].transpose()\n",
    "\n",
    "listings_df.price.sort_values(ascending=False).head()\n",
    "tp = listings_df[listings_df.index.isin([2485])].transpose()\n",
    "tp[(tp[2485].isnull()==False)&(tp.index=='amenities')].values\n",
    "listings_df = listings_df.drop([2485],axis=0)\n",
    "\n",
    "listings_df.maximum_nights.sort_values(ascending=False)\n",
    "listings_df[listings_df.index.isin([697,1649])].transpose()\n"
   ]
  },
  {
   "cell_type": "markdown",
   "metadata": {},
   "source": [
    "In calendar_df, some prices are also extreme and represent less than 0.5% of the offers"
   ]
  },
  {
   "cell_type": "code",
   "execution_count": 9,
   "metadata": {
    "collapsed": false,
    "scrolled": false
   },
   "outputs": [
    {
     "name": "stdout",
     "output_type": "stream",
     "text": [
      "Places which cost more than 1000$ represents 0.4% of available airbnb offers\n"
     ]
    },
    {
     "data": {
      "text/html": [
       "<div>\n",
       "<style scoped>\n",
       "    .dataframe tbody tr th:only-of-type {\n",
       "        vertical-align: middle;\n",
       "    }\n",
       "\n",
       "    .dataframe tbody tr th {\n",
       "        vertical-align: top;\n",
       "    }\n",
       "\n",
       "    .dataframe thead th {\n",
       "        text-align: right;\n",
       "    }\n",
       "</style>\n",
       "<table border=\"1\" class=\"dataframe\">\n",
       "  <thead>\n",
       "    <tr style=\"text-align: right;\">\n",
       "      <th></th>\n",
       "      <th>index</th>\n",
       "      <th>listing_id</th>\n",
       "      <th>date</th>\n",
       "      <th>available</th>\n",
       "      <th>price</th>\n",
       "    </tr>\n",
       "  </thead>\n",
       "  <tbody>\n",
       "    <tr>\n",
       "      <th>0</th>\n",
       "      <td>110179</td>\n",
       "      <td>447826</td>\n",
       "      <td>2016-10-26</td>\n",
       "      <td>t</td>\n",
       "      <td>7163.0</td>\n",
       "    </tr>\n",
       "    <tr>\n",
       "      <th>1</th>\n",
       "      <td>834588</td>\n",
       "      <td>12972378</td>\n",
       "      <td>2017-01-30</td>\n",
       "      <td>t</td>\n",
       "      <td>4000.0</td>\n",
       "    </tr>\n",
       "    <tr>\n",
       "      <th>2</th>\n",
       "      <td>834538</td>\n",
       "      <td>12972378</td>\n",
       "      <td>2017-03-21</td>\n",
       "      <td>t</td>\n",
       "      <td>4000.0</td>\n",
       "    </tr>\n",
       "    <tr>\n",
       "      <th>3</th>\n",
       "      <td>834527</td>\n",
       "      <td>12972378</td>\n",
       "      <td>2017-04-01</td>\n",
       "      <td>t</td>\n",
       "      <td>4000.0</td>\n",
       "    </tr>\n",
       "    <tr>\n",
       "      <th>4</th>\n",
       "      <td>834528</td>\n",
       "      <td>12972378</td>\n",
       "      <td>2017-03-31</td>\n",
       "      <td>t</td>\n",
       "      <td>4000.0</td>\n",
       "    </tr>\n",
       "  </tbody>\n",
       "</table>\n",
       "</div>"
      ],
      "text/plain": [
       "    index  listing_id        date available   price\n",
       "0  110179      447826  2016-10-26         t  7163.0\n",
       "1  834588    12972378  2017-01-30         t  4000.0\n",
       "2  834538    12972378  2017-03-21         t  4000.0\n",
       "3  834527    12972378  2017-04-01         t  4000.0\n",
       "4  834528    12972378  2017-03-31         t  4000.0"
      ]
     },
     "execution_count": 9,
     "metadata": {},
     "output_type": "execute_result"
    },
    {
     "data": {
      "image/png": "[encoded data removed]",
      "text/plain": [
       "<matplotlib.figure.Figure at 0x118906b38>"
      ]
     },
     "metadata": {},
     "output_type": "display_data"
    }
   ],
   "source": [
    "calendar_df['price'] = calendar_df['price'].apply(lambda x: float(x[1:].replace(',','')) if isinstance(x,str) else x )\n",
    "\n",
    "tp=calendar_df[calendar_df.available=='t'].sort_values(by='price',ascending=False).reset_index()\n",
    "tp[tp.price<1000].price.hist()#.groupby('date').max().price.plot()\n",
    "print(\"Places which cost more than 1000$ represents {}% of available airbnb offers\".format(round(len(tp[tp.price>=1000])/len(tp)*100,2) ))\n",
    "tp[tp.price>=1000].head()"
   ]
  },
  {
   "cell_type": "code",
   "execution_count": null,
   "metadata": {
    "collapsed": true
   },
   "outputs": [],
   "source": []
  },
  {
   "cell_type": "markdown",
   "metadata": {},
   "source": [
    "# Check price differences over time"
   ]
  },
  {
   "cell_type": "code",
   "execution_count": 10,
   "metadata": {
    "collapsed": false
   },
   "outputs": [
    {
     "data": {
      "image/png": "[encoded data removed]",
      "text/plain": [
       "<matplotlib.figure.Figure at 0x11982e278>"
      ]
     },
     "metadata": {},
     "output_type": "display_data"
    }
   ],
   "source": [
    "# Turn the price to float\n",
    "calendar_df = pd.read_csv('calendar.csv')\n",
    "calendar_df['price'] = calendar_df['price'].apply(lambda x: float(x[1:].replace(',','')) if isinstance(x,str) else x )\n",
    "calendar_df['month'] = calendar_df['date'].apply(lambda x: datetime.strptime(x[0:7],'%Y-%m' ) )\n",
    "calendar_df['date'] = calendar_df['date'].apply(lambda x: datetime.strptime(x,'%Y-%m-%d' ) )\n",
    "temp_available = calendar_df[(calendar_df.available == 't')].groupby(['date'])['price'].agg(['mean','count'])\n",
    "temp_all = calendar_df.groupby(['date'])['available'].agg(['count']).rename(columns={'count':'count_all'})\n",
    "result = pd.concat([temp_available,temp_all],axis=1)\n",
    "result['count_perc'] = result['count']/result['count_all']*100\n",
    "result.index = [datetime.date(x) for x in result.index]\n",
    "result['Avg. Price'] = result['mean']\n",
    "result['Availability (%)'] = result['count_perc'].tolist()\n",
    "result['weekday'] = [ 1 if x.weekday()<4 or x.weekday()==6 else 0 for x in result.index]\n",
    "result['week'] = [ x-timedelta(days=x.weekday())  for x in result.index]\n",
    "result['month'] = [ x- timedelta(days=x.day-1)  for x in result.index]\n",
    "delta = result[result.weekday==0].groupby('week').mean()['mean']-result[result.weekday==1].groupby('week').mean()['mean']\n",
    "\n",
    "fig = plt.figure()\n",
    "ax = delta[0:-1].plot(kind='bar',figsize=(20,5),color=tableau20[0],title='Price difference between weekdays and weekends');\n",
    "ax.set_ylabel(\"Avg. price\");\n",
    "ax.set_xlabel(\"Week\");\n",
    "fig.savefig('Price difference between weekdays and weekends.png',bbox_inches='tight')"
   ]
  },
  {
   "cell_type": "code",
   "execution_count": 11,
   "metadata": {
    "collapsed": false
   },
   "outputs": [
    {
     "data": {
      "text/plain": [
       "<matplotlib.figure.Figure at 0x118b52048>"
      ]
     },
     "metadata": {},
     "output_type": "display_data"
    },
    {
     "data": {
      "image/png": "[encoded data removed]",
      "text/plain": [
       "<matplotlib.figure.Figure at 0x129a1a518>"
      ]
     },
     "metadata": {},
     "output_type": "display_data"
    }
   ],
   "source": [
    "fig = plt.figure()\n",
    "result[['Avg. Price','Availability (%)']].plot(secondary_y =('Availability (%)'),figsize=(20,10) )\n",
    "fig.savefig('Price evolution.png',bbox_inches='tight')"
   ]
  },
  {
   "cell_type": "markdown",
   "metadata": {},
   "source": [
    "# Analyse monthly price variations"
   ]
  },
  {
   "cell_type": "markdown",
   "metadata": {},
   "source": [
    "Around the 17th of April 2017 the prices went extremely high. A fast google research indicates that the 17th of April was the day of the marathon in Boston. To analyse the seasonal influence, these days have been removed. Removing these days shows the pattern of summer/winter."
   ]
  },
  {
   "cell_type": "code",
   "execution_count": 38,
   "metadata": {
    "collapsed": false,
    "scrolled": true
   },
   "outputs": [
    {
     "data": {
      "image/png": "[encoded data removed]",
      "text/plain": [
       "<matplotlib.figure.Figure at 0x1197f9320>"
      ]
     },
     "metadata": {},
     "output_type": "display_data"
    }
   ],
   "source": [
    "fig = plt.figure()\n",
    "tp = result[(result.index<datetime(2017,4,14).date())|(result.index>datetime(2017,4,17).date())].copy()\n",
    "feb_avg = tp[tp.month==datetime(2017,2,1).date()]['mean'].mean()\n",
    "ax=( tp.groupby('month').mean()['mean']-feb_avg)[4::].plot(kind='bar',figsize=(5,3),color=tableau20[0],title='Monthly price variation');\n",
    "ax.set_ylabel(\"Avg. price delta\");\n",
    "ax.set_xlabel(\"Month\");\n",
    "fig.savefig('Monthly price variation.png',bbox_inches='tight')\n"
   ]
  },
  {
   "cell_type": "code",
   "execution_count": null,
   "metadata": {
    "collapsed": true
   },
   "outputs": [],
   "source": []
  },
  {
   "cell_type": "code",
   "execution_count": null,
   "metadata": {
    "collapsed": true
   },
   "outputs": [],
   "source": []
  },
  {
   "cell_type": "markdown",
   "metadata": {},
   "source": [
    "# Market Concentration: \n",
    "How much of the market is own by a small percentage of the hosts?"
   ]
  },
  {
   "cell_type": "code",
   "execution_count": 50,
   "metadata": {
    "collapsed": false
   },
   "outputs": [
    {
     "name": "stdout",
     "output_type": "stream",
     "text": [
      "Percentage of hosts that represents more than 20% of the offers: 1.19%\n"
     ]
    },
    {
     "data": {
      "text/html": [
       "<div>\n",
       "<style scoped>\n",
       "    .dataframe tbody tr th:only-of-type {\n",
       "        vertical-align: middle;\n",
       "    }\n",
       "\n",
       "    .dataframe tbody tr th {\n",
       "        vertical-align: top;\n",
       "    }\n",
       "\n",
       "    .dataframe thead th {\n",
       "        text-align: right;\n",
       "    }\n",
       "</style>\n",
       "<table border=\"1\" class=\"dataframe\">\n",
       "  <thead>\n",
       "    <tr style=\"text-align: right;\">\n",
       "      <th></th>\n",
       "      <th>Number of accommodations</th>\n",
       "      <th>Cummulative</th>\n",
       "      <th>Total</th>\n",
       "      <th>Market Share</th>\n",
       "      <th>Number of hosts</th>\n",
       "      <th>Percentage of hosts</th>\n",
       "    </tr>\n",
       "    <tr>\n",
       "      <th>host_id</th>\n",
       "      <th></th>\n",
       "      <th></th>\n",
       "      <th></th>\n",
       "      <th></th>\n",
       "      <th></th>\n",
       "      <th></th>\n",
       "    </tr>\n",
       "  </thead>\n",
       "  <tbody>\n",
       "    <tr>\n",
       "      <th>30283594</th>\n",
       "      <td>136</td>\n",
       "      <td>136</td>\n",
       "      <td>3584</td>\n",
       "      <td>3.794643</td>\n",
       "      <td>1</td>\n",
       "      <td>0.045872</td>\n",
       "    </tr>\n",
       "    <tr>\n",
       "      <th>25188</th>\n",
       "      <td>79</td>\n",
       "      <td>215</td>\n",
       "      <td>3584</td>\n",
       "      <td>5.998884</td>\n",
       "      <td>2</td>\n",
       "      <td>0.091743</td>\n",
       "    </tr>\n",
       "    <tr>\n",
       "      <th>9419684</th>\n",
       "      <td>61</td>\n",
       "      <td>276</td>\n",
       "      <td>3584</td>\n",
       "      <td>7.700893</td>\n",
       "      <td>3</td>\n",
       "      <td>0.137615</td>\n",
       "    </tr>\n",
       "    <tr>\n",
       "      <th>12243051</th>\n",
       "      <td>58</td>\n",
       "      <td>334</td>\n",
       "      <td>3584</td>\n",
       "      <td>9.319196</td>\n",
       "      <td>4</td>\n",
       "      <td>0.183486</td>\n",
       "    </tr>\n",
       "    <tr>\n",
       "      <th>22348222</th>\n",
       "      <td>50</td>\n",
       "      <td>384</td>\n",
       "      <td>3584</td>\n",
       "      <td>10.714286</td>\n",
       "      <td>5</td>\n",
       "      <td>0.229358</td>\n",
       "    </tr>\n",
       "    <tr>\n",
       "      <th>4962900</th>\n",
       "      <td>25</td>\n",
       "      <td>409</td>\n",
       "      <td>3584</td>\n",
       "      <td>11.411830</td>\n",
       "      <td>6</td>\n",
       "      <td>0.275229</td>\n",
       "    </tr>\n",
       "    <tr>\n",
       "      <th>21184200</th>\n",
       "      <td>24</td>\n",
       "      <td>433</td>\n",
       "      <td>3584</td>\n",
       "      <td>12.081473</td>\n",
       "      <td>7</td>\n",
       "      <td>0.321101</td>\n",
       "    </tr>\n",
       "    <tr>\n",
       "      <th>1444340</th>\n",
       "      <td>24</td>\n",
       "      <td>457</td>\n",
       "      <td>3584</td>\n",
       "      <td>12.751116</td>\n",
       "      <td>8</td>\n",
       "      <td>0.366972</td>\n",
       "    </tr>\n",
       "    <tr>\n",
       "      <th>26956083</th>\n",
       "      <td>24</td>\n",
       "      <td>481</td>\n",
       "      <td>3584</td>\n",
       "      <td>13.420759</td>\n",
       "      <td>9</td>\n",
       "      <td>0.412844</td>\n",
       "    </tr>\n",
       "    <tr>\n",
       "      <th>32532791</th>\n",
       "      <td>20</td>\n",
       "      <td>501</td>\n",
       "      <td>3584</td>\n",
       "      <td>13.978795</td>\n",
       "      <td>10</td>\n",
       "      <td>0.458716</td>\n",
       "    </tr>\n",
       "    <tr>\n",
       "      <th>16186589</th>\n",
       "      <td>20</td>\n",
       "      <td>521</td>\n",
       "      <td>3584</td>\n",
       "      <td>14.536830</td>\n",
       "      <td>11</td>\n",
       "      <td>0.504587</td>\n",
       "    </tr>\n",
       "    <tr>\n",
       "      <th>814298</th>\n",
       "      <td>19</td>\n",
       "      <td>540</td>\n",
       "      <td>3584</td>\n",
       "      <td>15.066964</td>\n",
       "      <td>12</td>\n",
       "      <td>0.550459</td>\n",
       "    </tr>\n",
       "    <tr>\n",
       "      <th>18202088</th>\n",
       "      <td>17</td>\n",
       "      <td>557</td>\n",
       "      <td>3584</td>\n",
       "      <td>15.541295</td>\n",
       "      <td>13</td>\n",
       "      <td>0.596330</td>\n",
       "    </tr>\n",
       "    <tr>\n",
       "      <th>9410008</th>\n",
       "      <td>15</td>\n",
       "      <td>572</td>\n",
       "      <td>3584</td>\n",
       "      <td>15.959821</td>\n",
       "      <td>14</td>\n",
       "      <td>0.642202</td>\n",
       "    </tr>\n",
       "    <tr>\n",
       "      <th>16442921</th>\n",
       "      <td>15</td>\n",
       "      <td>587</td>\n",
       "      <td>3584</td>\n",
       "      <td>16.378348</td>\n",
       "      <td>15</td>\n",
       "      <td>0.688073</td>\n",
       "    </tr>\n",
       "    <tr>\n",
       "      <th>51673899</th>\n",
       "      <td>14</td>\n",
       "      <td>601</td>\n",
       "      <td>3584</td>\n",
       "      <td>16.768973</td>\n",
       "      <td>16</td>\n",
       "      <td>0.733945</td>\n",
       "    </tr>\n",
       "    <tr>\n",
       "      <th>22541573</th>\n",
       "      <td>13</td>\n",
       "      <td>614</td>\n",
       "      <td>3584</td>\n",
       "      <td>17.131696</td>\n",
       "      <td>17</td>\n",
       "      <td>0.779817</td>\n",
       "    </tr>\n",
       "    <tr>\n",
       "      <th>508268</th>\n",
       "      <td>12</td>\n",
       "      <td>626</td>\n",
       "      <td>3584</td>\n",
       "      <td>17.466518</td>\n",
       "      <td>18</td>\n",
       "      <td>0.825688</td>\n",
       "    </tr>\n",
       "    <tr>\n",
       "      <th>28820575</th>\n",
       "      <td>11</td>\n",
       "      <td>637</td>\n",
       "      <td>3584</td>\n",
       "      <td>17.773438</td>\n",
       "      <td>19</td>\n",
       "      <td>0.871560</td>\n",
       "    </tr>\n",
       "    <tr>\n",
       "      <th>48494513</th>\n",
       "      <td>11</td>\n",
       "      <td>648</td>\n",
       "      <td>3584</td>\n",
       "      <td>18.080357</td>\n",
       "      <td>20</td>\n",
       "      <td>0.917431</td>\n",
       "    </tr>\n",
       "    <tr>\n",
       "      <th>5618949</th>\n",
       "      <td>11</td>\n",
       "      <td>659</td>\n",
       "      <td>3584</td>\n",
       "      <td>18.387277</td>\n",
       "      <td>21</td>\n",
       "      <td>0.963303</td>\n",
       "    </tr>\n",
       "    <tr>\n",
       "      <th>8139434</th>\n",
       "      <td>10</td>\n",
       "      <td>669</td>\n",
       "      <td>3584</td>\n",
       "      <td>18.666295</td>\n",
       "      <td>22</td>\n",
       "      <td>1.009174</td>\n",
       "    </tr>\n",
       "    <tr>\n",
       "      <th>20857768</th>\n",
       "      <td>10</td>\n",
       "      <td>679</td>\n",
       "      <td>3584</td>\n",
       "      <td>18.945312</td>\n",
       "      <td>23</td>\n",
       "      <td>1.055046</td>\n",
       "    </tr>\n",
       "    <tr>\n",
       "      <th>71783</th>\n",
       "      <td>10</td>\n",
       "      <td>689</td>\n",
       "      <td>3584</td>\n",
       "      <td>19.224330</td>\n",
       "      <td>24</td>\n",
       "      <td>1.100917</td>\n",
       "    </tr>\n",
       "    <tr>\n",
       "      <th>5578043</th>\n",
       "      <td>10</td>\n",
       "      <td>699</td>\n",
       "      <td>3584</td>\n",
       "      <td>19.503348</td>\n",
       "      <td>25</td>\n",
       "      <td>1.146789</td>\n",
       "    </tr>\n",
       "    <tr>\n",
       "      <th>26988</th>\n",
       "      <td>10</td>\n",
       "      <td>709</td>\n",
       "      <td>3584</td>\n",
       "      <td>19.782366</td>\n",
       "      <td>26</td>\n",
       "      <td>1.192661</td>\n",
       "    </tr>\n",
       "    <tr>\n",
       "      <th>119019</th>\n",
       "      <td>9</td>\n",
       "      <td>718</td>\n",
       "      <td>3584</td>\n",
       "      <td>20.033482</td>\n",
       "      <td>27</td>\n",
       "      <td>1.238532</td>\n",
       "    </tr>\n",
       "    <tr>\n",
       "      <th>30489899</th>\n",
       "      <td>9</td>\n",
       "      <td>727</td>\n",
       "      <td>3584</td>\n",
       "      <td>20.284598</td>\n",
       "      <td>28</td>\n",
       "      <td>1.284404</td>\n",
       "    </tr>\n",
       "  </tbody>\n",
       "</table>\n",
       "</div>"
      ],
      "text/plain": [
       "          Number of accommodations  Cummulative  Total  Market Share  \\\n",
       "host_id                                                                \n",
       "30283594                       136          136   3584      3.794643   \n",
       "25188                           79          215   3584      5.998884   \n",
       "9419684                         61          276   3584      7.700893   \n",
       "12243051                        58          334   3584      9.319196   \n",
       "22348222                        50          384   3584     10.714286   \n",
       "4962900                         25          409   3584     11.411830   \n",
       "21184200                        24          433   3584     12.081473   \n",
       "1444340                         24          457   3584     12.751116   \n",
       "26956083                        24          481   3584     13.420759   \n",
       "32532791                        20          501   3584     13.978795   \n",
       "16186589                        20          521   3584     14.536830   \n",
       "814298                          19          540   3584     15.066964   \n",
       "18202088                        17          557   3584     15.541295   \n",
       "9410008                         15          572   3584     15.959821   \n",
       "16442921                        15          587   3584     16.378348   \n",
       "51673899                        14          601   3584     16.768973   \n",
       "22541573                        13          614   3584     17.131696   \n",
       "508268                          12          626   3584     17.466518   \n",
       "28820575                        11          637   3584     17.773438   \n",
       "48494513                        11          648   3584     18.080357   \n",
       "5618949                         11          659   3584     18.387277   \n",
       "8139434                         10          669   3584     18.666295   \n",
       "20857768                        10          679   3584     18.945312   \n",
       "71783                           10          689   3584     19.224330   \n",
       "5578043                         10          699   3584     19.503348   \n",
       "26988                           10          709   3584     19.782366   \n",
       "119019                           9          718   3584     20.033482   \n",
       "30489899                         9          727   3584     20.284598   \n",
       "\n",
       "          Number of hosts  Percentage of hosts  \n",
       "host_id                                         \n",
       "30283594                1             0.045872  \n",
       "25188                   2             0.091743  \n",
       "9419684                 3             0.137615  \n",
       "12243051                4             0.183486  \n",
       "22348222                5             0.229358  \n",
       "4962900                 6             0.275229  \n",
       "21184200                7             0.321101  \n",
       "1444340                 8             0.366972  \n",
       "26956083                9             0.412844  \n",
       "32532791               10             0.458716  \n",
       "16186589               11             0.504587  \n",
       "814298                 12             0.550459  \n",
       "18202088               13             0.596330  \n",
       "9410008                14             0.642202  \n",
       "16442921               15             0.688073  \n",
       "51673899               16             0.733945  \n",
       "22541573               17             0.779817  \n",
       "508268                 18             0.825688  \n",
       "28820575               19             0.871560  \n",
       "48494513               20             0.917431  \n",
       "5618949                21             0.963303  \n",
       "8139434                22             1.009174  \n",
       "20857768               23             1.055046  \n",
       "71783                  24             1.100917  \n",
       "5578043                25             1.146789  \n",
       "26988                  26             1.192661  \n",
       "119019                 27             1.238532  \n",
       "30489899               28             1.284404  "
      ]
     },
     "execution_count": 50,
     "metadata": {},
     "output_type": "execute_result"
    }
   ],
   "source": [
    "temp=listings_df.groupby(['host_id']).count().id.sort_values(ascending=False)\n",
    "temp = pd.DataFrame(temp)\n",
    "temp.columns = ['Number of accommodations']\n",
    "temp['Cummulative'] = temp['Number of accommodations'].cumsum()\n",
    "temp['Total'] = temp['Number of accommodations'].sum()\n",
    "temp['Market Share'] = temp['Cummulative']/temp['Total']*100\n",
    "temp['Number of hosts'] = 1\n",
    "temp['Number of hosts'] = temp['Number of hosts'].cumsum()\n",
    "temp['Percentage of hosts'] = temp['Number of hosts']/temp.shape[0]*100\n",
    "print('Percentage of hosts that represents more than 20% of the offers: {}%'.format(\n",
    "        round(temp[temp['Market Share']<=20]['Percentage of hosts'].tolist()[-1],2)) )\n",
    "temp[temp['Number of accommodations']>8]"
   ]
  },
  {
   "cell_type": "markdown",
   "metadata": {},
   "source": [
    "# Market concentration\n",
    "How is the pricing of the host owning the most flats?"
   ]
  },
  {
   "cell_type": "code",
   "execution_count": 51,
   "metadata": {
    "collapsed": false
   },
   "outputs": [
    {
     "name": "stdout",
     "output_type": "stream",
     "text": [
      "Cleaning fee of host 30283594 is: 100.0\n"
     ]
    },
    {
     "data": {
      "text/html": [
       "<div>\n",
       "<style scoped>\n",
       "    .dataframe tbody tr th:only-of-type {\n",
       "        vertical-align: middle;\n",
       "    }\n",
       "\n",
       "    .dataframe tbody tr th {\n",
       "        vertical-align: top;\n",
       "    }\n",
       "\n",
       "    .dataframe thead th {\n",
       "        text-align: right;\n",
       "    }\n",
       "</style>\n",
       "<table border=\"1\" class=\"dataframe\">\n",
       "  <thead>\n",
       "    <tr style=\"text-align: right;\">\n",
       "      <th></th>\n",
       "      <th>Avg. cleaning fee</th>\n",
       "      <th>Count of accommodations</th>\n",
       "      <th>cleaning_fee</th>\n",
       "    </tr>\n",
       "    <tr>\n",
       "      <th>accommodates</th>\n",
       "      <th></th>\n",
       "      <th></th>\n",
       "      <th></th>\n",
       "    </tr>\n",
       "  </thead>\n",
       "  <tbody>\n",
       "    <tr>\n",
       "      <th>1</th>\n",
       "      <td>87.352941</td>\n",
       "      <td>17</td>\n",
       "      <td>NaN</td>\n",
       "    </tr>\n",
       "    <tr>\n",
       "      <th>2</th>\n",
       "      <td>81.609223</td>\n",
       "      <td>412</td>\n",
       "      <td>NaN</td>\n",
       "    </tr>\n",
       "    <tr>\n",
       "      <th>3</th>\n",
       "      <td>77.021505</td>\n",
       "      <td>279</td>\n",
       "      <td>100.0</td>\n",
       "    </tr>\n",
       "    <tr>\n",
       "      <th>4</th>\n",
       "      <td>78.923077</td>\n",
       "      <td>442</td>\n",
       "      <td>NaN</td>\n",
       "    </tr>\n",
       "    <tr>\n",
       "      <th>5</th>\n",
       "      <td>98.719048</td>\n",
       "      <td>210</td>\n",
       "      <td>100.0</td>\n",
       "    </tr>\n",
       "    <tr>\n",
       "      <th>6</th>\n",
       "      <td>96.309524</td>\n",
       "      <td>168</td>\n",
       "      <td>100.0</td>\n",
       "    </tr>\n",
       "    <tr>\n",
       "      <th>7</th>\n",
       "      <td>113.918919</td>\n",
       "      <td>37</td>\n",
       "      <td>NaN</td>\n",
       "    </tr>\n",
       "    <tr>\n",
       "      <th>8</th>\n",
       "      <td>116.931818</td>\n",
       "      <td>44</td>\n",
       "      <td>NaN</td>\n",
       "    </tr>\n",
       "    <tr>\n",
       "      <th>9</th>\n",
       "      <td>96.666667</td>\n",
       "      <td>9</td>\n",
       "      <td>NaN</td>\n",
       "    </tr>\n",
       "    <tr>\n",
       "      <th>10</th>\n",
       "      <td>162.777778</td>\n",
       "      <td>18</td>\n",
       "      <td>NaN</td>\n",
       "    </tr>\n",
       "    <tr>\n",
       "      <th>11</th>\n",
       "      <td>143.750000</td>\n",
       "      <td>4</td>\n",
       "      <td>NaN</td>\n",
       "    </tr>\n",
       "    <tr>\n",
       "      <th>12</th>\n",
       "      <td>141.000000</td>\n",
       "      <td>5</td>\n",
       "      <td>NaN</td>\n",
       "    </tr>\n",
       "    <tr>\n",
       "      <th>14</th>\n",
       "      <td>128.333333</td>\n",
       "      <td>3</td>\n",
       "      <td>NaN</td>\n",
       "    </tr>\n",
       "    <tr>\n",
       "      <th>16</th>\n",
       "      <td>50.000000</td>\n",
       "      <td>2</td>\n",
       "      <td>NaN</td>\n",
       "    </tr>\n",
       "  </tbody>\n",
       "</table>\n",
       "</div>"
      ],
      "text/plain": [
       "              Avg. cleaning fee  Count of accommodations  cleaning_fee\n",
       "accommodates                                                          \n",
       "1                     87.352941                       17           NaN\n",
       "2                     81.609223                      412           NaN\n",
       "3                     77.021505                      279         100.0\n",
       "4                     78.923077                      442           NaN\n",
       "5                     98.719048                      210         100.0\n",
       "6                     96.309524                      168         100.0\n",
       "7                    113.918919                       37           NaN\n",
       "8                    116.931818                       44           NaN\n",
       "9                     96.666667                        9           NaN\n",
       "10                   162.777778                       18           NaN\n",
       "11                   143.750000                        4           NaN\n",
       "12                   141.000000                        5           NaN\n",
       "14                   128.333333                        3           NaN\n",
       "16                    50.000000                        2           NaN"
      ]
     },
     "execution_count": 51,
     "metadata": {},
     "output_type": "execute_result"
    },
    {
     "data": {
      "image/png": "[encoded data removed]",
      "text/plain": [
       "<matplotlib.figure.Figure at 0x1188c7e10>"
      ]
     },
     "metadata": {},
     "output_type": "display_data"
    }
   ],
   "source": [
    "listings_df.cleaning_fee = listings_df.cleaning_fee.apply(lambda x: float(x[1::].replace(',','')) \n",
    "                                                          if isinstance(x, str) else x)\n",
    "temp = listings_df[listings_df.room_type=='Entire home/apt'].groupby(['accommodates']).agg({'cleaning_fee':['mean','count']})\n",
    "temp.columns= ['Avg. cleaning fee','Count of accommodations']\n",
    "\n",
    "\n",
    "plt.figure(figsize=(12, 14))    \n",
    "  \n",
    "  \n",
    "ax = plt.subplot(111)    \n",
    "ax.spines[\"top\"].set_visible(False)    \n",
    "ax.spines[\"bottom\"].set_visible(False)    \n",
    "ax.spines[\"right\"].set_visible(False)    \n",
    "ax.spines[\"left\"].set_visible(False)      \n",
    "ax.get_xaxis().tick_bottom()    \n",
    "ax.get_yaxis().tick_left() \n",
    "\n",
    "temp.plot(kind='bar',secondary_y='Count of accommodations',color=tableau20[0::2],figsize=(15,8.5),ax=ax)\n",
    "ax.set_xlabel(\"Number of guests\")\n",
    "plt.savefig(\"Cleaning fee.png\", bbox_inches=\"tight\")  \n",
    "\n",
    "print(\"Cleaning fee of host 30283594 is:\",listings_df[listings_df.host_id==30283594].cleaning_fee.mean())\n",
    "temp.merge(pd.DataFrame(listings_df[listings_df.host_id==30283594].groupby(['accommodates']).mean().cleaning_fee),\n",
    "           how='outer',left_index=True,right_index=True)\n",
    "\n"
   ]
  },
  {
   "cell_type": "markdown",
   "metadata": {},
   "source": [
    "# Market Concentration\n",
    "How is the pricing for the host renting the most places?"
   ]
  },
  {
   "cell_type": "code",
   "execution_count": 183,
   "metadata": {
    "collapsed": false
   },
   "outputs": [
    {
     "data": {
      "image/png": "[encoded data removed]",
      "text/plain": [
       "<matplotlib.figure.Figure at 0x11fe5f860>"
      ]
     },
     "metadata": {},
     "output_type": "display_data"
    }
   ],
   "source": [
    "temp = listings_df[listings_df.host_id==30283594][['id','zipcode','accommodates','price']].copy()\n",
    "temp.price = temp.price.apply(lambda x: float(x[1::]) if isinstance(x, str) else x)\n",
    "temp=temp.groupby(['zipcode','accommodates']).mean().price\n",
    "\n",
    "listings_df.price = listings_df[listings_df.room_type=='Entire home/apt'].price.apply(lambda x: float(x[1::].replace(',','')) \n",
    "                                                                                      if isinstance(x, str) else x)\n",
    "temp2=listings_df[listings_df.host_id!=30283594].groupby(['zipcode','accommodates']).mean().price\n",
    "\n",
    "result = pd.DataFrame(temp).merge(pd.DataFrame(temp2),left_index=True,right_index=True)\n",
    "result.columns = ['Avg. price','Host price']\n",
    "ax = result.plot(kind='bar',color=tableau20[0::2],figsize=(15,8.5))\n",
    "ax.set_ylabel(\"Price\")\n",
    "plt.savefig(\"Price.png\", bbox_inches=\"tight\")  \n",
    "\n"
   ]
  },
  {
   "cell_type": "markdown",
   "metadata": {
    "collapsed": true
   },
   "source": [
    "# Percentage of offers per room type and locations"
   ]
  },
  {
   "cell_type": "code",
   "execution_count": 18,
   "metadata": {
    "collapsed": false
   },
   "outputs": [
    {
     "name": "stderr",
     "output_type": "stream",
     "text": [
      "/Users/juliasuc/anaconda/lib/python3.5/site-packages/matplotlib/collections.py:590: FutureWarning: elementwise comparison failed; returning scalar instead, but in the future will perform elementwise comparison\n",
      "  if self._edgecolors == str('face'):\n"
     ]
    },
    {
     "data": {
      "image/png": "[encoded data removed]",
      "text/plain": [
       "<matplotlib.figure.Figure at 0x115dc4128>"
      ]
     },
     "metadata": {},
     "output_type": "display_data"
    }
   ],
   "source": [
    "listings_df.zipcode = listings_df.zipcode.apply(lambda x: x[0:5] if isinstance(x,str) else x)\n",
    "temp=listings_df.groupby(['zipcode','room_type']).count().id\n",
    "temp = temp.unstack(level=-1)\n",
    "temp['sum'] = temp.sum(axis=1).tolist()\n",
    "for c in ['Entire home/apt','Private room','Shared room']:\n",
    "    temp[c] = temp[c]/temp['sum']*100\n",
    "\n",
    "import seaborn as sns\n",
    "temp = temp[temp['sum']>10]\n",
    "temp = temp.drop(['sum'],axis=1)\n",
    "\n",
    "fig = plt.figure(figsize=(10,10))\n",
    "sns.heatmap(temp)\n",
    "plt.savefig(\"room_type_zipcode.png\", bbox_inches=\"tight\")  \n"
   ]
  },
  {
   "cell_type": "markdown",
   "metadata": {},
   "source": [
    "# Price per location and room type"
   ]
  },
  {
   "cell_type": "code",
   "execution_count": 46,
   "metadata": {
    "collapsed": false
   },
   "outputs": [
    {
     "name": "stderr",
     "output_type": "stream",
     "text": [
      "/Users/juliasuc/anaconda/lib/python3.5/site-packages/matplotlib/collections.py:590: FutureWarning: elementwise comparison failed; returning scalar instead, but in the future will perform elementwise comparison\n",
      "  if self._edgecolors == str('face'):\n"
     ]
    },
    {
     "data": {
      "image/png": "[encoded data removed]",
      "text/plain": [
       "<matplotlib.figure.Figure at 0x1171d29e8>"
      ]
     },
     "metadata": {},
     "output_type": "display_data"
    }
   ],
   "source": [
    "listings_df.price = listings_df.price.apply(lambda x: float(x[1::].replace(',','')) if isinstance(x, str) else x)\n",
    "temp = listings_df.groupby(['zipcode','room_type']).agg({'price':['mean','count']}).price\n",
    "\n",
    "temp = temp.unstack(level=-1)\n",
    "temp.columns = ['mean_entire','mean_pr','mean_sr','count_entire','count_pr','count_sr']\n",
    "temp = temp[(temp['count_entire']>15)&(temp['count_pr']>15)]\n",
    "\n",
    "temp = temp[['mean_entire','mean_pr','mean_sr']]\n",
    "temp.columns = ['Entire home/apt','Private room','Shared room']\n",
    "\n",
    "fig = plt.figure(figsize=(10,8))\n",
    "sns.heatmap(temp)\n",
    "plt.savefig(\"price_repartition.png\", bbox_inches=\"tight\")  "
   ]
  },
  {
   "cell_type": "code",
   "execution_count": null,
   "metadata": {
    "collapsed": false
   },
   "outputs": [],
   "source": []
  },
  {
   "cell_type": "markdown",
   "metadata": {},
   "source": [
    "# Data Cleaning"
   ]
  },
  {
   "cell_type": "code",
   "execution_count": 3,
   "metadata": {
    "collapsed": false
   },
   "outputs": [
    {
     "name": "stdout",
     "output_type": "stream",
     "text": [
      "Columns with only the same value:  ['scrape_id', 'last_scraped', 'experiences_offered', 'state', 'country_code', 'country', 'calendar_last_scraped', 'requires_license']\n",
      "Check that only $ have been used: $    2478\n",
      "Name: currency, dtype: int64\n"
     ]
    }
   ],
   "source": [
    "def cleaning(listings_df,replace_nan=False):\n",
    "    '''\n",
    "    INPUT\n",
    "    listings_df - dataframe containing the features and label as provided at the begining of the notebook\n",
    "    replace_nan - Boolean, true if missing values should be filled, false otherwise\n",
    "    \n",
    "    OUTPUT\n",
    "    Cleaned dataframe corresponding to listingd_df\n",
    "    '''\n",
    "    #remove empty columns\n",
    "    listings_df = listings_df.drop(['neighbourhood_group_cleansed','jurisdiction_names','license','has_availability'],axis=1)\n",
    "\n",
    "    #remove columns missing too much data\n",
    "    listings_df = listings_df.drop(['square_feet','monthly_price','weekly_price','security_deposit'],axis=1)\n",
    "\n",
    "    #delete unecessary data (repetitive data)\n",
    "    listings_df = listings_df.drop(['listing_url','host_total_listings_count','host_url'],axis=1)\n",
    "    listings_df = listings_df.drop(['host_thumbnail_url','host_picture_url','picture_url'],axis=1)\n",
    "    listings_df = listings_df.drop(['host_name','host_id','latitude','longitude'],axis=1)\n",
    "\n",
    "    # drop neighbourhood because duplicates neighbourhood_cleansed \n",
    "    listings_df = listings_df.drop(['neighbourhood'],axis=1)\n",
    "\n",
    "    #delete data which is always the same\n",
    "    unique_value_col = []\n",
    "    for col in listings_df.columns:\n",
    "        if len(listings_df[col].value_counts())==1:\n",
    "            unique_value_col.append(col)\n",
    "\n",
    "    print(\"Columns with only the same value: \",unique_value_col)\n",
    "\n",
    "    listings_df = listings_df.drop(unique_value_col,axis=1)\n",
    "\n",
    "    # Check that all cleaning_fee have been entered in $\n",
    "\n",
    "    listings_df['currency'] = listings_df['cleaning_fee'].apply(lambda x: x[0:1] \n",
    "                                                                if isinstance(x,str) else x )\n",
    "    print(\"Check that only $ have been used:\",listings_df['currency'].value_counts())\n",
    "    listings_df = listings_df.drop(['currency'],axis=1)\n",
    "\n",
    "    # Turn cleaning_fee to float\n",
    "    listings_df['cleaning_fee'] = listings_df['cleaning_fee'].apply(lambda x: float(x[1:]) \n",
    "                                                                    if isinstance(x,str) else x )\n",
    "    listings_df['cleaning_fee'] = listings_df['cleaning_fee'].fillna(0)\n",
    "\n",
    "    # Turn boolean to 1 if house_rules have been given else 0\n",
    "    listings_df['house_rules_boolean'] = listings_df['house_rules'].apply(lambda x: 1 \n",
    "                                                                          if isinstance(x,str) else 0 )\n",
    "    listings_df = listings_df.drop(['house_rules'],axis=1)\n",
    "\n",
    "    # Turn the price to float\n",
    "    listings_df['price'] = listings_df['price'].apply(lambda x: float(x[1:].replace(',','')) \n",
    "                                                      if isinstance(x,str) else 0 )\n",
    "    listings_df['extra_people'] = listings_df['extra_people'].apply(lambda x: float(x[1:].replace(',','')) \n",
    "                                                                    if isinstance(x,str) else 0 )\n",
    "\n",
    "    # Turn to float\n",
    "    listings_df['host_response_rate'] = listings_df['host_response_rate'].apply(lambda x: float(x.replace('%','')) \n",
    "                                                                                if isinstance(x,str) else 0 )\n",
    "    listings_df['host_acceptance_rate'] = listings_df['host_acceptance_rate'].apply(lambda x: float(x.replace('%','')) \n",
    "                                                                                    if isinstance(x,str) else 0 )\n",
    "    # Data not considered useful (keep the feature \"has a picture or not\")\n",
    "    listings_df = listings_df.drop(['thumbnail_url','medium_url','xl_picture_url'], axis=1)\n",
    "\n",
    "    # Remove extreme: price, ninimum nights, maximum nights\n",
    "    #1125, 59, 3475, 1764, 697,1649, 2285, 3055\n",
    "    listings_df = listings_df.drop([1125, 59, 3475, 1764, 697,1649, 2285, 3055], axis=0)\n",
    "\n",
    "    # Only considers the Boston market (remove 4 entries)\n",
    "    listings_df = listings_df[listings_df.market=='Boston']\n",
    "    listings_df = listings_df[listings_df.city=='Boston']\n",
    "\n",
    "    listings_df = listings_df.drop(['market','city','smart_location','street'], axis=1)\n",
    "\n",
    "    # Convert boolean t/f to 1/0\n",
    "    for col in ['is_location_exact','host_identity_verified','host_is_superhost','host_has_profile_pic',\n",
    "                'instant_bookable','require_guest_profile_picture','require_guest_phone_verification']:\n",
    "        listings_df[col] = listings_df[col].apply(lambda x: 1 if x=='t' else 0)\n",
    "    \n",
    "    #convert dates to number of days from today\n",
    "    listings_df.host_since = (datetime.now() - pd.to_datetime(listings_df.host_since,format='%Y-%m-%d')).dt.days\n",
    "    listings_df.first_review = (datetime.now() - pd.to_datetime(listings_df.first_review,format='%Y-%m-%d')).dt.days\n",
    "    listings_df.last_review = (datetime.now() - pd.to_datetime(listings_df.last_review,format='%Y-%m-%d')).dt.days\n",
    "    \n",
    "    if replace_nan:\n",
    "        #if no review then fake the first/last review by putting the date of host_since\n",
    "        listings_df.first_review = listings_df.first_review.fillna(listings_df.host_since)\n",
    "        listings_df.last_review = listings_df.last_review.fillna(listings_df.host_since)\n",
    "        for c in ['review_scores_rating','review_scores_accuracy','review_scores_cleanliness','review_scores_checkin',\n",
    "                  'review_scores_communication','review_scores_location','review_scores_value']:\n",
    "            listings_df[c].fillna(listings_df[c].mode()[0], inplace=True)\n",
    "        \n",
    "        \n",
    "    \n",
    "    # Just keep the information about the number of verifications made\n",
    "    listings_df.host_verifications = listings_df.host_verifications.apply(lambda x: len(x))\n",
    "\n",
    "    # Convert cancellation policy to a scale\n",
    "    cancellation_policy_dict = {'flexible':1, 'moderate':2,'strict':3, 'super_strict_30':4}\n",
    "    listings_df.cancellation_policy = listings_df.cancellation_policy.apply(lambda x: cancellation_policy_dict[x])\n",
    "    \n",
    "    # Clean zipcode to contain only 5 numbers\n",
    "    listings_df.zipcode = listings_df.zipcode.apply(lambda x: x[0:5] if isinstance(x,str) else x)\n",
    "    \n",
    "    # Remove text data\n",
    "    listings_df = listings_df.drop(['id','name','summary','space','description','neighborhood_overview','notes',\n",
    "                                'transit','access','interaction','host_location','host_about',\n",
    "                                'host_response_time','host_neighbourhood','calendar_updated'],axis=1)\n",
    "    \n",
    "    # If no review per month given then review per month -> 0\n",
    "    # Can be checked using print(listings_df[listings_df[c].isnull()]['first_review'].count())\n",
    "    listings_df.reviews_per_month = listings_df.reviews_per_month.fillna(0)\n",
    "    \n",
    "    # Transformation of categorical values\n",
    "    listings_df = pd.concat([listings_df,pd.get_dummies(listings_df.bed_type, drop_first=True)] ,axis=1)\n",
    "    listings_df = listings_df.drop(['bed_type'],axis=1)\n",
    "\n",
    "    listings_df = pd.concat([listings_df,pd.get_dummies(listings_df.property_type)] ,axis=1)\n",
    "    listings_df = listings_df.drop(['property_type'],axis=1)\n",
    "\n",
    "    listings_df = pd.concat([listings_df,pd.get_dummies(listings_df.room_type, drop_first=True)] ,axis=1)\n",
    "    listings_df = listings_df.drop(['room_type'],axis=1)\n",
    "\n",
    "    listings_df = pd.concat([listings_df,pd.get_dummies(listings_df.neighbourhood_cleansed, drop_first=True)] ,axis=1)\n",
    "    listings_df = listings_df.drop(['neighbourhood_cleansed'],axis=1)\n",
    "\n",
    "\n",
    "    listings_df = pd.concat([listings_df,pd.get_dummies(listings_df.zipcode)] ,axis=1)\n",
    "    listings_df = listings_df.drop(['zipcode'],axis=1)\n",
    "    \n",
    "    listings_df.amenities=listings_df.amenities.apply(lambda x: x[1:-2].split(',') )\n",
    "    flatten_list = list(set([item for sublist in listings_df.amenities.tolist() for item in sublist]))\n",
    "\n",
    "    for l in flatten_list:\n",
    "        listings_df[l] = listings_df.amenities.apply(lambda x: 1 if l in x else 0)\n",
    "\n",
    "    listings_df = listings_df.drop(['amenities'],axis=1)\n",
    "    \n",
    "    return listings_df\n",
    "\n",
    "listings_df = pd.read_csv('listings.csv')\n",
    "listings_df = cleaning(listings_df,True)"
   ]
  },
  {
   "cell_type": "code",
   "execution_count": 48,
   "metadata": {
    "collapsed": false
   },
   "outputs": [],
   "source": [
    "#listings_df.first_review.fillna(value = listings_df.host_since)\n",
    "#listings_df[c]#.fillna(listings_df[c].mode()[0], inplace=True)"
   ]
  },
  {
   "cell_type": "code",
   "execution_count": 34,
   "metadata": {
    "collapsed": false
   },
   "outputs": [],
   "source": []
  },
  {
   "cell_type": "code",
   "execution_count": 35,
   "metadata": {
    "collapsed": false
   },
   "outputs": [],
   "source": []
  },
  {
   "cell_type": "markdown",
   "metadata": {
    "collapsed": true
   },
   "source": [
    "# What are the most important features?"
   ]
  },
  {
   "cell_type": "markdown",
   "metadata": {},
   "source": [
    "A look at the correlation"
   ]
  },
  {
   "cell_type": "code",
   "execution_count": 30,
   "metadata": {
    "collapsed": false,
    "scrolled": true
   },
   "outputs": [
    {
     "data": {
      "image/png": "[encoded data removed]",
      "text/plain": [
       "<matplotlib.figure.Figure at 0x119117470>"
      ]
     },
     "metadata": {},
     "output_type": "display_data"
    }
   ],
   "source": [
    "fig = plt.figure(figsize=(15,10))\n",
    "\n",
    "corr_df = listings_df.corr()['price'].sort_values(ascending=False)\n",
    "corr_df = corr_df.drop(['price'],axis=0)\n",
    "corr_df[corr_df.abs()>0.1].plot(kind='bar',color=tableau20[0])\n",
    "\n",
    "plt.savefig(\"corr.png\", bbox_inches=\"tight\")  "
   ]
  },
  {
   "cell_type": "markdown",
   "metadata": {
    "collapsed": true
   },
   "source": [
    "A look at the principal components"
   ]
  },
  {
   "cell_type": "code",
   "execution_count": 49,
   "metadata": {
    "collapsed": false
   },
   "outputs": [
    {
     "name": "stdout",
     "output_type": "stream",
     "text": [
      "Variance explained:  0.814746385317\n",
      "(3331, 91) (3331, 183)\n"
     ]
    },
    {
     "data": {
      "image/png": "[encoded data removed]",
      "text/plain": [
       "<matplotlib.figure.Figure at 0x11a2365c0>"
      ]
     },
     "metadata": {},
     "output_type": "display_data"
    }
   ],
   "source": [
    "listings_df = listings_df.dropna()\n",
    "temp_pca = listings_df.drop(['price'],axis=1)\n",
    "features = temp_pca.columns\n",
    "scaler = StandardScaler()\n",
    "temp_pca = scaler.fit_transform(temp_pca)\n",
    "\n",
    "n_components = 91#182\n",
    "pca = PCA(n_components=n_components)\n",
    "principalComponents = pca.fit_transform(temp_pca)\n",
    "\n",
    "pca_result = pd.DataFrame()\n",
    "pca_result['variance']=pca.explained_variance_ratio_\n",
    "pca_result.plot(kind='bar', figsize=(20,10))\n",
    "print('Variance explained: ',pca_result.variance.sum() )\n",
    "\n",
    "listings_final = pd.DataFrame(data = principalComponents)\n",
    "listings_final.index = listings_df.index\n",
    "print(listings_final.shape, listings_df.shape)\n",
    "listings_final = pd.concat([listings_final, listings_df[['price']]], axis = 1)\n"
   ]
  },
  {
   "cell_type": "code",
   "execution_count": 50,
   "metadata": {
    "collapsed": false
   },
   "outputs": [
    {
     "data": {
      "image/png": "[encoded data removed]",
      "text/plain": [
       "<matplotlib.figure.Figure at 0x1184f7518>"
      ]
     },
     "metadata": {},
     "output_type": "display_data"
    }
   ],
   "source": [
    "principalComponents_coeff = pd.DataFrame(index=features)\n",
    "for col in range(n_components):\n",
    "    principalComponents_coeff[col] = pca.components_[col]\n",
    "\n",
    "pc_temp = principalComponents_coeff[0].sort_values()\n",
    "fig = plt.figure(figsize=(20,8))\n",
    "pc_temp[pc_temp.abs()>0.05].sort_values(ascending=False).plot(kind='bar',\n",
    "                                                             color=tableau20[0])\n",
    "plt.savefig(\"pca0.png\", bbox_inches=\"tight\")  "
   ]
  },
  {
   "cell_type": "markdown",
   "metadata": {
    "collapsed": true
   },
   "source": [
    "Predictions - Regression problem\n",
    "\n",
    "Metrics used for analysis the output of the regression model are the classifical r2 score, MAE and RMSE for the following reasons:\n",
    "* this is a regression problem and these metrics are adpated for such a problem\n",
    "* r2 score as it represents how well correlated the predicted and real values are. We want r2 to be close to 1.\n",
    "* MAE as it is an average of the absolute errors: it represents how off the model is in average. The average price being 170, an error of 40 represents a deviation of 20% which is quite huge. We want MAE to be close to 0.\n",
    "* RMSE as it represents the sample standard deviation of the differences between predicted and observed values. The RMSE puts a higher weight on larger errors and therefore highlights more outliers. We want RMSE to be close to 0.\n",
    "\n",
    "The models are then compared based on these 3 metrics.\n"
   ]
  },
  {
   "cell_type": "code",
   "execution_count": 15,
   "metadata": {
    "collapsed": false
   },
   "outputs": [
    {
     "data": {
      "text/plain": [
       "22.866832027865122"
      ]
     },
     "execution_count": 15,
     "metadata": {},
     "output_type": "execute_result"
    }
   ],
   "source": [
    "40/listings_df.price.mean()*100"
   ]
  },
  {
   "cell_type": "code",
   "execution_count": 4,
   "metadata": {
    "collapsed": false
   },
   "outputs": [],
   "source": [
    "def validation_metrics(y_train, y_train_pred, y_test,y_pred):\n",
    "    '''\n",
    "    INPUT\n",
    "    y_train - labels of the training set\n",
    "    y_train_pred - predicted labels for the training set\n",
    "    y_test - labels of the testing set\n",
    "    y_pred - predictive lables of the testing set\n",
    "    \n",
    "    OUTPUT\n",
    "    Prints the r2 score, MAE and RMSE for the training and testing sets prediction\n",
    "    '''\n",
    "    print('r2 score test: ',r2_score(y_test,y_pred))\n",
    "    print('mean absolute error test: ',mean_absolute_error(y_test,y_pred))\n",
    "    print('rmse: ',mean_squared_error(y_test,y_pred))\n",
    "\n",
    "    print('r2 score train: ',r2_score(y_train,y_train_pred))\n",
    "    print('mean score error train: ',mean_absolute_error(y_train,y_train_pred))\n",
    "    print('rmse: ',mean_squared_error(y_train,y_train_pred))\n",
    "    return\n",
    "\n",
    "def get_model_coeff(model,features,threshold):\n",
    "    '''\n",
    "    INPUT\n",
    "    model - fitted machine learning model\n",
    "    features - list of the features used as input\n",
    "    threshold - integer\n",
    "    OUTPUT\n",
    "    Plot of the features whose coeff is larger than threshold in absolute value\n",
    "    '''\n",
    "    coeff_df = pd.DataFrame()\n",
    "    coeff_df['coeff'] = model.best_estimator_.coef_\n",
    "    coeff_df.index = features\n",
    "    coeff_df[coeff_df.coeff.abs()>threshold].sort_values(['coeff'], ascending=False).plot(kind='bar',\n",
    "                                                                                          figsize=(25,8), \n",
    "                                                                                          color=tableau20[1])\n",
    "    return \n",
    "\n",
    "def fit_pred(model,listings_df,parameters,scale):\n",
    "    '''\n",
    "    INPUT\n",
    "    model - machine learning model to be trained\n",
    "    listing_df - cleaned data to be used\n",
    "    paramters - parameters with which the model should be trained to find the best suitable model\n",
    "    \n",
    "    OUTPUT\n",
    "    model - trained model\n",
    "    X_train - data set of the features used for training\n",
    "    X_test - data set of the features used for testing\n",
    "    y_train - labels used for training\n",
    "    y_test - labels used for testing\n",
    "    y_train_pred - prediction made by the model with the training data\n",
    "    y_test_pred - prediction made by the model with the testing data\n",
    "    '''\n",
    "    \n",
    "\n",
    "    X = listings_df.copy().drop(['price'],axis=1)\n",
    "    y = listings_df.price\n",
    "    \n",
    "    if scale:\n",
    "        scaler = StandardScaler()\n",
    "        X = scaler.fit_transform(X)\n",
    "    \n",
    "    X_train, X_test, y_train, y_test = train_test_split(X, y, test_size=0.33, random_state=42)\n",
    "    \n",
    "    \n",
    "    model = GridSearchCV(model,\n",
    "                        parameters,\n",
    "                        cv = 3,\n",
    "                        verbose=True)\n",
    "    \n",
    "    if scale:\n",
    "        model = model.fit(X_train, y_train.values)\n",
    "        y_pred = model.predict(X_test)\n",
    "        y_train_pred = model.predict(X_train)\n",
    "    \n",
    "    else:\n",
    "        model = model.fit(X_train.values, y_train.values)\n",
    "        y_pred = model.predict(X_test.values)\n",
    "        y_train_pred = model.predict(X_train.values)\n",
    "    \n",
    "    validation_metrics(y_train, y_train_pred, y_test,y_pred)\n",
    "    \n",
    "    return model, X_train, X_test, y_train, y_test, y_train_pred, y_pred\n",
    "\n",
    "\n",
    "\n"
   ]
  },
  {
   "cell_type": "markdown",
   "metadata": {},
   "source": [
    "Using linear regression\n",
    "\n",
    "In the first case, the empty values are filled manually. In the second case they are disregarded. By disregarding the missing values, the results obtained are much better however this prevents doing forecasts for places without reviews which isn't a good idea: not possible to forecast prices for new hosts."
   ]
  },
  {
   "cell_type": "code",
   "execution_count": 53,
   "metadata": {
    "collapsed": false
   },
   "outputs": [
    {
     "name": "stdout",
     "output_type": "stream",
     "text": [
      "Columns with only the same value:  ['scrape_id', 'last_scraped', 'experiences_offered', 'state', 'country_code', 'country', 'calendar_last_scraped', 'requires_license']\n",
      "Check that only $ have been used: $    2478\n",
      "Name: currency, dtype: int64\n",
      "Fitting 3 folds for each of 1 candidates, totalling 3 fits\n",
      "r2 score test:  0.451145647575\n",
      "mean absolute error test:  51.2296736587\n",
      "rmse:  8118.45050451\n",
      "r2 score train:  0.560184904649\n",
      "mean score error train:  50.2195206041\n",
      "rmse:  7262.22239528\n"
     ]
    },
    {
     "name": "stderr",
     "output_type": "stream",
     "text": [
      "[Parallel(n_jobs=1)]: Done   3 out of   3 | elapsed:    0.1s finished\n"
     ]
    }
   ],
   "source": [
    "model = LinearRegression()\n",
    "listings_df = pd.read_csv('listings.csv')\n",
    "listings_df = cleaning(listings_df,True).dropna()\n",
    "parameters = {}\n",
    "\n",
    "\n",
    "model, X_train, X_test, y_train, y_test, y_train_pred, y_pred = fit_pred(model,listings_df,parameters,False)"
   ]
  },
  {
   "cell_type": "code",
   "execution_count": 80,
   "metadata": {
    "collapsed": false
   },
   "outputs": [
    {
     "name": "stdout",
     "output_type": "stream",
     "text": [
      "Columns with only the same value:  ['scrape_id', 'last_scraped', 'experiences_offered', 'state', 'country_code', 'country', 'calendar_last_scraped', 'requires_license']\n",
      "Check that only $ have been used: $    2478\n",
      "Name: currency, dtype: int64\n",
      "Fitting 3 folds for each of 1 candidates, totalling 3 fits\n",
      "r2 score test:  0.593617105407\n",
      "mean absolute error test:  46.5856105421\n",
      "rmse:  4418.62755369\n",
      "r2 score train:  0.704633629729\n",
      "mean score error train:  41.9614822356\n",
      "rmse:  4168.39530287\n"
     ]
    },
    {
     "name": "stderr",
     "output_type": "stream",
     "text": [
      "[Parallel(n_jobs=1)]: Done   3 out of   3 | elapsed:    0.1s finished\n"
     ]
    }
   ],
   "source": [
    "model = LinearRegression()\n",
    "listings_df = pd.read_csv('listings.csv')\n",
    "listings_df = cleaning(listings_df,False).dropna()\n",
    "parameters = {}\n",
    "\n",
    "\n",
    "model, X_train, X_test, y_train, y_test, y_train_pred, y_pred = fit_pred(model,listings_df,parameters,False)"
   ]
  },
  {
   "cell_type": "markdown",
   "metadata": {},
   "source": [
    "New analysis without considering the reviews/ratings. This shows worse results implying that the reviews are still a good indicator of the final price"
   ]
  },
  {
   "cell_type": "code",
   "execution_count": 57,
   "metadata": {
    "collapsed": false
   },
   "outputs": [
    {
     "name": "stdout",
     "output_type": "stream",
     "text": [
      "Columns with only the same value:  ['scrape_id', 'last_scraped', 'experiences_offered', 'state', 'country_code', 'country', 'calendar_last_scraped', 'requires_license']\n",
      "Check that only $ have been used: $    2478\n",
      "Name: currency, dtype: int64\n",
      "Fitting 3 folds for each of 1 candidates, totalling 3 fits\n",
      "r2 score test:  0.449353830975\n",
      "mean absolute error test:  51.4332563193\n",
      "rmse:  8144.95439267\n",
      "r2 score train:  0.557095962055\n",
      "mean score error train:  50.4424647618\n",
      "rmse:  7313.22698408\n"
     ]
    },
    {
     "name": "stderr",
     "output_type": "stream",
     "text": [
      "[Parallel(n_jobs=1)]: Done   3 out of   3 | elapsed:    0.1s finished\n"
     ]
    }
   ],
   "source": [
    "model = LinearRegression()\n",
    "listings_df = pd.read_csv('listings.csv')\n",
    "listings_df = cleaning(listings_df,False)\n",
    "del_col = ['review_scores_rating','review_scores_accuracy','review_scores_cleanliness','review_scores_checkin',\n",
    "                  'review_scores_communication','review_scores_location','review_scores_value','first_review','last_review']\n",
    "listings_df = listings_df.drop(del_col,axis=1)\n",
    "listings_df = listings_df.dropna()\n",
    "parameters = {}\n",
    "\n",
    "\n",
    "model, X_train, X_test, y_train, y_test, y_train_pred, y_pred = fit_pred(model,listings_df,parameters,False)"
   ]
  },
  {
   "cell_type": "markdown",
   "metadata": {},
   "source": [
    "Following https://scikit-learn.org/stable/tutorial/machine_learning_map/index.html, I continued looking at algorithms for regression problem starting with the ones which suggest that few features should be important: Lasso and ElasticNet, and continued with RandomForestRegressor to compare the results."
   ]
  },
  {
   "cell_type": "code",
   "execution_count": 89,
   "metadata": {
    "collapsed": false
   },
   "outputs": [
    {
     "name": "stdout",
     "output_type": "stream",
     "text": [
      "Columns with only the same value:  ['scrape_id', 'last_scraped', 'experiences_offered', 'state', 'country_code', 'country', 'calendar_last_scraped', 'requires_license']\n",
      "Check that only $ have been used: $    2478\n",
      "Name: currency, dtype: int64\n",
      "Fitting 3 folds for each of 15 candidates, totalling 45 fits"
     ]
    },
    {
     "name": "stderr",
     "output_type": "stream",
     "text": [
      "/Users/juliasuc/anaconda/lib/python3.5/site-packages/sklearn/linear_model/coordinate_descent.py:484: ConvergenceWarning: Objective did not converge. You might want to increase the number of iterations. Fitting data with very small alpha may cause precision problems.\n",
      "  ConvergenceWarning)\n",
      "/Users/juliasuc/anaconda/lib/python3.5/site-packages/sklearn/linear_model/coordinate_descent.py:484: ConvergenceWarning: Objective did not converge. You might want to increase the number of iterations. Fitting data with very small alpha may cause precision problems.\n",
      "  ConvergenceWarning)\n",
      "/Users/juliasuc/anaconda/lib/python3.5/site-packages/sklearn/linear_model/coordinate_descent.py:484: ConvergenceWarning: Objective did not converge. You might want to increase the number of iterations. Fitting data with very small alpha may cause precision problems.\n",
      "  ConvergenceWarning)\n",
      "/Users/juliasuc/anaconda/lib/python3.5/site-packages/sklearn/linear_model/coordinate_descent.py:484: ConvergenceWarning: Objective did not converge. You might want to increase the number of iterations. Fitting data with very small alpha may cause precision problems.\n",
      "  ConvergenceWarning)\n",
      "/Users/juliasuc/anaconda/lib/python3.5/site-packages/sklearn/linear_model/coordinate_descent.py:484: ConvergenceWarning: Objective did not converge. You might want to increase the number of iterations. Fitting data with very small alpha may cause precision problems.\n",
      "  ConvergenceWarning)\n",
      "/Users/juliasuc/anaconda/lib/python3.5/site-packages/sklearn/linear_model/coordinate_descent.py:484: ConvergenceWarning: Objective did not converge. You might want to increase the number of iterations. Fitting data with very small alpha may cause precision problems.\n",
      "  ConvergenceWarning)\n",
      "/Users/juliasuc/anaconda/lib/python3.5/site-packages/sklearn/linear_model/coordinate_descent.py:484: ConvergenceWarning: Objective did not converge. You might want to increase the number of iterations. Fitting data with very small alpha may cause precision problems.\n",
      "  ConvergenceWarning)\n",
      "/Users/juliasuc/anaconda/lib/python3.5/site-packages/sklearn/linear_model/coordinate_descent.py:484: ConvergenceWarning: Objective did not converge. You might want to increase the number of iterations. Fitting data with very small alpha may cause precision problems.\n",
      "  ConvergenceWarning)\n",
      "/Users/juliasuc/anaconda/lib/python3.5/site-packages/sklearn/linear_model/coordinate_descent.py:484: ConvergenceWarning: Objective did not converge. You might want to increase the number of iterations. Fitting data with very small alpha may cause precision problems.\n",
      "  ConvergenceWarning)\n",
      "/Users/juliasuc/anaconda/lib/python3.5/site-packages/sklearn/linear_model/coordinate_descent.py:484: ConvergenceWarning: Objective did not converge. You might want to increase the number of iterations. Fitting data with very small alpha may cause precision problems.\n",
      "  ConvergenceWarning)\n",
      "/Users/juliasuc/anaconda/lib/python3.5/site-packages/sklearn/linear_model/coordinate_descent.py:484: ConvergenceWarning: Objective did not converge. You might want to increase the number of iterations. Fitting data with very small alpha may cause precision problems.\n",
      "  ConvergenceWarning)\n",
      "/Users/juliasuc/anaconda/lib/python3.5/site-packages/sklearn/linear_model/coordinate_descent.py:484: ConvergenceWarning: Objective did not converge. You might want to increase the number of iterations. Fitting data with very small alpha may cause precision problems.\n",
      "  ConvergenceWarning)\n",
      "/Users/juliasuc/anaconda/lib/python3.5/site-packages/sklearn/linear_model/coordinate_descent.py:484: ConvergenceWarning: Objective did not converge. You might want to increase the number of iterations. Fitting data with very small alpha may cause precision problems.\n",
      "  ConvergenceWarning)\n",
      "/Users/juliasuc/anaconda/lib/python3.5/site-packages/sklearn/linear_model/coordinate_descent.py:484: ConvergenceWarning: Objective did not converge. You might want to increase the number of iterations. Fitting data with very small alpha may cause precision problems.\n",
      "  ConvergenceWarning)\n",
      "/Users/juliasuc/anaconda/lib/python3.5/site-packages/sklearn/linear_model/coordinate_descent.py:484: ConvergenceWarning: Objective did not converge. You might want to increase the number of iterations. Fitting data with very small alpha may cause precision problems.\n",
      "  ConvergenceWarning)\n",
      "/Users/juliasuc/anaconda/lib/python3.5/site-packages/sklearn/linear_model/coordinate_descent.py:484: ConvergenceWarning: Objective did not converge. You might want to increase the number of iterations. Fitting data with very small alpha may cause precision problems.\n",
      "  ConvergenceWarning)\n",
      "/Users/juliasuc/anaconda/lib/python3.5/site-packages/sklearn/linear_model/coordinate_descent.py:484: ConvergenceWarning: Objective did not converge. You might want to increase the number of iterations. Fitting data with very small alpha may cause precision problems.\n",
      "  ConvergenceWarning)\n",
      "/Users/juliasuc/anaconda/lib/python3.5/site-packages/sklearn/linear_model/coordinate_descent.py:484: ConvergenceWarning: Objective did not converge. You might want to increase the number of iterations. Fitting data with very small alpha may cause precision problems.\n",
      "  ConvergenceWarning)\n",
      "/Users/juliasuc/anaconda/lib/python3.5/site-packages/sklearn/linear_model/coordinate_descent.py:484: ConvergenceWarning: Objective did not converge. You might want to increase the number of iterations. Fitting data with very small alpha may cause precision problems.\n",
      "  ConvergenceWarning)\n",
      "/Users/juliasuc/anaconda/lib/python3.5/site-packages/sklearn/linear_model/coordinate_descent.py:484: ConvergenceWarning: Objective did not converge. You might want to increase the number of iterations. Fitting data with very small alpha may cause precision problems.\n",
      "  ConvergenceWarning)\n",
      "/Users/juliasuc/anaconda/lib/python3.5/site-packages/sklearn/linear_model/coordinate_descent.py:484: ConvergenceWarning: Objective did not converge. You might want to increase the number of iterations. Fitting data with very small alpha may cause precision problems.\n",
      "  ConvergenceWarning)\n",
      "/Users/juliasuc/anaconda/lib/python3.5/site-packages/sklearn/linear_model/coordinate_descent.py:484: ConvergenceWarning: Objective did not converge. You might want to increase the number of iterations. Fitting data with very small alpha may cause precision problems.\n",
      "  ConvergenceWarning)\n",
      "/Users/juliasuc/anaconda/lib/python3.5/site-packages/sklearn/linear_model/coordinate_descent.py:484: ConvergenceWarning: Objective did not converge. You might want to increase the number of iterations. Fitting data with very small alpha may cause precision problems.\n",
      "  ConvergenceWarning)\n",
      "/Users/juliasuc/anaconda/lib/python3.5/site-packages/sklearn/linear_model/coordinate_descent.py:484: ConvergenceWarning: Objective did not converge. You might want to increase the number of iterations. Fitting data with very small alpha may cause precision problems.\n",
      "  ConvergenceWarning)\n",
      "/Users/juliasuc/anaconda/lib/python3.5/site-packages/sklearn/linear_model/coordinate_descent.py:484: ConvergenceWarning: Objective did not converge. You might want to increase the number of iterations. Fitting data with very small alpha may cause precision problems.\n",
      "  ConvergenceWarning)\n",
      "/Users/juliasuc/anaconda/lib/python3.5/site-packages/sklearn/linear_model/coordinate_descent.py:484: ConvergenceWarning: Objective did not converge. You might want to increase the number of iterations. Fitting data with very small alpha may cause precision problems.\n",
      "  ConvergenceWarning)\n",
      "/Users/juliasuc/anaconda/lib/python3.5/site-packages/sklearn/linear_model/coordinate_descent.py:484: ConvergenceWarning: Objective did not converge. You might want to increase the number of iterations. Fitting data with very small alpha may cause precision problems.\n",
      "  ConvergenceWarning)\n",
      "/Users/juliasuc/anaconda/lib/python3.5/site-packages/sklearn/linear_model/coordinate_descent.py:484: ConvergenceWarning: Objective did not converge. You might want to increase the number of iterations. Fitting data with very small alpha may cause precision problems.\n",
      "  ConvergenceWarning)\n",
      "/Users/juliasuc/anaconda/lib/python3.5/site-packages/sklearn/linear_model/coordinate_descent.py:484: ConvergenceWarning: Objective did not converge. You might want to increase the number of iterations. Fitting data with very small alpha may cause precision problems.\n",
      "  ConvergenceWarning)\n",
      "/Users/juliasuc/anaconda/lib/python3.5/site-packages/sklearn/linear_model/coordinate_descent.py:484: ConvergenceWarning: Objective did not converge. You might want to increase the number of iterations. Fitting data with very small alpha may cause precision problems.\n",
      "  ConvergenceWarning)\n",
      "[Parallel(n_jobs=1)]: Done  45 out of  45 | elapsed:    1.8s finished\n"
     ]
    },
    {
     "name": "stdout",
     "output_type": "stream",
     "text": [
      "\n",
      "r2 score test:  0.61453335081\n",
      "mean absolute error test:  44.0948051974\n",
      "rmse:  4191.20386168\n",
      "r2 score train:  0.692776164092\n",
      "mean score error train:  41.5492916153\n",
      "rmse:  4335.7352882\n",
      "{'alpha': 1, 'max_iter': 100}\n"
     ]
    }
   ],
   "source": [
    "model = Lasso(normalize=False)\n",
    "listings_df = pd.read_csv('listings.csv')\n",
    "listings_df = cleaning(listings_df).dropna()\n",
    "parameters = {'alpha':[0.001,0.01,0.1,1,10],\n",
    "             'max_iter':[10,100,500]}\n",
    "\n",
    "model, X_train, X_test, y_train, y_test, y_train_pred, y_pred = fit_pred(model,listings_df,parameters,True)\n",
    "print(model.best_params_)"
   ]
  },
  {
   "cell_type": "code",
   "execution_count": 63,
   "metadata": {
    "collapsed": false,
    "scrolled": true
   },
   "outputs": [
    {
     "name": "stdout",
     "output_type": "stream",
     "text": [
      "Columns with only the same value:  ['scrape_id', 'last_scraped', 'experiences_offered', 'state', 'country_code', 'country', 'calendar_last_scraped', 'requires_license']\n",
      "Check that only $ have been used: $    2478\n",
      "Name: currency, dtype: int64\n",
      "Fitting 3 folds for each of 80 candidates, totalling 240 fits"
     ]
    },
    {
     "name": "stderr",
     "output_type": "stream",
     "text": [
      "/Users/juliasuc/anaconda/lib/python3.5/site-packages/sklearn/linear_model/coordinate_descent.py:484: ConvergenceWarning: Objective did not converge. You might want to increase the number of iterations. Fitting data with very small alpha may cause precision problems.\n",
      "  ConvergenceWarning)\n",
      "/Users/juliasuc/anaconda/lib/python3.5/site-packages/sklearn/linear_model/coordinate_descent.py:484: ConvergenceWarning: Objective did not converge. You might want to increase the number of iterations. Fitting data with very small alpha may cause precision problems.\n",
      "  ConvergenceWarning)\n",
      "/Users/juliasuc/anaconda/lib/python3.5/site-packages/sklearn/linear_model/coordinate_descent.py:484: ConvergenceWarning: Objective did not converge. You might want to increase the number of iterations. Fitting data with very small alpha may cause precision problems.\n",
      "  ConvergenceWarning)\n",
      "/Users/juliasuc/anaconda/lib/python3.5/site-packages/sklearn/linear_model/coordinate_descent.py:484: ConvergenceWarning: Objective did not converge. You might want to increase the number of iterations. Fitting data with very small alpha may cause precision problems.\n",
      "  ConvergenceWarning)\n",
      "/Users/juliasuc/anaconda/lib/python3.5/site-packages/sklearn/linear_model/coordinate_descent.py:484: ConvergenceWarning: Objective did not converge. You might want to increase the number of iterations. Fitting data with very small alpha may cause precision problems.\n",
      "  ConvergenceWarning)\n",
      "/Users/juliasuc/anaconda/lib/python3.5/site-packages/sklearn/linear_model/coordinate_descent.py:484: ConvergenceWarning: Objective did not converge. You might want to increase the number of iterations. Fitting data with very small alpha may cause precision problems.\n",
      "  ConvergenceWarning)\n",
      "/Users/juliasuc/anaconda/lib/python3.5/site-packages/sklearn/linear_model/coordinate_descent.py:484: ConvergenceWarning: Objective did not converge. You might want to increase the number of iterations. Fitting data with very small alpha may cause precision problems.\n",
      "  ConvergenceWarning)\n",
      "/Users/juliasuc/anaconda/lib/python3.5/site-packages/sklearn/linear_model/coordinate_descent.py:484: ConvergenceWarning: Objective did not converge. You might want to increase the number of iterations. Fitting data with very small alpha may cause precision problems.\n",
      "  ConvergenceWarning)\n",
      "/Users/juliasuc/anaconda/lib/python3.5/site-packages/sklearn/linear_model/coordinate_descent.py:484: ConvergenceWarning: Objective did not converge. You might want to increase the number of iterations. Fitting data with very small alpha may cause precision problems.\n",
      "  ConvergenceWarning)\n",
      "/Users/juliasuc/anaconda/lib/python3.5/site-packages/sklearn/linear_model/coordinate_descent.py:484: ConvergenceWarning: Objective did not converge. You might want to increase the number of iterations. Fitting data with very small alpha may cause precision problems.\n",
      "  ConvergenceWarning)\n",
      "/Users/juliasuc/anaconda/lib/python3.5/site-packages/sklearn/linear_model/coordinate_descent.py:484: ConvergenceWarning: Objective did not converge. You might want to increase the number of iterations. Fitting data with very small alpha may cause precision problems.\n",
      "  ConvergenceWarning)\n",
      "/Users/juliasuc/anaconda/lib/python3.5/site-packages/sklearn/linear_model/coordinate_descent.py:484: ConvergenceWarning: Objective did not converge. You might want to increase the number of iterations. Fitting data with very small alpha may cause precision problems.\n",
      "  ConvergenceWarning)\n",
      "/Users/juliasuc/anaconda/lib/python3.5/site-packages/sklearn/linear_model/coordinate_descent.py:484: ConvergenceWarning: Objective did not converge. You might want to increase the number of iterations. Fitting data with very small alpha may cause precision problems.\n",
      "  ConvergenceWarning)\n",
      "/Users/juliasuc/anaconda/lib/python3.5/site-packages/sklearn/linear_model/coordinate_descent.py:484: ConvergenceWarning: Objective did not converge. You might want to increase the number of iterations. Fitting data with very small alpha may cause precision problems.\n",
      "  ConvergenceWarning)\n",
      "/Users/juliasuc/anaconda/lib/python3.5/site-packages/sklearn/linear_model/coordinate_descent.py:484: ConvergenceWarning: Objective did not converge. You might want to increase the number of iterations. Fitting data with very small alpha may cause precision problems.\n",
      "  ConvergenceWarning)\n",
      "/Users/juliasuc/anaconda/lib/python3.5/site-packages/sklearn/linear_model/coordinate_descent.py:484: ConvergenceWarning: Objective did not converge. You might want to increase the number of iterations. Fitting data with very small alpha may cause precision problems.\n",
      "  ConvergenceWarning)\n",
      "/Users/juliasuc/anaconda/lib/python3.5/site-packages/sklearn/linear_model/coordinate_descent.py:484: ConvergenceWarning: Objective did not converge. You might want to increase the number of iterations. Fitting data with very small alpha may cause precision problems.\n",
      "  ConvergenceWarning)\n",
      "/Users/juliasuc/anaconda/lib/python3.5/site-packages/sklearn/linear_model/coordinate_descent.py:484: ConvergenceWarning: Objective did not converge. You might want to increase the number of iterations. Fitting data with very small alpha may cause precision problems.\n",
      "  ConvergenceWarning)\n",
      "/Users/juliasuc/anaconda/lib/python3.5/site-packages/sklearn/linear_model/coordinate_descent.py:484: ConvergenceWarning: Objective did not converge. You might want to increase the number of iterations. Fitting data with very small alpha may cause precision problems.\n",
      "  ConvergenceWarning)\n",
      "/Users/juliasuc/anaconda/lib/python3.5/site-packages/sklearn/linear_model/coordinate_descent.py:484: ConvergenceWarning: Objective did not converge. You might want to increase the number of iterations. Fitting data with very small alpha may cause precision problems.\n",
      "  ConvergenceWarning)\n",
      "/Users/juliasuc/anaconda/lib/python3.5/site-packages/sklearn/linear_model/coordinate_descent.py:484: ConvergenceWarning: Objective did not converge. You might want to increase the number of iterations. Fitting data with very small alpha may cause precision problems.\n",
      "  ConvergenceWarning)\n",
      "/Users/juliasuc/anaconda/lib/python3.5/site-packages/sklearn/linear_model/coordinate_descent.py:484: ConvergenceWarning: Objective did not converge. You might want to increase the number of iterations. Fitting data with very small alpha may cause precision problems.\n",
      "  ConvergenceWarning)\n",
      "/Users/juliasuc/anaconda/lib/python3.5/site-packages/sklearn/linear_model/coordinate_descent.py:484: ConvergenceWarning: Objective did not converge. You might want to increase the number of iterations. Fitting data with very small alpha may cause precision problems.\n",
      "  ConvergenceWarning)\n",
      "/Users/juliasuc/anaconda/lib/python3.5/site-packages/sklearn/linear_model/coordinate_descent.py:484: ConvergenceWarning: Objective did not converge. You might want to increase the number of iterations. Fitting data with very small alpha may cause precision problems.\n",
      "  ConvergenceWarning)\n",
      "/Users/juliasuc/anaconda/lib/python3.5/site-packages/sklearn/linear_model/coordinate_descent.py:484: ConvergenceWarning: Objective did not converge. You might want to increase the number of iterations. Fitting data with very small alpha may cause precision problems.\n",
      "  ConvergenceWarning)\n",
      "/Users/juliasuc/anaconda/lib/python3.5/site-packages/sklearn/linear_model/coordinate_descent.py:484: ConvergenceWarning: Objective did not converge. You might want to increase the number of iterations. Fitting data with very small alpha may cause precision problems.\n",
      "  ConvergenceWarning)\n",
      "/Users/juliasuc/anaconda/lib/python3.5/site-packages/sklearn/linear_model/coordinate_descent.py:484: ConvergenceWarning: Objective did not converge. You might want to increase the number of iterations. Fitting data with very small alpha may cause precision problems.\n",
      "  ConvergenceWarning)\n",
      "/Users/juliasuc/anaconda/lib/python3.5/site-packages/sklearn/linear_model/coordinate_descent.py:484: ConvergenceWarning: Objective did not converge. You might want to increase the number of iterations. Fitting data with very small alpha may cause precision problems.\n",
      "  ConvergenceWarning)\n",
      "/Users/juliasuc/anaconda/lib/python3.5/site-packages/sklearn/linear_model/coordinate_descent.py:484: ConvergenceWarning: Objective did not converge. You might want to increase the number of iterations. Fitting data with very small alpha may cause precision problems.\n",
      "  ConvergenceWarning)\n",
      "/Users/juliasuc/anaconda/lib/python3.5/site-packages/sklearn/linear_model/coordinate_descent.py:484: ConvergenceWarning: Objective did not converge. You might want to increase the number of iterations. Fitting data with very small alpha may cause precision problems.\n",
      "  ConvergenceWarning)\n",
      "/Users/juliasuc/anaconda/lib/python3.5/site-packages/sklearn/linear_model/coordinate_descent.py:484: ConvergenceWarning: Objective did not converge. You might want to increase the number of iterations. Fitting data with very small alpha may cause precision problems.\n",
      "  ConvergenceWarning)\n",
      "/Users/juliasuc/anaconda/lib/python3.5/site-packages/sklearn/linear_model/coordinate_descent.py:484: ConvergenceWarning: Objective did not converge. You might want to increase the number of iterations. Fitting data with very small alpha may cause precision problems.\n",
      "  ConvergenceWarning)\n",
      "/Users/juliasuc/anaconda/lib/python3.5/site-packages/sklearn/linear_model/coordinate_descent.py:484: ConvergenceWarning: Objective did not converge. You might want to increase the number of iterations. Fitting data with very small alpha may cause precision problems.\n",
      "  ConvergenceWarning)\n",
      "/Users/juliasuc/anaconda/lib/python3.5/site-packages/sklearn/linear_model/coordinate_descent.py:484: ConvergenceWarning: Objective did not converge. You might want to increase the number of iterations. Fitting data with very small alpha may cause precision problems.\n",
      "  ConvergenceWarning)\n",
      "/Users/juliasuc/anaconda/lib/python3.5/site-packages/sklearn/linear_model/coordinate_descent.py:484: ConvergenceWarning: Objective did not converge. You might want to increase the number of iterations. Fitting data with very small alpha may cause precision problems.\n",
      "  ConvergenceWarning)\n",
      "/Users/juliasuc/anaconda/lib/python3.5/site-packages/sklearn/linear_model/coordinate_descent.py:484: ConvergenceWarning: Objective did not converge. You might want to increase the number of iterations. Fitting data with very small alpha may cause precision problems.\n",
      "  ConvergenceWarning)\n",
      "/Users/juliasuc/anaconda/lib/python3.5/site-packages/sklearn/linear_model/coordinate_descent.py:484: ConvergenceWarning: Objective did not converge. You might want to increase the number of iterations. Fitting data with very small alpha may cause precision problems.\n",
      "  ConvergenceWarning)\n",
      "/Users/juliasuc/anaconda/lib/python3.5/site-packages/sklearn/linear_model/coordinate_descent.py:484: ConvergenceWarning: Objective did not converge. You might want to increase the number of iterations. Fitting data with very small alpha may cause precision problems.\n",
      "  ConvergenceWarning)\n",
      "/Users/juliasuc/anaconda/lib/python3.5/site-packages/sklearn/linear_model/coordinate_descent.py:484: ConvergenceWarning: Objective did not converge. You might want to increase the number of iterations. Fitting data with very small alpha may cause precision problems.\n",
      "  ConvergenceWarning)\n",
      "/Users/juliasuc/anaconda/lib/python3.5/site-packages/sklearn/linear_model/coordinate_descent.py:484: ConvergenceWarning: Objective did not converge. You might want to increase the number of iterations. Fitting data with very small alpha may cause precision problems.\n",
      "  ConvergenceWarning)\n",
      "/Users/juliasuc/anaconda/lib/python3.5/site-packages/sklearn/linear_model/coordinate_descent.py:484: ConvergenceWarning: Objective did not converge. You might want to increase the number of iterations. Fitting data with very small alpha may cause precision problems.\n",
      "  ConvergenceWarning)\n",
      "/Users/juliasuc/anaconda/lib/python3.5/site-packages/sklearn/linear_model/coordinate_descent.py:484: ConvergenceWarning: Objective did not converge. You might want to increase the number of iterations. Fitting data with very small alpha may cause precision problems.\n",
      "  ConvergenceWarning)\n",
      "/Users/juliasuc/anaconda/lib/python3.5/site-packages/sklearn/linear_model/coordinate_descent.py:484: ConvergenceWarning: Objective did not converge. You might want to increase the number of iterations. Fitting data with very small alpha may cause precision problems.\n",
      "  ConvergenceWarning)\n",
      "/Users/juliasuc/anaconda/lib/python3.5/site-packages/sklearn/linear_model/coordinate_descent.py:484: ConvergenceWarning: Objective did not converge. You might want to increase the number of iterations. Fitting data with very small alpha may cause precision problems.\n",
      "  ConvergenceWarning)\n",
      "/Users/juliasuc/anaconda/lib/python3.5/site-packages/sklearn/linear_model/coordinate_descent.py:484: ConvergenceWarning: Objective did not converge. You might want to increase the number of iterations. Fitting data with very small alpha may cause precision problems.\n",
      "  ConvergenceWarning)\n",
      "/Users/juliasuc/anaconda/lib/python3.5/site-packages/sklearn/linear_model/coordinate_descent.py:484: ConvergenceWarning: Objective did not converge. You might want to increase the number of iterations. Fitting data with very small alpha may cause precision problems.\n",
      "  ConvergenceWarning)\n",
      "/Users/juliasuc/anaconda/lib/python3.5/site-packages/sklearn/linear_model/coordinate_descent.py:484: ConvergenceWarning: Objective did not converge. You might want to increase the number of iterations. Fitting data with very small alpha may cause precision problems.\n",
      "  ConvergenceWarning)\n",
      "/Users/juliasuc/anaconda/lib/python3.5/site-packages/sklearn/linear_model/coordinate_descent.py:484: ConvergenceWarning: Objective did not converge. You might want to increase the number of iterations. Fitting data with very small alpha may cause precision problems.\n",
      "  ConvergenceWarning)\n",
      "/Users/juliasuc/anaconda/lib/python3.5/site-packages/sklearn/linear_model/coordinate_descent.py:484: ConvergenceWarning: Objective did not converge. You might want to increase the number of iterations. Fitting data with very small alpha may cause precision problems.\n",
      "  ConvergenceWarning)\n",
      "/Users/juliasuc/anaconda/lib/python3.5/site-packages/sklearn/linear_model/coordinate_descent.py:484: ConvergenceWarning: Objective did not converge. You might want to increase the number of iterations. Fitting data with very small alpha may cause precision problems.\n",
      "  ConvergenceWarning)\n",
      "/Users/juliasuc/anaconda/lib/python3.5/site-packages/sklearn/linear_model/coordinate_descent.py:484: ConvergenceWarning: Objective did not converge. You might want to increase the number of iterations. Fitting data with very small alpha may cause precision problems.\n",
      "  ConvergenceWarning)\n",
      "/Users/juliasuc/anaconda/lib/python3.5/site-packages/sklearn/linear_model/coordinate_descent.py:484: ConvergenceWarning: Objective did not converge. You might want to increase the number of iterations. Fitting data with very small alpha may cause precision problems.\n",
      "  ConvergenceWarning)\n",
      "/Users/juliasuc/anaconda/lib/python3.5/site-packages/sklearn/linear_model/coordinate_descent.py:484: ConvergenceWarning: Objective did not converge. You might want to increase the number of iterations. Fitting data with very small alpha may cause precision problems.\n",
      "  ConvergenceWarning)\n",
      "/Users/juliasuc/anaconda/lib/python3.5/site-packages/sklearn/linear_model/coordinate_descent.py:484: ConvergenceWarning: Objective did not converge. You might want to increase the number of iterations. Fitting data with very small alpha may cause precision problems.\n",
      "  ConvergenceWarning)\n",
      "/Users/juliasuc/anaconda/lib/python3.5/site-packages/sklearn/linear_model/coordinate_descent.py:484: ConvergenceWarning: Objective did not converge. You might want to increase the number of iterations. Fitting data with very small alpha may cause precision problems.\n",
      "  ConvergenceWarning)\n",
      "/Users/juliasuc/anaconda/lib/python3.5/site-packages/sklearn/linear_model/coordinate_descent.py:484: ConvergenceWarning: Objective did not converge. You might want to increase the number of iterations. Fitting data with very small alpha may cause precision problems.\n",
      "  ConvergenceWarning)\n",
      "/Users/juliasuc/anaconda/lib/python3.5/site-packages/sklearn/linear_model/coordinate_descent.py:484: ConvergenceWarning: Objective did not converge. You might want to increase the number of iterations. Fitting data with very small alpha may cause precision problems.\n",
      "  ConvergenceWarning)\n",
      "/Users/juliasuc/anaconda/lib/python3.5/site-packages/sklearn/linear_model/coordinate_descent.py:484: ConvergenceWarning: Objective did not converge. You might want to increase the number of iterations. Fitting data with very small alpha may cause precision problems.\n",
      "  ConvergenceWarning)\n",
      "/Users/juliasuc/anaconda/lib/python3.5/site-packages/sklearn/linear_model/coordinate_descent.py:484: ConvergenceWarning: Objective did not converge. You might want to increase the number of iterations. Fitting data with very small alpha may cause precision problems.\n",
      "  ConvergenceWarning)\n",
      "/Users/juliasuc/anaconda/lib/python3.5/site-packages/sklearn/linear_model/coordinate_descent.py:484: ConvergenceWarning: Objective did not converge. You might want to increase the number of iterations. Fitting data with very small alpha may cause precision problems.\n",
      "  ConvergenceWarning)\n",
      "/Users/juliasuc/anaconda/lib/python3.5/site-packages/sklearn/linear_model/coordinate_descent.py:484: ConvergenceWarning: Objective did not converge. You might want to increase the number of iterations. Fitting data with very small alpha may cause precision problems.\n",
      "  ConvergenceWarning)\n",
      "/Users/juliasuc/anaconda/lib/python3.5/site-packages/sklearn/linear_model/coordinate_descent.py:484: ConvergenceWarning: Objective did not converge. You might want to increase the number of iterations. Fitting data with very small alpha may cause precision problems.\n",
      "  ConvergenceWarning)\n",
      "/Users/juliasuc/anaconda/lib/python3.5/site-packages/sklearn/linear_model/coordinate_descent.py:484: ConvergenceWarning: Objective did not converge. You might want to increase the number of iterations. Fitting data with very small alpha may cause precision problems.\n",
      "  ConvergenceWarning)\n",
      "/Users/juliasuc/anaconda/lib/python3.5/site-packages/sklearn/linear_model/coordinate_descent.py:484: ConvergenceWarning: Objective did not converge. You might want to increase the number of iterations. Fitting data with very small alpha may cause precision problems.\n",
      "  ConvergenceWarning)\n",
      "/Users/juliasuc/anaconda/lib/python3.5/site-packages/sklearn/linear_model/coordinate_descent.py:484: ConvergenceWarning: Objective did not converge. You might want to increase the number of iterations. Fitting data with very small alpha may cause precision problems.\n",
      "  ConvergenceWarning)\n",
      "/Users/juliasuc/anaconda/lib/python3.5/site-packages/sklearn/linear_model/coordinate_descent.py:484: ConvergenceWarning: Objective did not converge. You might want to increase the number of iterations. Fitting data with very small alpha may cause precision problems.\n",
      "  ConvergenceWarning)\n",
      "/Users/juliasuc/anaconda/lib/python3.5/site-packages/sklearn/linear_model/coordinate_descent.py:484: ConvergenceWarning: Objective did not converge. You might want to increase the number of iterations. Fitting data with very small alpha may cause precision problems.\n",
      "  ConvergenceWarning)\n",
      "/Users/juliasuc/anaconda/lib/python3.5/site-packages/sklearn/linear_model/coordinate_descent.py:484: ConvergenceWarning: Objective did not converge. You might want to increase the number of iterations. Fitting data with very small alpha may cause precision problems.\n",
      "  ConvergenceWarning)\n",
      "/Users/juliasuc/anaconda/lib/python3.5/site-packages/sklearn/linear_model/coordinate_descent.py:484: ConvergenceWarning: Objective did not converge. You might want to increase the number of iterations. Fitting data with very small alpha may cause precision problems.\n",
      "  ConvergenceWarning)\n",
      "/Users/juliasuc/anaconda/lib/python3.5/site-packages/sklearn/linear_model/coordinate_descent.py:484: ConvergenceWarning: Objective did not converge. You might want to increase the number of iterations. Fitting data with very small alpha may cause precision problems.\n",
      "  ConvergenceWarning)\n",
      "/Users/juliasuc/anaconda/lib/python3.5/site-packages/sklearn/linear_model/coordinate_descent.py:484: ConvergenceWarning: Objective did not converge. You might want to increase the number of iterations. Fitting data with very small alpha may cause precision problems.\n",
      "  ConvergenceWarning)\n",
      "[Parallel(n_jobs=1)]: Done 240 out of 240 | elapsed:   13.5s finished\n"
     ]
    },
    {
     "name": "stdout",
     "output_type": "stream",
     "text": [
      "\n",
      "r2 score test:  0.605236466915\n",
      "mean absolute error test:  45.5648236242\n",
      "rmse:  4292.28948288\n",
      "r2 score train:  0.695044020089\n",
      "mean score error train:  42.2523184648\n",
      "rmse:  4303.72988326\n",
      "{'l1_ratio': 0.2, 'alpha': 0.01, 'max_iter': 100}\n"
     ]
    },
    {
     "name": "stderr",
     "output_type": "stream",
     "text": [
      "/Users/juliasuc/anaconda/lib/python3.5/site-packages/sklearn/linear_model/coordinate_descent.py:484: ConvergenceWarning: Objective did not converge. You might want to increase the number of iterations. Fitting data with very small alpha may cause precision problems.\n",
      "  ConvergenceWarning)\n"
     ]
    }
   ],
   "source": [
    "model = ElasticNet(copy_X=True, fit_intercept=True, \n",
    "      normalize=False, positive=False, precompute=False,\n",
    "      random_state=0, selection='cyclic', tol=0.0001, warm_start=False)\n",
    "\n",
    "listings_df = pd.read_csv('listings.csv')\n",
    "listings_df = cleaning(listings_df).dropna()\n",
    "parameters = {'alpha':[0.001,0.01,0.1,1,10],\n",
    "             'max_iter':[100,500,1000,2000],\n",
    "             'l1_ratio':[0.2,0.5,0.8,1]}\n",
    "\n",
    "model, X_train, X_test, y_train, y_test, y_train_pred, y_pred = fit_pred(model,listings_df,parameters,False)\n",
    "print(model.best_params_)"
   ]
  },
  {
   "cell_type": "code",
   "execution_count": 61,
   "metadata": {
    "collapsed": false
   },
   "outputs": [
    {
     "name": "stdout",
     "output_type": "stream",
     "text": [
      "Columns with only the same value:  ['scrape_id', 'last_scraped', 'experiences_offered', 'state', 'country_code', 'country', 'calendar_last_scraped', 'requires_license']\n",
      "Check that only $ have been used: $    2478\n",
      "Name: currency, dtype: int64\n",
      "Fitting 3 folds for each of 27 candidates, totalling 81 fits\n",
      "r2 score test:  0.548746593939\n",
      "mean absolute error test:  45.3588133939\n",
      "rmse:  4906.50753328\n",
      "r2 score train:  0.810091539496\n",
      "mean score error train:  37.0720415539\n",
      "rmse:  2680.10719709\n",
      "{'n_estimators': 500, 'min_samples_split': 2, 'max_depth': 6}\n"
     ]
    },
    {
     "name": "stderr",
     "output_type": "stream",
     "text": [
      "[Parallel(n_jobs=1)]: Done  81 out of  81 | elapsed:  1.6min finished\n"
     ]
    }
   ],
   "source": [
    "model = RandomForestRegressor()\n",
    "\n",
    "listings_df = pd.read_csv('listings.csv')\n",
    "listings_df = cleaning(listings_df).dropna()\n",
    "parameters = {'n_estimators':[10,100,500],\n",
    "             'max_depth':[2,4,6],\n",
    "             'min_samples_split':[2,3,5]}\n",
    "\n",
    "model, X_train, X_test, y_train, y_test, y_train_pred, y_pred = fit_pred(model,listings_df,parameters,False)\n",
    "print(model.best_params_)"
   ]
  },
  {
   "cell_type": "markdown",
   "metadata": {},
   "source": [
    "As XGBboost models have really good reputation withing Kaggle competitions I have also tried with XGBRegressor. It has a lot of parameters and I used GridSearchCV for testing many parameters. It can take a while to run.\n",
    "\n",
    "The advantage of XGBRegressor is that it can deal with empty data instead of having to fill them."
   ]
  },
  {
   "cell_type": "markdown",
   "metadata": {},
   "source": [
    "# Results when training with linear booster\n"
   ]
  },
  {
   "cell_type": "code",
   "execution_count": null,
   "metadata": {
    "collapsed": true
   },
   "outputs": [],
   "source": [
    "model = xgb.XGBRegressor()\n",
    "parameters = {#'nthread':[4], #when use hyperthread, xgboost may become slower\n",
    "              'booster':['gblinear'],\n",
    "              'objective':['reg:linear'],\n",
    "              'learning_rate': [0.03,0.05,0.1,0.5], #so called `eta` value\n",
    "              'max_depth': [2,3],\n",
    "              'min_child_weight': [3,5,7],\n",
    "              'n_estimators': [300,500,700],\n",
    "              'subsample':[0.5]}  #set to 0.5 to try to avoid overfitting\n",
    "\n",
    "\n",
    "listings_df = pd.read_csv('listings.csv')\n",
    "listings_df = cleaning(listings_df)\n",
    "model, X_train, X_test, y_train, y_test, y_train_pred, y_pred = fit_pred(model,listings_df,parameters,False)\n",
    "\n",
    "\n"
   ]
  },
  {
   "cell_type": "markdown",
   "metadata": {},
   "source": [
    "Display coefficients of importance"
   ]
  },
  {
   "cell_type": "code",
   "execution_count": 88,
   "metadata": {
    "collapsed": false
   },
   "outputs": [
    {
     "name": "stdout",
     "output_type": "stream",
     "text": [
      "r2 score test:  0.52449409562\n",
      "mean absolute error test:  50.6538007156\n",
      "rmse:  5170.2065195\n",
      "r2 score train:  0.525810397448\n",
      "mean score error train:  52.96019659\n",
      "rmse:  6692.06081294\n",
      "{'learning_rate': 0.5, 'objective': 'reg:linear', 'booster': 'gblinear', 'n_estimators': 700, 'min_child_weight': 3, 'max_depth': 2, 'subsample': 0.5}\n"
     ]
    },
    {
     "data": {
      "image/png": "[encoded data removed]",
      "text/plain": [
       "<matplotlib.figure.Figure at 0x11b89ab38>"
      ]
     },
     "metadata": {},
     "output_type": "display_data"
    }
   ],
   "source": [
    "validation_metrics(y_train, y_train_pred, y_test,y_pred)\n",
    "print(model.best_params_)\n",
    "features = listings_df.drop(['price'],axis=1).columns\n",
    "\n",
    "get_model_coeff(model,features,1)"
   ]
  },
  {
   "cell_type": "markdown",
   "metadata": {},
   "source": [
    "# Results when training with booster gbtree"
   ]
  },
  {
   "cell_type": "code",
   "execution_count": null,
   "metadata": {
    "collapsed": true
   },
   "outputs": [],
   "source": [
    "model = xgb.XGBRegressor()\n",
    "\n",
    "parameters = {#'nthread':[4], #when use hyperthread, xgboost may become slower\n",
    "              'booster':['gbtree'],\n",
    "              'objective':['reg:linear'],\n",
    "              'learning_rate': [0.03,0.05,0.1,0.5], #so called `eta` value\n",
    "              'max_depth': [2,3],\n",
    "              'min_child_weight': [3,5,7],\n",
    "              'n_estimators': [300,500,700],\n",
    "              'subsample':[0.5]}  #set to 0.5 to try to avoid overfitting\n",
    "\n",
    "\n",
    "listings_df = pd.read_csv('listings.csv')\n",
    "listings_df = cleaning(listings_df)\n",
    "model, X_train, X_test, y_train, y_test, y_train_pred, y_pred = fit_pred(model,listings_df,parameters,False)\n",
    "\n"
   ]
  },
  {
   "cell_type": "code",
   "execution_count": 54,
   "metadata": {
    "collapsed": false
   },
   "outputs": [
    {
     "name": "stdout",
     "output_type": "stream",
     "text": [
      "r2 score test:  0.673143334394\n",
      "mean absolute error test:  38.3686573643\n",
      "rmse:  3553.93371121\n",
      "r2 score train:  0.918126830513\n",
      "mean score error train:  24.4674467149\n",
      "rmse:  1155.44547204\n",
      "{'learning_rate': 0.05, 'objective': 'reg:linear', 'booster': 'gbtree', 'n_estimators': 500, 'min_child_weight': 3, 'max_depth': 3, 'subsample': 0.5}\n"
     ]
    }
   ],
   "source": [
    "validation_metrics(y_train, y_train_pred, y_test,y_pred)\n",
    "print(model.best_params_)\n",
    "features = listings_df.drop(['price'],axis=1).columns\n"
   ]
  },
  {
   "cell_type": "markdown",
   "metadata": {},
   "source": [
    "There is overfitting and therefore I was interesting in reducing it and followed the explanation provided in the following article: https://machinelearningmastery.com/avoid-overfitting-by-early-stopping-with-xgboost-in-python/"
   ]
  },
  {
   "cell_type": "code",
   "execution_count": 60,
   "metadata": {
    "collapsed": false,
    "scrolled": true
   },
   "outputs": [
    {
     "name": "stdout",
     "output_type": "stream",
     "text": [
      "[0]\tvalidation_0-rmse:189.974\tvalidation_1-rmse:179.779\n",
      "[1]\tvalidation_0-rmse:174.418\tvalidation_1-rmse:164.741\n",
      "[2]\tvalidation_0-rmse:160.646\tvalidation_1-rmse:151.353\n",
      "[3]\tvalidation_0-rmse:148.479\tvalidation_1-rmse:139.687\n",
      "[4]\tvalidation_0-rmse:137.764\tvalidation_1-rmse:129.526\n",
      "[5]\tvalidation_0-rmse:128.367\tvalidation_1-rmse:120.541\n",
      "[6]\tvalidation_0-rmse:120.101\tvalidation_1-rmse:112.731\n",
      "[7]\tvalidation_0-rmse:112.885\tvalidation_1-rmse:106.156\n",
      "[8]\tvalidation_0-rmse:106.603\tvalidation_1-rmse:100.418\n",
      "[9]\tvalidation_0-rmse:101.054\tvalidation_1-rmse:95.3419\n",
      "[10]\tvalidation_0-rmse:96.3027\tvalidation_1-rmse:91.1889\n",
      "[11]\tvalidation_0-rmse:92.135\tvalidation_1-rmse:87.637\n",
      "[12]\tvalidation_0-rmse:88.4023\tvalidation_1-rmse:84.4912\n",
      "[13]\tvalidation_0-rmse:85.1462\tvalidation_1-rmse:81.8602\n",
      "[14]\tvalidation_0-rmse:82.213\tvalidation_1-rmse:79.3693\n",
      "[15]\tvalidation_0-rmse:79.8028\tvalidation_1-rmse:77.7619\n",
      "[16]\tvalidation_0-rmse:77.6423\tvalidation_1-rmse:76.2152\n",
      "[17]\tvalidation_0-rmse:75.6354\tvalidation_1-rmse:74.6671\n",
      "[18]\tvalidation_0-rmse:74.0132\tvalidation_1-rmse:73.6038\n",
      "[19]\tvalidation_0-rmse:72.6161\tvalidation_1-rmse:72.8243\n",
      "[20]\tvalidation_0-rmse:71.1046\tvalidation_1-rmse:71.9574\n",
      "[21]\tvalidation_0-rmse:70.0316\tvalidation_1-rmse:71.2815\n",
      "[22]\tvalidation_0-rmse:68.7815\tvalidation_1-rmse:70.5822\n",
      "[23]\tvalidation_0-rmse:67.9153\tvalidation_1-rmse:70.0486\n",
      "[24]\tvalidation_0-rmse:67.1386\tvalidation_1-rmse:69.5701\n",
      "[25]\tvalidation_0-rmse:66.1974\tvalidation_1-rmse:69.0866\n",
      "[26]\tvalidation_0-rmse:65.476\tvalidation_1-rmse:68.7104\n",
      "[27]\tvalidation_0-rmse:64.6535\tvalidation_1-rmse:68.4976\n",
      "[28]\tvalidation_0-rmse:64.0754\tvalidation_1-rmse:68.198\n",
      "[29]\tvalidation_0-rmse:63.5266\tvalidation_1-rmse:67.9462\n",
      "[30]\tvalidation_0-rmse:62.881\tvalidation_1-rmse:67.7464\n",
      "[31]\tvalidation_0-rmse:62.2929\tvalidation_1-rmse:67.6279\n",
      "[32]\tvalidation_0-rmse:61.8941\tvalidation_1-rmse:67.6223\n",
      "[33]\tvalidation_0-rmse:61.3339\tvalidation_1-rmse:67.3627\n",
      "[34]\tvalidation_0-rmse:60.9357\tvalidation_1-rmse:67.258\n",
      "[35]\tvalidation_0-rmse:60.3241\tvalidation_1-rmse:67.2349\n",
      "[36]\tvalidation_0-rmse:59.954\tvalidation_1-rmse:67.0273\n",
      "[37]\tvalidation_0-rmse:59.4103\tvalidation_1-rmse:66.7823\n",
      "[38]\tvalidation_0-rmse:59.1378\tvalidation_1-rmse:66.5765\n",
      "[39]\tvalidation_0-rmse:58.811\tvalidation_1-rmse:66.5364\n",
      "[40]\tvalidation_0-rmse:58.4081\tvalidation_1-rmse:66.4734\n",
      "[41]\tvalidation_0-rmse:57.8296\tvalidation_1-rmse:66.4102\n",
      "[42]\tvalidation_0-rmse:57.4701\tvalidation_1-rmse:66.219\n",
      "[43]\tvalidation_0-rmse:57.1879\tvalidation_1-rmse:66.0853\n",
      "[44]\tvalidation_0-rmse:56.9646\tvalidation_1-rmse:65.94\n",
      "[45]\tvalidation_0-rmse:56.6993\tvalidation_1-rmse:65.9293\n",
      "[46]\tvalidation_0-rmse:56.4354\tvalidation_1-rmse:65.6781\n",
      "[47]\tvalidation_0-rmse:56.1881\tvalidation_1-rmse:65.5805\n",
      "[48]\tvalidation_0-rmse:55.881\tvalidation_1-rmse:65.416\n",
      "[49]\tvalidation_0-rmse:55.321\tvalidation_1-rmse:65.2374\n",
      "[50]\tvalidation_0-rmse:55.1085\tvalidation_1-rmse:65.1444\n",
      "[51]\tvalidation_0-rmse:54.8276\tvalidation_1-rmse:65.0805\n",
      "[52]\tvalidation_0-rmse:54.638\tvalidation_1-rmse:65.0402\n",
      "[53]\tvalidation_0-rmse:54.3993\tvalidation_1-rmse:64.9539\n",
      "[54]\tvalidation_0-rmse:54.1952\tvalidation_1-rmse:64.8039\n",
      "[55]\tvalidation_0-rmse:53.8969\tvalidation_1-rmse:64.7488\n",
      "[56]\tvalidation_0-rmse:53.7124\tvalidation_1-rmse:64.6824\n",
      "[57]\tvalidation_0-rmse:53.439\tvalidation_1-rmse:64.6254\n",
      "[58]\tvalidation_0-rmse:53.257\tvalidation_1-rmse:64.6318\n",
      "[59]\tvalidation_0-rmse:53.0828\tvalidation_1-rmse:64.3768\n",
      "[60]\tvalidation_0-rmse:52.8564\tvalidation_1-rmse:64.3381\n",
      "[61]\tvalidation_0-rmse:52.6241\tvalidation_1-rmse:64.2535\n",
      "[62]\tvalidation_0-rmse:52.3805\tvalidation_1-rmse:64.1799\n",
      "[63]\tvalidation_0-rmse:52.201\tvalidation_1-rmse:64.0839\n",
      "[64]\tvalidation_0-rmse:51.9322\tvalidation_1-rmse:64.1607\n",
      "[65]\tvalidation_0-rmse:51.7483\tvalidation_1-rmse:64.0718\n",
      "[66]\tvalidation_0-rmse:51.4723\tvalidation_1-rmse:64.0931\n",
      "[67]\tvalidation_0-rmse:51.3083\tvalidation_1-rmse:63.9868\n",
      "[68]\tvalidation_0-rmse:51.1511\tvalidation_1-rmse:63.9305\n",
      "[69]\tvalidation_0-rmse:50.9988\tvalidation_1-rmse:63.913\n",
      "[70]\tvalidation_0-rmse:50.8114\tvalidation_1-rmse:63.833\n",
      "[71]\tvalidation_0-rmse:50.6279\tvalidation_1-rmse:63.6188\n",
      "[72]\tvalidation_0-rmse:50.4572\tvalidation_1-rmse:63.4668\n",
      "[73]\tvalidation_0-rmse:50.3256\tvalidation_1-rmse:63.362\n",
      "[74]\tvalidation_0-rmse:50.1463\tvalidation_1-rmse:63.3333\n",
      "[75]\tvalidation_0-rmse:50.0169\tvalidation_1-rmse:63.3733\n",
      "[76]\tvalidation_0-rmse:49.8888\tvalidation_1-rmse:63.3228\n",
      "[77]\tvalidation_0-rmse:49.6614\tvalidation_1-rmse:63.2623\n",
      "[78]\tvalidation_0-rmse:49.5214\tvalidation_1-rmse:63.2045\n",
      "[79]\tvalidation_0-rmse:49.3823\tvalidation_1-rmse:63.1195\n",
      "[80]\tvalidation_0-rmse:49.2036\tvalidation_1-rmse:63.1091\n",
      "[81]\tvalidation_0-rmse:49.0519\tvalidation_1-rmse:62.9724\n",
      "[82]\tvalidation_0-rmse:48.9216\tvalidation_1-rmse:62.9094\n",
      "[83]\tvalidation_0-rmse:48.8027\tvalidation_1-rmse:62.8576\n",
      "[84]\tvalidation_0-rmse:48.7055\tvalidation_1-rmse:62.7559\n",
      "[85]\tvalidation_0-rmse:48.4887\tvalidation_1-rmse:62.9065\n",
      "[86]\tvalidation_0-rmse:48.3445\tvalidation_1-rmse:62.9044\n",
      "[87]\tvalidation_0-rmse:48.2332\tvalidation_1-rmse:62.897\n",
      "[88]\tvalidation_0-rmse:48.1672\tvalidation_1-rmse:62.8625\n",
      "[89]\tvalidation_0-rmse:48.0067\tvalidation_1-rmse:62.8997\n",
      "[90]\tvalidation_0-rmse:47.9102\tvalidation_1-rmse:62.884\n",
      "[91]\tvalidation_0-rmse:47.8035\tvalidation_1-rmse:62.8747\n",
      "[92]\tvalidation_0-rmse:47.5241\tvalidation_1-rmse:62.6712\n",
      "[93]\tvalidation_0-rmse:47.4179\tvalidation_1-rmse:62.5897\n",
      "[94]\tvalidation_0-rmse:47.3125\tvalidation_1-rmse:62.5561\n",
      "[95]\tvalidation_0-rmse:47.1088\tvalidation_1-rmse:62.3446\n",
      "[96]\tvalidation_0-rmse:47.0329\tvalidation_1-rmse:62.3442\n",
      "[97]\tvalidation_0-rmse:46.8622\tvalidation_1-rmse:62.356\n",
      "[98]\tvalidation_0-rmse:46.7192\tvalidation_1-rmse:62.3273\n",
      "[99]\tvalidation_0-rmse:46.6227\tvalidation_1-rmse:62.2738\n",
      "r2 score test:  0.643336494607\n",
      "mean absolute error test:  39.3919239246\n",
      "rmse:  3878.02541222\n",
      "r2 score train:  0.845976638034\n",
      "mean score error train:  31.2723970872\n",
      "rmse:  2173.67419982\n"
     ]
    },
    {
     "name": "stderr",
     "output_type": "stream",
     "text": [
      "/Users/juliasuc/anaconda/lib/python3.5/site-packages/xgboost/core.py:587: FutureWarning: Series.base is deprecated and will be removed in a future version\n",
      "  if getattr(data, 'base', None) is not None and \\\n"
     ]
    }
   ],
   "source": [
    "modelbest = xgb.XGBRegressor()\n",
    "modelbest.parameters = model.best_params_\n",
    "eval_set = [(X_train.values, y_train), (X_test.values, y_test)]\n",
    "modelbest = modelbest.fit(X_train.values, y_train.values,eval_metric=\"rmse\", eval_set=eval_set, verbose=True)\n",
    "y_predbest = modelbest.predict(X_test.values)\n",
    "y_train_predbest = modelbest.predict(X_train.values)\n",
    "\n",
    "validation_metrics(y_train, y_train_predbest, y_test,y_predbest)"
   ]
  },
  {
   "cell_type": "markdown",
   "metadata": {},
   "source": [
    "The overfitting effect can be represented on a graph"
   ]
  },
  {
   "cell_type": "code",
   "execution_count": 64,
   "metadata": {
    "collapsed": false
   },
   "outputs": [
    {
     "data": {
      "image/png": "[encoded data removed]",
      "text/plain": [
       "<matplotlib.figure.Figure at 0x11ccadd30>"
      ]
     },
     "metadata": {},
     "output_type": "display_data"
    }
   ],
   "source": [
    "fig, ax = plt.subplots()\n",
    "results = modelbest.evals_result()\n",
    "epochs = len(results['validation_0']['rmse'])\n",
    "x_axis = range(0, epochs)\n",
    "ax.plot(x_axis, results['validation_0']['rmse'], label='Train')\n",
    "ax.plot(x_axis, results['validation_1']['rmse'], label='Test')\n",
    "ax.legend()\n",
    "plt.ylabel('RMSE')\n",
    "plt.xlabel('epoch')\n",
    "plt.title('RMSE Error')\n",
    "plt.show()"
   ]
  },
  {
   "cell_type": "markdown",
   "metadata": {},
   "source": [
    "Add early stopping to avoid overfitting -> it doesn't stop much earlier as indeed the rmse is always decreasing for the testing set"
   ]
  },
  {
   "cell_type": "code",
   "execution_count": 71,
   "metadata": {
    "collapsed": false,
    "scrolled": true
   },
   "outputs": [
    {
     "name": "stdout",
     "output_type": "stream",
     "text": [
      "[0]\tvalidation_0-rmse:189.974\tvalidation_1-rmse:179.779\n",
      "Multiple eval metrics have been passed: 'validation_1-rmse' will be used for early stopping.\n",
      "\n",
      "Will train until validation_1-rmse hasn't improved in 2 rounds.\n",
      "[1]\tvalidation_0-rmse:174.418\tvalidation_1-rmse:164.741\n",
      "[2]\tvalidation_0-rmse:160.646\tvalidation_1-rmse:151.353\n",
      "[3]\tvalidation_0-rmse:148.479\tvalidation_1-rmse:139.687\n",
      "[4]\tvalidation_0-rmse:137.764\tvalidation_1-rmse:129.526\n",
      "[5]\tvalidation_0-rmse:128.367\tvalidation_1-rmse:120.541\n",
      "[6]\tvalidation_0-rmse:120.101\tvalidation_1-rmse:112.731\n",
      "[7]\tvalidation_0-rmse:112.885\tvalidation_1-rmse:106.156\n",
      "[8]\tvalidation_0-rmse:106.603\tvalidation_1-rmse:100.418\n",
      "[9]\tvalidation_0-rmse:101.054\tvalidation_1-rmse:95.3419\n",
      "[10]\tvalidation_0-rmse:96.3027\tvalidation_1-rmse:91.1889\n",
      "[11]\tvalidation_0-rmse:92.135\tvalidation_1-rmse:87.637\n",
      "[12]\tvalidation_0-rmse:88.4023\tvalidation_1-rmse:84.4912\n",
      "[13]\tvalidation_0-rmse:85.1462\tvalidation_1-rmse:81.8602\n",
      "[14]\tvalidation_0-rmse:82.213\tvalidation_1-rmse:79.3693\n",
      "[15]\tvalidation_0-rmse:79.8028\tvalidation_1-rmse:77.7619\n",
      "[16]\tvalidation_0-rmse:77.6423\tvalidation_1-rmse:76.2152\n",
      "[17]\tvalidation_0-rmse:75.6354\tvalidation_1-rmse:74.6671\n",
      "[18]\tvalidation_0-rmse:74.0132\tvalidation_1-rmse:73.6038\n",
      "[19]\tvalidation_0-rmse:72.6161\tvalidation_1-rmse:72.8243\n",
      "[20]\tvalidation_0-rmse:71.1046\tvalidation_1-rmse:71.9574\n",
      "[21]\tvalidation_0-rmse:70.0316\tvalidation_1-rmse:71.2815\n",
      "[22]\tvalidation_0-rmse:68.7815\tvalidation_1-rmse:70.5822\n",
      "[23]\tvalidation_0-rmse:67.9153\tvalidation_1-rmse:70.0486\n",
      "[24]\tvalidation_0-rmse:67.1386\tvalidation_1-rmse:69.5701\n",
      "[25]\tvalidation_0-rmse:66.1974\tvalidation_1-rmse:69.0866\n",
      "[26]\tvalidation_0-rmse:65.476\tvalidation_1-rmse:68.7104\n",
      "[27]\tvalidation_0-rmse:64.6535\tvalidation_1-rmse:68.4976\n",
      "[28]\tvalidation_0-rmse:64.0754\tvalidation_1-rmse:68.198\n",
      "[29]\tvalidation_0-rmse:63.5266\tvalidation_1-rmse:67.9462\n",
      "[30]\tvalidation_0-rmse:62.881\tvalidation_1-rmse:67.7464\n",
      "[31]\tvalidation_0-rmse:62.2929\tvalidation_1-rmse:67.6279\n",
      "[32]\tvalidation_0-rmse:61.8941\tvalidation_1-rmse:67.6223\n",
      "[33]\tvalidation_0-rmse:61.3339\tvalidation_1-rmse:67.3627\n",
      "[34]\tvalidation_0-rmse:60.9357\tvalidation_1-rmse:67.258\n",
      "[35]\tvalidation_0-rmse:60.3241\tvalidation_1-rmse:67.2349\n",
      "[36]\tvalidation_0-rmse:59.954\tvalidation_1-rmse:67.0273\n",
      "[37]\tvalidation_0-rmse:59.4103\tvalidation_1-rmse:66.7823\n",
      "[38]\tvalidation_0-rmse:59.1378\tvalidation_1-rmse:66.5765\n",
      "[39]\tvalidation_0-rmse:58.811\tvalidation_1-rmse:66.5364\n",
      "[40]\tvalidation_0-rmse:58.4081\tvalidation_1-rmse:66.4734\n",
      "[41]\tvalidation_0-rmse:57.8296\tvalidation_1-rmse:66.4102\n",
      "[42]\tvalidation_0-rmse:57.4701\tvalidation_1-rmse:66.219\n",
      "[43]\tvalidation_0-rmse:57.1879\tvalidation_1-rmse:66.0853\n",
      "[44]\tvalidation_0-rmse:56.9646\tvalidation_1-rmse:65.94\n",
      "[45]\tvalidation_0-rmse:56.6993\tvalidation_1-rmse:65.9293\n",
      "[46]\tvalidation_0-rmse:56.4354\tvalidation_1-rmse:65.6781\n",
      "[47]\tvalidation_0-rmse:56.1881\tvalidation_1-rmse:65.5805\n",
      "[48]\tvalidation_0-rmse:55.881\tvalidation_1-rmse:65.416\n",
      "[49]\tvalidation_0-rmse:55.321\tvalidation_1-rmse:65.2374\n",
      "[50]\tvalidation_0-rmse:55.1085\tvalidation_1-rmse:65.1444\n",
      "[51]\tvalidation_0-rmse:54.8276\tvalidation_1-rmse:65.0805\n",
      "[52]\tvalidation_0-rmse:54.638\tvalidation_1-rmse:65.0402\n",
      "[53]\tvalidation_0-rmse:54.3993\tvalidation_1-rmse:64.9539\n",
      "[54]\tvalidation_0-rmse:54.1952\tvalidation_1-rmse:64.8039\n",
      "[55]\tvalidation_0-rmse:53.8969\tvalidation_1-rmse:64.7488\n",
      "[56]\tvalidation_0-rmse:53.7124\tvalidation_1-rmse:64.6824\n",
      "[57]\tvalidation_0-rmse:53.439\tvalidation_1-rmse:64.6254\n",
      "[58]\tvalidation_0-rmse:53.257\tvalidation_1-rmse:64.6318\n",
      "[59]\tvalidation_0-rmse:53.0828\tvalidation_1-rmse:64.3768\n",
      "[60]\tvalidation_0-rmse:52.8564\tvalidation_1-rmse:64.3381\n",
      "[61]\tvalidation_0-rmse:52.6241\tvalidation_1-rmse:64.2535\n",
      "[62]\tvalidation_0-rmse:52.3805\tvalidation_1-rmse:64.1799\n",
      "[63]\tvalidation_0-rmse:52.201\tvalidation_1-rmse:64.0839\n",
      "[64]\tvalidation_0-rmse:51.9322\tvalidation_1-rmse:64.1607\n",
      "[65]\tvalidation_0-rmse:51.7483\tvalidation_1-rmse:64.0718\n",
      "[66]\tvalidation_0-rmse:51.4723\tvalidation_1-rmse:64.0931\n",
      "[67]\tvalidation_0-rmse:51.3083\tvalidation_1-rmse:63.9868\n",
      "[68]\tvalidation_0-rmse:51.1511\tvalidation_1-rmse:63.9305\n",
      "[69]\tvalidation_0-rmse:50.9988\tvalidation_1-rmse:63.913\n",
      "[70]\tvalidation_0-rmse:50.8114\tvalidation_1-rmse:63.833\n",
      "[71]\tvalidation_0-rmse:50.6279\tvalidation_1-rmse:63.6188\n",
      "[72]\tvalidation_0-rmse:50.4572\tvalidation_1-rmse:63.4668\n",
      "[73]\tvalidation_0-rmse:50.3256\tvalidation_1-rmse:63.362\n",
      "[74]\tvalidation_0-rmse:50.1463\tvalidation_1-rmse:63.3333\n",
      "[75]\tvalidation_0-rmse:50.0169\tvalidation_1-rmse:63.3733\n",
      "[76]\tvalidation_0-rmse:49.8888\tvalidation_1-rmse:63.3228\n",
      "[77]\tvalidation_0-rmse:49.6614\tvalidation_1-rmse:63.2623\n",
      "[78]\tvalidation_0-rmse:49.5214\tvalidation_1-rmse:63.2045\n",
      "[79]\tvalidation_0-rmse:49.3823\tvalidation_1-rmse:63.1195\n",
      "[80]\tvalidation_0-rmse:49.2036\tvalidation_1-rmse:63.1091\n",
      "[81]\tvalidation_0-rmse:49.0519\tvalidation_1-rmse:62.9724\n",
      "[82]\tvalidation_0-rmse:48.9216\tvalidation_1-rmse:62.9094\n",
      "[83]\tvalidation_0-rmse:48.8027\tvalidation_1-rmse:62.8576\n",
      "[84]\tvalidation_0-rmse:48.7055\tvalidation_1-rmse:62.7559\n",
      "[85]\tvalidation_0-rmse:48.4887\tvalidation_1-rmse:62.9065\n",
      "[86]\tvalidation_0-rmse:48.3445\tvalidation_1-rmse:62.9044\n",
      "Stopping. Best iteration:\n",
      "[84]\tvalidation_0-rmse:48.7055\tvalidation_1-rmse:62.7559\n",
      "\n",
      "r2 score test:  0.637792396715\n",
      "mean absolute error test:  39.8861518707\n",
      "rmse:  3938.30674796\n",
      "r2 score train:  0.831907825456\n",
      "mean score error train:  32.6040041978\n",
      "rmse:  2372.22209887\n"
     ]
    },
    {
     "name": "stderr",
     "output_type": "stream",
     "text": [
      "/Users/juliasuc/anaconda/lib/python3.5/site-packages/xgboost/core.py:587: FutureWarning: Series.base is deprecated and will be removed in a future version\n",
      "  if getattr(data, 'base', None) is not None and \\\n"
     ]
    }
   ],
   "source": [
    "modelbest = xgb.XGBRegressor()\n",
    "modelbest.parameters = model.best_params_\n",
    "eval_set = [(X_train.values, y_train), (X_test.values, y_test)]\n",
    "modelbest = modelbest.fit(X_train.values, y_train.values,early_stopping_rounds=2, eval_metric=\"rmse\", eval_set=eval_set, verbose=True)\n",
    "y_predbest = modelbest.predict(X_test.values)\n",
    "y_train_predbest = modelbest.predict(X_train.values)\n",
    "\n",
    "validation_metrics(y_train, y_train_predbest, y_test,y_predbest)"
   ]
  },
  {
   "cell_type": "code",
   "execution_count": 69,
   "metadata": {
    "collapsed": false
   },
   "outputs": [
    {
     "data": {
      "image/png": "[encoded data removed]",
      "text/plain": [
       "<matplotlib.figure.Figure at 0x11aff6400>"
      ]
     },
     "metadata": {},
     "output_type": "display_data"
    }
   ],
   "source": [
    "fig, ax = plt.subplots()\n",
    "results = modelbest.evals_result()\n",
    "epochs = len(results['validation_0']['rmse'])\n",
    "x_axis = range(0, epochs)\n",
    "ax.plot(x_axis, results['validation_0']['rmse'], label='Train')\n",
    "ax.plot(x_axis, results['validation_1']['rmse'], label='Test')\n",
    "ax.legend()\n",
    "plt.ylabel('RMSE')\n",
    "plt.xlabel('epoch')\n",
    "plt.title('RMSE Error')\n",
    "plt.show()\n"
   ]
  },
  {
   "cell_type": "markdown",
   "metadata": {},
   "source": [
    "Analysis of the most important features"
   ]
  },
  {
   "cell_type": "code",
   "execution_count": 125,
   "metadata": {
    "collapsed": false
   },
   "outputs": [
    {
     "data": {
      "text/plain": [
       "<matplotlib.axes._subplots.AxesSubplot at 0x11c95a5f8>"
      ]
     },
     "execution_count": 125,
     "metadata": {},
     "output_type": "execute_result"
    },
    {
     "data": {
      "image/png": "[encoded data removed]",
      "text/plain": [
       "<matplotlib.figure.Figure at 0x11c9b7fd0>"
      ]
     },
     "metadata": {},
     "output_type": "display_data"
    }
   ],
   "source": [
    "imp = pd.DataFrame(index= features.tolist())\n",
    "imp['Importance'] = list(modelbest.feature_importances_)\n",
    "imp[imp.Importance>0.01].sort_values(by='Importance',ascending=False).plot(kind='bar',color=tableau20[1],figsize=(15,5))"
   ]
  },
  {
   "cell_type": "markdown",
   "metadata": {
    "collapsed": true
   },
   "source": [
    "# Improvements to the model"
   ]
  },
  {
   "cell_type": "markdown",
   "metadata": {},
   "source": [
    "Increase the number of estimators"
   ]
  },
  {
   "cell_type": "code",
   "execution_count": 10,
   "metadata": {
    "collapsed": false
   },
   "outputs": [
    {
     "name": "stdout",
     "output_type": "stream",
     "text": [
      "Columns with only the same value:  ['scrape_id', 'last_scraped', 'experiences_offered', 'state', 'country_code', 'country', 'calendar_last_scraped', 'requires_license']\n",
      "Check that only $ have been used: $    2478\n",
      "Name: currency, dtype: int64\n",
      "Fitting 3 folds for each of 8 candidates, totalling 24 fits\n",
      "r2 score test:  0.523817886626\n",
      "mean absolute error test:  47.6043147034\n",
      "rmse:  7547.94740146\n",
      "r2 score train:  0.914347456321\n",
      "mean score error train:  25.6406439846\n",
      "rmse:  1362.45885691\n"
     ]
    },
    {
     "name": "stderr",
     "output_type": "stream",
     "text": [
      "[Parallel(n_jobs=1)]: Done  24 out of  24 | elapsed:  3.5min finished\n"
     ]
    }
   ],
   "source": [
    "model = xgb.XGBRegressor()\n",
    "\n",
    "parameters = {#'nthread':[4], #when use hyperthread, xgboost may become slower\n",
    "              'booster':['gbtree'],\n",
    "              'objective':['reg:linear'],\n",
    "              'learning_rate': [0.03,0.05,0.1,0.5], #so called `eta` value\n",
    "              'max_depth': [3],\n",
    "              'min_child_weight': [3],\n",
    "              'n_estimators': [500,1000],\n",
    "              'subsample':[0.5]}  #set to 0.5 to try to avoid overfitting\n",
    "\n",
    "\n",
    "listings_df = pd.read_csv('listings.csv')\n",
    "listings_df = cleaning(listings_df)\n",
    "\n",
    "\n",
    "model, X_train, X_test, y_train, y_test, y_train_pred, y_pred = fit_pred(model,listings_df,parameters,False)\n",
    "\n",
    "\n",
    "\n"
   ]
  },
  {
   "cell_type": "code",
   "execution_count": 11,
   "metadata": {
    "collapsed": false
   },
   "outputs": [
    {
     "name": "stdout",
     "output_type": "stream",
     "text": [
      "r2 score test:  0.523817886626\n",
      "mean absolute error test:  47.6043147034\n",
      "rmse:  7547.94740146\n",
      "r2 score train:  0.914347456321\n",
      "mean score error train:  25.6406439846\n",
      "rmse:  1362.45885691\n",
      "{'n_estimators': 1000, 'max_depth': 3, 'min_child_weight': 3, 'booster': 'gbtree', 'objective': 'reg:linear', 'learning_rate': 0.05, 'subsample': 0.5}\n"
     ]
    }
   ],
   "source": [
    "validation_metrics(y_train, y_train_pred, y_test,y_pred)\n",
    "print(model.best_params_)\n",
    "features = listings_df.drop(['price'],axis=1).columns\n",
    "\n",
    "\n"
   ]
  },
  {
   "cell_type": "markdown",
   "metadata": {},
   "source": [
    "Correct the skew for variables which have a skew higher than 0.75 following article: https://nycdatascience.com/blog/student-works/machine-learning/ames_gnome/"
   ]
  },
  {
   "cell_type": "code",
   "execution_count": 150,
   "metadata": {
    "collapsed": false,
    "scrolled": true
   },
   "outputs": [
    {
     "name": "stdout",
     "output_type": "stream",
     "text": [
      "Columns with only the same value:  ['scrape_id', 'last_scraped', 'experiences_offered', 'state', 'country_code', 'country', 'calendar_last_scraped', 'requires_license']\n",
      "Check that only $ have been used: $    2478\n",
      "Name: currency, dtype: int64\n",
      "Fitting 3 folds for each of 8 candidates, totalling 24 fits\n",
      "r2 score test:  0.730669601518\n",
      "mean absolute error test:  0.232318184113\n",
      "rmse:  0.111385590683\n",
      "r2 score train:  0.891028575823\n",
      "mean score error train:  0.155342586583\n",
      "rmse:  0.0442629513997\n"
     ]
    },
    {
     "name": "stderr",
     "output_type": "stream",
     "text": [
      "[Parallel(n_jobs=1)]: Done  24 out of  24 | elapsed:  3.5min finished\n"
     ]
    }
   ],
   "source": [
    "model = xgb.XGBRegressor()\n",
    "\n",
    "parameters = {#'nthread':[4], #when use hyperthread, xgboost may become slower\n",
    "              'booster':['gbtree'],\n",
    "              'objective':['reg:linear'],\n",
    "              'learning_rate': [0.03,0.05,0.1,0.5], #so called `eta` value\n",
    "              'max_depth': [3],\n",
    "              'min_child_weight': [3],\n",
    "              'n_estimators': [500,1000],\n",
    "              'subsample':[0.5]}  #set to 0.5 to try to avoid overfitting\n",
    "\n",
    "\n",
    "listings_df = pd.read_csv('listings.csv')\n",
    "listings_df = cleaning(listings_df)\n",
    "\n",
    "for c in listings_df.columns:\n",
    "    if listings_df[c].skew()>=0.75:\n",
    "        listings_df[c] = listings_df[c].apply(lambda x: np.log(x+1))\n",
    "\n",
    "model, X_train, X_test, y_train, y_test, y_train_pred, y_pred = fit_pred(model,listings_df,parameters,False)\n",
    "\n",
    "\n"
   ]
  },
  {
   "cell_type": "code",
   "execution_count": 151,
   "metadata": {
    "collapsed": false
   },
   "outputs": [
    {
     "name": "stdout",
     "output_type": "stream",
     "text": [
      "r2 score test:  0.730669601518\n",
      "mean absolute error test:  0.232318184113\n",
      "rmse:  0.111385590683\n",
      "r2 score train:  0.891028575823\n",
      "mean score error train:  0.155342586583\n",
      "rmse:  0.0442629513997\n",
      "{'n_estimators': 1000, 'max_depth': 3, 'min_child_weight': 3, 'booster': 'gbtree', 'objective': 'reg:linear', 'learning_rate': 0.03, 'subsample': 0.5}\n",
      "\n",
      "r2 score test:  0.527033900415\n",
      "mean absolute error test:  41.9075316626\n",
      "rmse:  7496.97047007\n",
      "r2 score train:  0.788402873035\n",
      "mean score error train:  28.2617857642\n",
      "rmse:  3365.83558816\n"
     ]
    }
   ],
   "source": [
    "validation_metrics(y_train, y_train_pred, y_test,y_pred)\n",
    "print(model.best_params_)\n",
    "features = listings_df.drop(['price'],axis=1).columns\n",
    "print()\n",
    "y_train = [np.exp(x)-1 for x in y_train]\n",
    "y_train_pred = [np.exp(x)-1 for x in y_train_pred]\n",
    "y_test = [np.exp(x)-1 for x in y_test]\n",
    "y_pred = [np.exp(x)-1 for x in y_pred]\n",
    "validation_metrics(y_train, y_train_pred, y_test,y_pred)\n"
   ]
  },
  {
   "cell_type": "markdown",
   "metadata": {},
   "source": [
    "Try out the correction with RandomForestRegressor"
   ]
  },
  {
   "cell_type": "code",
   "execution_count": 152,
   "metadata": {
    "collapsed": false
   },
   "outputs": [
    {
     "name": "stdout",
     "output_type": "stream",
     "text": [
      "Columns with only the same value:  ['scrape_id', 'last_scraped', 'experiences_offered', 'state', 'country_code', 'country', 'calendar_last_scraped', 'requires_license']\n",
      "Check that only $ have been used: $    2478\n",
      "Name: currency, dtype: int64\n",
      "Fitting 3 folds for each of 18 candidates, totalling 54 fits\n",
      "r2 score test:  0.714148466742\n",
      "mean absolute error test:  0.250607428804\n",
      "rmse:  0.107642470556\n",
      "r2 score train:  0.793428879913\n",
      "mean score error train:  0.222963181967\n",
      "rmse:  0.0805963115592\n",
      "{'n_estimators': 500, 'max_depth': 6, 'min_samples_split': 2}\n"
     ]
    },
    {
     "name": "stderr",
     "output_type": "stream",
     "text": [
      "[Parallel(n_jobs=1)]: Done  54 out of  54 | elapsed:  4.1min finished\n"
     ]
    }
   ],
   "source": [
    "model = RandomForestRegressor()\n",
    "\n",
    "listings_df = pd.read_csv('listings.csv')\n",
    "listings_df = cleaning(listings_df)\n",
    "parameters = {'n_estimators':[500,1000],\n",
    "             'max_depth':[2,4,6],\n",
    "             'min_samples_split':[2,3,5]}\n",
    "\n",
    "review_list = ['review_scores_rating','review_scores_accuracy','review_scores_cleanliness','review_scores_checkin',\n",
    " 'review_scores_communication',\n",
    " 'review_scores_location',\n",
    " 'review_scores_value']\n",
    "\n",
    "for c in listings_df.columns:\n",
    "    if listings_df[c].skew()>=0.75:\n",
    "        listings_df[c] = listings_df[c].apply(lambda x: np.log(x+1))\n",
    "\n",
    "for c in review_list:\n",
    "    listings_df[c] = listings_df[c].fillna(listings_df[c].mode()[0]) \n",
    "    #fill the non value because no review yest to the most common values to assume the new flats are in the norm\n",
    "\n",
    "listings_df = listings_df.dropna()\n",
    "\n",
    "model, X_train, X_test, y_train, y_test, y_train_pred, y_pred = fit_pred(model,listings_df,parameters,False)\n",
    "print(model.best_params_)"
   ]
  },
  {
   "cell_type": "code",
   "execution_count": 153,
   "metadata": {
    "collapsed": false
   },
   "outputs": [
    {
     "name": "stdout",
     "output_type": "stream",
     "text": [
      "r2 score test:  0.714148466742\n",
      "mean absolute error test:  0.250607428804\n",
      "rmse:  0.107642470556\n",
      "r2 score train:  0.793428879913\n",
      "mean score error train:  0.222963181967\n",
      "rmse:  0.0805963115592\n",
      "{'n_estimators': 500, 'max_depth': 6, 'min_samples_split': 2}\n",
      "\n",
      "r2 score test:  0.5829752041\n",
      "mean absolute error test:  43.9907008877\n",
      "rmse:  5693.27187904\n",
      "r2 score train:  0.719521265018\n",
      "mean score error train:  37.8197114703\n",
      "rmse:  3587.67753046\n"
     ]
    }
   ],
   "source": [
    "validation_metrics(y_train, y_train_pred, y_test,y_pred)\n",
    "print(model.best_params_)\n",
    "print()\n",
    "y_train = [np.exp(x)-1 for x in y_train]\n",
    "y_train_pred = [np.exp(x)-1 for x in y_train_pred]\n",
    "y_test = [np.exp(x)-1 for x in y_test]\n",
    "y_pred = [np.exp(x)-1 for x in y_pred]\n",
    "validation_metrics(y_train, y_train_pred, y_test,y_pred)\n",
    "\n"
   ]
  },
  {
   "cell_type": "markdown",
   "metadata": {},
   "source": [
    "Best results are still obtained with XGBoost.\n",
    "\n",
    "What about stacking both models?\n",
    "Following the explanations in http://blog.kaggle.com/2016/12/27/a-kagglers-guide-to-model-stacking-in-practice/ I have trained the XGBoost and RandomForrest model with the best parameters obtained previously and stacked them using a LinearRegressor model. The stacking model uses as input all the available inputs"
   ]
  },
  {
   "cell_type": "code",
   "execution_count": 219,
   "metadata": {
    "collapsed": false,
    "scrolled": true
   },
   "outputs": [
    {
     "name": "stderr",
     "output_type": "stream",
     "text": [
      "/Users/juliasuc/anaconda/lib/python3.5/site-packages/ipykernel/__main__.py:53: DataConversionWarning: A column-vector y was passed when a 1d array was expected. Please change the shape of y to (n_samples,), for example using ravel().\n",
      "/Users/juliasuc/anaconda/lib/python3.5/site-packages/xgboost/core.py:614: UserWarning: Use subset (sliced data) of np.ndarray is not recommended because it will generate extra copies and increase memory consumption\n",
      "  \"because it will generate extra copies and increase memory consumption\")\n",
      "/Users/juliasuc/anaconda/lib/python3.5/site-packages/ipykernel/__main__.py:53: DataConversionWarning: A column-vector y was passed when a 1d array was expected. Please change the shape of y to (n_samples,), for example using ravel().\n",
      "/Users/juliasuc/anaconda/lib/python3.5/site-packages/xgboost/core.py:614: UserWarning: Use subset (sliced data) of np.ndarray is not recommended because it will generate extra copies and increase memory consumption\n",
      "  \"because it will generate extra copies and increase memory consumption\")\n",
      "/Users/juliasuc/anaconda/lib/python3.5/site-packages/ipykernel/__main__.py:53: DataConversionWarning: A column-vector y was passed when a 1d array was expected. Please change the shape of y to (n_samples,), for example using ravel().\n",
      "/Users/juliasuc/anaconda/lib/python3.5/site-packages/xgboost/core.py:614: UserWarning: Use subset (sliced data) of np.ndarray is not recommended because it will generate extra copies and increase memory consumption\n",
      "  \"because it will generate extra copies and increase memory consumption\")\n",
      "/Users/juliasuc/anaconda/lib/python3.5/site-packages/ipykernel/__main__.py:53: DataConversionWarning: A column-vector y was passed when a 1d array was expected. Please change the shape of y to (n_samples,), for example using ravel().\n",
      "/Users/juliasuc/anaconda/lib/python3.5/site-packages/xgboost/core.py:614: UserWarning: Use subset (sliced data) of np.ndarray is not recommended because it will generate extra copies and increase memory consumption\n",
      "  \"because it will generate extra copies and increase memory consumption\")\n",
      "/Users/juliasuc/anaconda/lib/python3.5/site-packages/ipykernel/__main__.py:53: DataConversionWarning: A column-vector y was passed when a 1d array was expected. Please change the shape of y to (n_samples,), for example using ravel().\n",
      "/Users/juliasuc/anaconda/lib/python3.5/site-packages/xgboost/core.py:614: UserWarning: Use subset (sliced data) of np.ndarray is not recommended because it will generate extra copies and increase memory consumption\n",
      "  \"because it will generate extra copies and increase memory consumption\")\n",
      "/Users/juliasuc/anaconda/lib/python3.5/site-packages/ipykernel/__main__.py:63: DataConversionWarning: A column-vector y was passed when a 1d array was expected. Please change the shape of y to (n_samples,), for example using ravel().\n",
      "/Users/juliasuc/anaconda/lib/python3.5/site-packages/xgboost/core.py:614: UserWarning: Use subset (sliced data) of np.ndarray is not recommended because it will generate extra copies and increase memory consumption\n",
      "  \"because it will generate extra copies and increase memory consumption\")\n"
     ]
    },
    {
     "name": "stdout",
     "output_type": "stream",
     "text": [
      "Columns with only the same value:  ['scrape_id', 'last_scraped', 'experiences_offered', 'state', 'country_code', 'country', 'calendar_last_scraped', 'requires_license']\n",
      "Check that only $ have been used: $    2478\n",
      "Name: currency, dtype: int64\n",
      "r2 score test:  0.705264043171\n",
      "mean absolute error test:  36.3996879922\n",
      "rmse:  4023.77017206\n",
      "r2 score train:  0.998590121751\n",
      "mean score error train:  3.29713034673\n",
      "rmse:  18.0341248168\n"
     ]
    }
   ],
   "source": [
    "listings_df = pd.read_csv('listings.csv')\n",
    "listings_df = cleaning(listings_df)\n",
    "#listings_df = listings_df[listings_df.price<400].copy()\n",
    "review_list = ['review_scores_rating','review_scores_accuracy','review_scores_cleanliness','review_scores_checkin',\n",
    " 'review_scores_communication',\n",
    " 'review_scores_location',\n",
    " 'review_scores_value']\n",
    "\n",
    "\n",
    "for c in review_list:\n",
    "    listings_df[c] = listings_df[c].fillna(listings_df[c].mode()[0]) \n",
    "    #fill the non value because no review yest to the most common values to assume the new flats are in the norm\n",
    "\n",
    "    \n",
    "\n",
    "listings_df = listings_df.dropna()\n",
    "\n",
    "X = listings_df.copy().drop(['price'],axis=1)\n",
    "y = listings_df.price\n",
    "features = X.columns\n",
    "\n",
    "X_train, X_test, y_train, y_test = train_test_split(X, y, test_size=0.33, random_state=42)\n",
    "X_train = X_train.reset_index().drop('index',axis=1)\n",
    "y_train = y_train.reset_index().drop('index',axis=1)\n",
    "\n",
    "\n",
    "kf = KFold(5, True, 1)\n",
    "index_dict[1],index_dict[2],index_dict[3],index_dict[4],index_dict[5] = kf.split(X_train)\n",
    "\n",
    "for fold in range(1,6):\n",
    "    X_train.loc[X_train.index.isin(index_dict[fold][1]),'foldId'] = fold\n",
    "\n",
    "\n",
    "train_meta = X_train.copy()\n",
    "train_meta['rf'] = np.nan\n",
    "train_meta['xgbr'] = np.nan\n",
    "\n",
    "test_meta = X_test.copy()\n",
    "test_meta['rf'] = np.nan\n",
    "test_meta['xgbr'] = np.nan\n",
    "\n",
    "rf = RandomForestRegressor(n_estimators=1000,max_depth=6,min_samples_split=2)\n",
    "xgbr = xgb.XGBRegressor(n_estimators=1000,max_depth=3,min_child_weight=3,booster='gbtree',objective='reg:linear',\n",
    "                        learning_rate= 0.05,subsample= 0.5)\n",
    "\n",
    "for fold in range(1,6):\n",
    "    X_test_temp = X_train.iloc[X_train.index.isin(index_dict[fold][0])].copy().drop('foldId',axis=1)\n",
    "    X_train_temp = X_train.iloc[X_train.index.isin(index_dict[fold][1])].copy().drop('foldId',axis=1)\n",
    "    \n",
    "    y_test_temp = y_train.iloc[y_train.index.isin(index_dict[fold][0])].copy()\n",
    "    y_train_temp = y_train.iloc[y_train.index.isin(index_dict[fold][1])].copy()\n",
    "    \n",
    "    rf = rf.fit(X_train_temp.values, y_train_temp.values)\n",
    "    y_pred = rf.predict(X_train_temp.values)\n",
    "    train_meta.loc[train_meta['foldId']==fold,'rf'] = y_pred.ravel()\n",
    "    \n",
    "    xgbr = xgbr.fit(X_train_temp.values, y_train_temp.values)\n",
    "    y_pred = xgbr.predict(X_train_temp.values)\n",
    "    train_meta.loc[train_meta['foldId']==fold,'xgbr'] = y_pred.ravel()\n",
    "    \n",
    "\n",
    "X_train = X_train.drop('foldId',axis=1)\n",
    "rf = rf.fit(X_train.values, y_train.values)\n",
    "y_pred = rf.predict(X_test.values)\n",
    "test_meta['rf'] = y_pred.ravel()\n",
    "\n",
    "xgbr = xgbr.fit(X_train.values, y_train.values)\n",
    "y_pred = xgbr.predict(X_test.values)\n",
    "test_meta['xgbr'] = y_pred.ravel()\n",
    "    \n",
    "train_meta = train_meta.drop('foldId',axis=1)\n",
    "lr = LinearRegression()\n",
    "\n",
    "train_meta = train_meta[['rf','xgbr']].copy()\n",
    "test_meta = test_meta[['rf','xgbr']].copy()\n",
    "\n",
    "lr = lr.fit(train_meta.values, y_train.values)\n",
    "y_train_pred = lr.predict(train_meta.values)\n",
    "y_pred = lr.predict(test_meta.values)\n",
    "\n",
    "\n",
    "validation_metrics(y_train, y_train_pred, y_test,y_pred)\n"
   ]
  },
  {
   "cell_type": "code",
   "execution_count": 221,
   "metadata": {
    "collapsed": false
   },
   "outputs": [
    {
     "data": {
      "text/plain": [
       "<matplotlib.text.Text at 0x105e66ef0>"
      ]
     },
     "execution_count": 221,
     "metadata": {},
     "output_type": "execute_result"
    },
    {
     "name": "stderr",
     "output_type": "stream",
     "text": [
      "/Users/juliasuc/anaconda/lib/python3.5/site-packages/matplotlib/collections.py:590: FutureWarning: elementwise comparison failed; returning scalar instead, but in the future will perform elementwise comparison\n",
      "  if self._edgecolors == str('face'):\n"
     ]
    },
    {
     "data": {
      "image/png": "[encoded data removed]",
      "text/plain": [
       "<matplotlib.figure.Figure at 0x1151b6c50>"
      ]
     },
     "metadata": {},
     "output_type": "display_data"
    }
   ],
   "source": [
    "result = pd.DataFrame()\n",
    "result['pred'] = y_pred.reshape(y_pred.shape[0],).tolist()\n",
    "result['test'] = y_test.tolist()\n",
    "result['diff'] = (result.pred - result.test)#.abs()\n",
    "result.sort_values(by='diff',ascending=False)\n",
    "plt.scatter(x=result.test.tolist(),y=result['diff'].tolist(),color=tableau20[0])\n",
    "plt.xlabel('Renting prices')\n",
    "plt.ylabel('Difference pred - realized')"
   ]
  },
  {
   "cell_type": "markdown",
   "metadata": {},
   "source": [
    "Using XGBRegressor to stack the model instead of linear regressor. Results are better."
   ]
  },
  {
   "cell_type": "code",
   "execution_count": 207,
   "metadata": {
    "collapsed": false
   },
   "outputs": [
    {
     "name": "stdout",
     "output_type": "stream",
     "text": [
      "Fitting 3 folds for each of 15 candidates, totalling 45 fits\n",
      "r2 score test:  0.703041241111\n",
      "mean absolute error test:  36.2694481232\n",
      "rmse:  4054.11612891\n",
      "r2 score train:  0.994638184905\n",
      "mean score error train:  2.76520349533\n",
      "rmse:  68.5843921162\n"
     ]
    },
    {
     "name": "stderr",
     "output_type": "stream",
     "text": [
      "[Parallel(n_jobs=1)]: Done  45 out of  45 | elapsed:   10.9s finished\n",
      "/Users/juliasuc/anaconda/lib/python3.5/site-packages/xgboost/core.py:614: UserWarning: Use subset (sliced data) of np.ndarray is not recommended because it will generate extra copies and increase memory consumption\n",
      "  \"because it will generate extra copies and increase memory consumption\")\n"
     ]
    }
   ],
   "source": [
    "model = xgb.XGBRegressor()\n",
    "\n",
    "parameters = {#'nthread':[4], #when use hyperthread, xgboost may become slower\n",
    "              'booster':['gbtree'],\n",
    "              'objective':['reg:linear'],\n",
    "              'learning_rate': [0.03,0.05,0.1,0.5,1], #so called `eta` value\n",
    "              'max_depth': [3],\n",
    "              'min_child_weight': [3],\n",
    "              'n_estimators': [250,500,1000],\n",
    "              'subsample':[0.5]}  #set to 0.5 to try to avoid overfitting\n",
    "\n",
    "model = GridSearchCV(model,parameters,cv = 3,verbose=True)\n",
    "\n",
    "model = model.fit(train_meta.values, y_train.values)\n",
    "y_train_pred = model.predict(train_meta.values)\n",
    "y_pred = model.predict(test_meta.values)\n",
    "\n",
    "\n",
    "validation_metrics(y_train, y_train_pred, y_test,y_pred)\n",
    "\n"
   ]
  },
  {
   "cell_type": "code",
   "execution_count": 205,
   "metadata": {
    "collapsed": false
   },
   "outputs": [
    {
     "name": "stdout",
     "output_type": "stream",
     "text": [
      "{'n_estimators': 500, 'max_depth': 3, 'min_child_weight': 3, 'booster': 'gbtree', 'objective': 'reg:linear', 'learning_rate': 0.03, 'subsample': 0.5}\n"
     ]
    }
   ],
   "source": [
    "print(model.best_params_)"
   ]
  },
  {
   "cell_type": "markdown",
   "metadata": {},
   "source": [
    "# Results when removing more outliers"
   ]
  },
  {
   "cell_type": "code",
   "execution_count": 208,
   "metadata": {
    "collapsed": false
   },
   "outputs": [
    {
     "name": "stderr",
     "output_type": "stream",
     "text": [
      "/Users/juliasuc/anaconda/lib/python3.5/site-packages/ipykernel/__main__.py:53: DataConversionWarning: A column-vector y was passed when a 1d array was expected. Please change the shape of y to (n_samples,), for example using ravel().\n",
      "/Users/juliasuc/anaconda/lib/python3.5/site-packages/xgboost/core.py:614: UserWarning: Use subset (sliced data) of np.ndarray is not recommended because it will generate extra copies and increase memory consumption\n",
      "  \"because it will generate extra copies and increase memory consumption\")\n",
      "/Users/juliasuc/anaconda/lib/python3.5/site-packages/ipykernel/__main__.py:53: DataConversionWarning: A column-vector y was passed when a 1d array was expected. Please change the shape of y to (n_samples,), for example using ravel().\n",
      "/Users/juliasuc/anaconda/lib/python3.5/site-packages/xgboost/core.py:614: UserWarning: Use subset (sliced data) of np.ndarray is not recommended because it will generate extra copies and increase memory consumption\n",
      "  \"because it will generate extra copies and increase memory consumption\")\n",
      "/Users/juliasuc/anaconda/lib/python3.5/site-packages/ipykernel/__main__.py:53: DataConversionWarning: A column-vector y was passed when a 1d array was expected. Please change the shape of y to (n_samples,), for example using ravel().\n",
      "/Users/juliasuc/anaconda/lib/python3.5/site-packages/xgboost/core.py:614: UserWarning: Use subset (sliced data) of np.ndarray is not recommended because it will generate extra copies and increase memory consumption\n",
      "  \"because it will generate extra copies and increase memory consumption\")\n",
      "/Users/juliasuc/anaconda/lib/python3.5/site-packages/ipykernel/__main__.py:53: DataConversionWarning: A column-vector y was passed when a 1d array was expected. Please change the shape of y to (n_samples,), for example using ravel().\n",
      "/Users/juliasuc/anaconda/lib/python3.5/site-packages/xgboost/core.py:614: UserWarning: Use subset (sliced data) of np.ndarray is not recommended because it will generate extra copies and increase memory consumption\n",
      "  \"because it will generate extra copies and increase memory consumption\")\n",
      "/Users/juliasuc/anaconda/lib/python3.5/site-packages/ipykernel/__main__.py:53: DataConversionWarning: A column-vector y was passed when a 1d array was expected. Please change the shape of y to (n_samples,), for example using ravel().\n",
      "/Users/juliasuc/anaconda/lib/python3.5/site-packages/xgboost/core.py:614: UserWarning: Use subset (sliced data) of np.ndarray is not recommended because it will generate extra copies and increase memory consumption\n",
      "  \"because it will generate extra copies and increase memory consumption\")\n",
      "/Users/juliasuc/anaconda/lib/python3.5/site-packages/ipykernel/__main__.py:63: DataConversionWarning: A column-vector y was passed when a 1d array was expected. Please change the shape of y to (n_samples,), for example using ravel().\n",
      "/Users/juliasuc/anaconda/lib/python3.5/site-packages/xgboost/core.py:614: UserWarning: Use subset (sliced data) of np.ndarray is not recommended because it will generate extra copies and increase memory consumption\n",
      "  \"because it will generate extra copies and increase memory consumption\")\n"
     ]
    },
    {
     "name": "stdout",
     "output_type": "stream",
     "text": [
      "Columns with only the same value:  ['scrape_id', 'last_scraped', 'experiences_offered', 'state', 'country_code', 'country', 'calendar_last_scraped', 'requires_license']\n",
      "Check that only $ have been used: $    2478\n",
      "Name: currency, dtype: int64\n",
      "r2 score test:  0.744250830546\n",
      "mean absolute error test:  31.064600524\n",
      "rmse:  1786.10612765\n",
      "r2 score train:  0.99894330493\n",
      "mean score error train:  2.11468635507\n",
      "rmse:  7.38784337735\n"
     ]
    }
   ],
   "source": [
    "listings_df = pd.read_csv('listings.csv')\n",
    "listings_df = cleaning(listings_df)\n",
    "listings_df = listings_df[listings_df.price<400].copy()\n",
    "review_list = ['review_scores_rating','review_scores_accuracy','review_scores_cleanliness','review_scores_checkin',\n",
    " 'review_scores_communication',\n",
    " 'review_scores_location',\n",
    " 'review_scores_value']\n",
    "\n",
    "\n",
    "for c in review_list:\n",
    "    listings_df[c] = listings_df[c].fillna(listings_df[c].mode()[0]) \n",
    "    #fill the non value because no review yest to the most common values to assume the new flats are in the norm\n",
    "\n",
    "    \n",
    "\n",
    "listings_df = listings_df.dropna()\n",
    "\n",
    "X = listings_df.copy().drop(['price'],axis=1)\n",
    "y = listings_df.price\n",
    "features = X.columns\n",
    "\n",
    "X_train, X_test, y_train, y_test = train_test_split(X, y, test_size=0.33, random_state=42)\n",
    "X_train = X_train.reset_index().drop('index',axis=1)\n",
    "y_train = y_train.reset_index().drop('index',axis=1)\n",
    "\n",
    "\n",
    "kf = KFold(5, True, 1)\n",
    "index_dict[1],index_dict[2],index_dict[3],index_dict[4],index_dict[5] = kf.split(X_train)\n",
    "\n",
    "for fold in range(1,6):\n",
    "    X_train.loc[X_train.index.isin(index_dict[fold][1]),'foldId'] = fold\n",
    "\n",
    "\n",
    "train_meta = X_train.copy()\n",
    "train_meta['rf'] = np.nan\n",
    "train_meta['xgbr'] = np.nan\n",
    "\n",
    "test_meta = X_test.copy()\n",
    "test_meta['rf'] = np.nan\n",
    "test_meta['xgbr'] = np.nan\n",
    "\n",
    "rf = RandomForestRegressor(n_estimators=1000,max_depth=6,min_samples_split=2)\n",
    "xgbr = xgb.XGBRegressor(n_estimators=1000,max_depth=3,min_child_weight=3,booster='gbtree',objective='reg:linear',\n",
    "                        learning_rate= 0.05,subsample= 0.5)\n",
    "\n",
    "for fold in range(1,6):\n",
    "    X_test_temp = X_train.iloc[X_train.index.isin(index_dict[fold][0])].copy().drop('foldId',axis=1)\n",
    "    X_train_temp = X_train.iloc[X_train.index.isin(index_dict[fold][1])].copy().drop('foldId',axis=1)\n",
    "    \n",
    "    y_test_temp = y_train.iloc[y_train.index.isin(index_dict[fold][0])].copy()\n",
    "    y_train_temp = y_train.iloc[y_train.index.isin(index_dict[fold][1])].copy()\n",
    "    \n",
    "    rf = rf.fit(X_train_temp.values, y_train_temp.values)\n",
    "    y_pred = rf.predict(X_train_temp.values)\n",
    "    train_meta.loc[train_meta['foldId']==fold,'rf'] = y_pred.ravel()\n",
    "    \n",
    "    xgbr = xgbr.fit(X_train_temp.values, y_train_temp.values)\n",
    "    y_pred = xgbr.predict(X_train_temp.values)\n",
    "    train_meta.loc[train_meta['foldId']==fold,'xgbr'] = y_pred.ravel()\n",
    "    \n",
    "\n",
    "X_train = X_train.drop('foldId',axis=1)\n",
    "rf = rf.fit(X_train.values, y_train.values)\n",
    "y_pred = rf.predict(X_test.values)\n",
    "test_meta['rf'] = y_pred.ravel()\n",
    "\n",
    "xgbr = xgbr.fit(X_train.values, y_train.values)\n",
    "y_pred = xgbr.predict(X_test.values)\n",
    "test_meta['xgbr'] = y_pred.ravel()\n",
    "    \n",
    "train_meta = train_meta.drop('foldId',axis=1)\n",
    "lr = LinearRegression()\n",
    "\n",
    "train_meta = train_meta[['rf','xgbr']].copy()\n",
    "test_meta = test_meta[['rf','xgbr']].copy()\n",
    "\n",
    "lr = lr.fit(train_meta.values, y_train.values)\n",
    "y_train_pred = lr.predict(train_meta.values)\n",
    "y_pred = lr.predict(test_meta.values)\n",
    "\n",
    "\n",
    "validation_metrics(y_train, y_train_pred, y_test,y_pred)\n",
    "\n"
   ]
  },
  {
   "cell_type": "code",
   "execution_count": 218,
   "metadata": {
    "collapsed": false
   },
   "outputs": [
    {
     "data": {
      "text/plain": [
       "<matplotlib.text.Text at 0x105e3c160>"
      ]
     },
     "execution_count": 218,
     "metadata": {},
     "output_type": "execute_result"
    },
    {
     "name": "stderr",
     "output_type": "stream",
     "text": [
      "/Users/juliasuc/anaconda/lib/python3.5/site-packages/matplotlib/collections.py:590: FutureWarning: elementwise comparison failed; returning scalar instead, but in the future will perform elementwise comparison\n",
      "  if self._edgecolors == str('face'):\n"
     ]
    },
    {
     "data": {
      "image/png": "[encoded data removed]",
      "text/plain": [
       "<matplotlib.figure.Figure at 0x105e50940>"
      ]
     },
     "metadata": {},
     "output_type": "display_data"
    }
   ],
   "source": [
    "result = pd.DataFrame()\n",
    "result['pred'] = y_pred.reshape(y_pred.shape[0],).tolist()\n",
    "result['test'] = y_test.tolist()\n",
    "result['diff'] = (result.pred - result.test)#.abs()\n",
    "result.sort_values(by='diff',ascending=False)\n",
    "\n",
    "plt.scatter(x=result.test.tolist(),y=result['diff'].tolist(), color=tableau20[0])\n",
    "plt.ylabel(\"Difference pred - expected\");\n",
    "plt.xlabel(\"Expected\");\n",
    "#fig.savefig('Diff pred real.png',bbox_inches='tight')"
   ]
  },
  {
   "cell_type": "code",
   "execution_count": 209,
   "metadata": {
    "collapsed": false
   },
   "outputs": [
    {
     "name": "stdout",
     "output_type": "stream",
     "text": [
      "Fitting 3 folds for each of 15 candidates, totalling 45 fits\n",
      "r2 score test:  0.745109300209\n",
      "mean absolute error test:  30.911309471\n",
      "rmse:  1780.11073017\n",
      "r2 score train:  0.999290917062\n",
      "mean score error train:  1.67885481788\n",
      "rmse:  4.95752638105\n"
     ]
    },
    {
     "name": "stderr",
     "output_type": "stream",
     "text": [
      "[Parallel(n_jobs=1)]: Done  45 out of  45 | elapsed:   12.8s finished\n",
      "/Users/juliasuc/anaconda/lib/python3.5/site-packages/xgboost/core.py:614: UserWarning: Use subset (sliced data) of np.ndarray is not recommended because it will generate extra copies and increase memory consumption\n",
      "  \"because it will generate extra copies and increase memory consumption\")\n"
     ]
    }
   ],
   "source": [
    "model = xgb.XGBRegressor()\n",
    "\n",
    "parameters = {#'nthread':[4], #when use hyperthread, xgboost may become slower\n",
    "              'booster':['gbtree'],\n",
    "              'objective':['reg:linear'],\n",
    "              'learning_rate': [0.03,0.05,0.1,0.5,1], #so called `eta` value\n",
    "              'max_depth': [3],\n",
    "              'min_child_weight': [3],\n",
    "              'n_estimators': [250,500,1000],\n",
    "              'subsample':[0.5]}  #set to 0.5 to try to avoid overfitting\n",
    "\n",
    "model = GridSearchCV(model,parameters,cv = 3,verbose=True)\n",
    "\n",
    "model = model.fit(train_meta.values, y_train.values)\n",
    "y_train_pred = model.predict(train_meta.values)\n",
    "y_pred = model.predict(test_meta.values)\n",
    "\n",
    "\n",
    "validation_metrics(y_train, y_train_pred, y_test,y_pred)\n",
    "\n",
    "\n"
   ]
  },
  {
   "cell_type": "code",
   "execution_count": null,
   "metadata": {
    "collapsed": true
   },
   "outputs": [],
   "source": []
  }
 ],
 "metadata": {
  "kernelspec": {
   "display_name": "Python 3",
   "language": "python",
   "name": "python3"
  },
  "language_info": {
   "codemirror_mode": {
    "name": "ipython",
    "version": 3
   },
   "file_extension": ".py",
   "mimetype": "text/x-python",
   "name": "python",
   "nbconvert_exporter": "python",
   "pygments_lexer": "ipython3",
   "version": "3.5.4"
  }
 },
 "nbformat": 4,
 "nbformat_minor": 0
}
